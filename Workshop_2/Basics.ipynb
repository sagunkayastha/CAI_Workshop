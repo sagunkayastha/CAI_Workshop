{
  "cells": [
    {
      "cell_type": "markdown",
      "metadata": {
        "colab_type": "text",
        "id": "view-in-github"
      },
      "source": [
        "<a href=\"https://colab.research.google.com/github/sagunkayastha/CAI_Workshop/blob/main/Workshop_1/Basics.ipynb\" target=\"_parent\"><img src=\"https://colab.research.google.com/assets/colab-badge.svg\" alt=\"Open In Colab\"/></a>"
      ]
    },
    {
      "cell_type": "markdown",
      "metadata": {
        "id": "xAzkIg3vnWCH"
      },
      "source": [
        "## Basic python"
      ]
    },
    {
      "cell_type": "markdown",
      "metadata": {},
      "source": [
        "#### Basic Keyboard Shortcuts\n",
        "- `Shift + Enter` to run cell\n",
        "- `Escape` to leave cell\n",
        "- `a` to add a cell above\n",
        "- `b` to add a cell below\n",
        "- `dd` to delete a cell\n",
        "- `m` to change cell to Markdown (after pressing escape)\n",
        "- `y` to change cell to Code (after pressing escape)\n",
        "- Arrow keys move cells (after pressing escape)\n",
        "- `Enter` to enter cell   \n",
        "\n",
        "\n",
        "---"
      ]
    },
    {
      "cell_type": "markdown",
      "metadata": {},
      "source": [
        "#### Getting Help\n",
        "- add question mark to end of object\n",
        "- use help(*)"
      ]
    },
    {
      "cell_type": "code",
      "execution_count": 38,
      "metadata": {},
      "outputs": [
        {
          "name": "stdout",
          "output_type": "stream",
          "text": [
            "\u001b[1;31mInit signature:\u001b[0m \u001b[0mlist\u001b[0m\u001b[1;33m(\u001b[0m\u001b[0miterable\u001b[0m\u001b[1;33m=\u001b[0m\u001b[1;33m(\u001b[0m\u001b[1;33m)\u001b[0m\u001b[1;33m,\u001b[0m \u001b[1;33m/\u001b[0m\u001b[1;33m)\u001b[0m\u001b[1;33m\u001b[0m\u001b[1;33m\u001b[0m\u001b[0m\n",
            "\u001b[1;31mDocstring:\u001b[0m     \n",
            "Built-in mutable sequence.\n",
            "\n",
            "If no argument is given, the constructor creates a new empty list.\n",
            "The argument must be an iterable if specified.\n",
            "\u001b[1;31mType:\u001b[0m           type\n",
            "\u001b[1;31mSubclasses:\u001b[0m     _HashedSeq, StackSummary, _Threads, ConvertingList, DeferredConfigList, _ymd, SList, _ImmutableLineList, FormattedText, NodeList, ..."
          ]
        }
      ],
      "source": [
        "list?"
      ]
    },
    {
      "cell_type": "code",
      "execution_count": 39,
      "metadata": {},
      "outputs": [
        {
          "name": "stdout",
          "output_type": "stream",
          "text": [
            "Help on class list in module builtins:\n",
            "\n",
            "class list(object)\n",
            " |  list(iterable=(), /)\n",
            " |  \n",
            " |  Built-in mutable sequence.\n",
            " |  \n",
            " |  If no argument is given, the constructor creates a new empty list.\n",
            " |  The argument must be an iterable if specified.\n",
            " |  \n",
            " |  Methods defined here:\n",
            " |  \n",
            " |  __add__(self, value, /)\n",
            " |      Return self+value.\n",
            " |  \n",
            " |  __contains__(self, key, /)\n",
            " |      Return key in self.\n",
            " |  \n",
            " |  __delitem__(self, key, /)\n",
            " |      Delete self[key].\n",
            " |  \n",
            " |  __eq__(self, value, /)\n",
            " |      Return self==value.\n",
            " |  \n",
            " |  __ge__(self, value, /)\n",
            " |      Return self>=value.\n",
            " |  \n",
            " |  __getattribute__(self, name, /)\n",
            " |      Return getattr(self, name).\n",
            " |  \n",
            " |  __getitem__(...)\n",
            " |      x.__getitem__(y) <==> x[y]\n",
            " |  \n",
            " |  __gt__(self, value, /)\n",
            " |      Return self>value.\n",
            " |  \n",
            " |  __iadd__(self, value, /)\n",
            " |      Implement self+=value.\n",
            " |  \n",
            " |  __imul__(self, value, /)\n",
            " |      Implement self*=value.\n",
            " |  \n",
            " |  __init__(self, /, *args, **kwargs)\n",
            " |      Initialize self.  See help(type(self)) for accurate signature.\n",
            " |  \n",
            " |  __iter__(self, /)\n",
            " |      Implement iter(self).\n",
            " |  \n",
            " |  __le__(self, value, /)\n",
            " |      Return self<=value.\n",
            " |  \n",
            " |  __len__(self, /)\n",
            " |      Return len(self).\n",
            " |  \n",
            " |  __lt__(self, value, /)\n",
            " |      Return self<value.\n",
            " |  \n",
            " |  __mul__(self, value, /)\n",
            " |      Return self*value.\n",
            " |  \n",
            " |  __ne__(self, value, /)\n",
            " |      Return self!=value.\n",
            " |  \n",
            " |  __repr__(self, /)\n",
            " |      Return repr(self).\n",
            " |  \n",
            " |  __reversed__(self, /)\n",
            " |      Return a reverse iterator over the list.\n",
            " |  \n",
            " |  __rmul__(self, value, /)\n",
            " |      Return value*self.\n",
            " |  \n",
            " |  __setitem__(self, key, value, /)\n",
            " |      Set self[key] to value.\n",
            " |  \n",
            " |  __sizeof__(self, /)\n",
            " |      Return the size of the list in memory, in bytes.\n",
            " |  \n",
            " |  append(self, object, /)\n",
            " |      Append object to the end of the list.\n",
            " |  \n",
            " |  clear(self, /)\n",
            " |      Remove all items from list.\n",
            " |  \n",
            " |  copy(self, /)\n",
            " |      Return a shallow copy of the list.\n",
            " |  \n",
            " |  count(self, value, /)\n",
            " |      Return number of occurrences of value.\n",
            " |  \n",
            " |  extend(self, iterable, /)\n",
            " |      Extend list by appending elements from the iterable.\n",
            " |  \n",
            " |  index(self, value, start=0, stop=9223372036854775807, /)\n",
            " |      Return first index of value.\n",
            " |      \n",
            " |      Raises ValueError if the value is not present.\n",
            " |  \n",
            " |  insert(self, index, object, /)\n",
            " |      Insert object before index.\n",
            " |  \n",
            " |  pop(self, index=-1, /)\n",
            " |      Remove and return item at index (default last).\n",
            " |      \n",
            " |      Raises IndexError if list is empty or index is out of range.\n",
            " |  \n",
            " |  remove(self, value, /)\n",
            " |      Remove first occurrence of value.\n",
            " |      \n",
            " |      Raises ValueError if the value is not present.\n",
            " |  \n",
            " |  reverse(self, /)\n",
            " |      Reverse *IN PLACE*.\n",
            " |  \n",
            " |  sort(self, /, *, key=None, reverse=False)\n",
            " |      Sort the list in ascending order and return None.\n",
            " |      \n",
            " |      The sort is in-place (i.e. the list itself is modified) and stable (i.e. the\n",
            " |      order of two equal elements is maintained).\n",
            " |      \n",
            " |      If a key function is given, apply it once to each list item and sort them,\n",
            " |      ascending or descending, according to their function values.\n",
            " |      \n",
            " |      The reverse flag can be set to sort in descending order.\n",
            " |  \n",
            " |  ----------------------------------------------------------------------\n",
            " |  Class methods defined here:\n",
            " |  \n",
            " |  __class_getitem__(...) from builtins.type\n",
            " |      See PEP 585\n",
            " |  \n",
            " |  ----------------------------------------------------------------------\n",
            " |  Static methods defined here:\n",
            " |  \n",
            " |  __new__(*args, **kwargs) from builtins.type\n",
            " |      Create and return a new object.  See help(type) for accurate signature.\n",
            " |  \n",
            " |  ----------------------------------------------------------------------\n",
            " |  Data and other attributes defined here:\n",
            " |  \n",
            " |  __hash__ = None\n",
            "\n"
          ]
        }
      ],
      "source": [
        "help(list)"
      ]
    },
    {
      "cell_type": "code",
      "execution_count": 40,
      "metadata": {},
      "outputs": [],
      "source": [
        "# Example for strings, float, and int\n",
        "\n",
        "# Strings\n",
        "string_variable = \"Hello, World!\"\n",
        "\n",
        "# Float\n",
        "float_variable = 3.14\n",
        "\n",
        "# Int\n",
        "int_variable = 42\n"
      ]
    },
    {
      "cell_type": "code",
      "execution_count": 41,
      "metadata": {},
      "outputs": [
        {
          "name": "stdout",
          "output_type": "stream",
          "text": [
            "1\n",
            "5.0\n",
            "[2, 3, 'four']\n",
            "[1, 2, 3, 'FOUR', 5.0]\n",
            "[1, 2, 3, 'FOUR', 5.0, 'six']\n",
            "[1, 3, 'FOUR', 5.0, 'six']\n"
          ]
        }
      ],
      "source": [
        "# Example of list indexing\n",
        "\n",
        "list_variable = [1, 2, 3, \"four\", 5.0]\n",
        "\n",
        "# Accessing the first element of the list\n",
        "first_element = list_variable[0]\n",
        "print(first_element)  # Output: 1\n",
        "\n",
        "# Accessing the last element of the list\n",
        "last_element = list_variable[-1]\n",
        "print(last_element)  # Output: 5.0\n",
        "\n",
        "# Accessing a range of elements in the list\n",
        "range_of_elements = list_variable[1:4]\n",
        "print(range_of_elements)  # Output: [2, 3, 'four']\n",
        "\n",
        "# Modifying an element in the list\n",
        "list_variable[3] = \"FOUR\"\n",
        "print(list_variable)  # Output: [1, 2, 3, 'FOUR', 5.0]\n",
        "\n",
        "# Adding an element to the end of the list\n",
        "list_variable.append(\"six\")\n",
        "print(list_variable)  # Output: [1, 2, 3, 'FOUR', 5.0, 'six']\n",
        "\n",
        "# Removing an element from the list\n",
        "list_variable.remove(2)\n",
        "print(list_variable)  # Output: [1, 3, 'FOUR', 5.0, 'six']"
      ]
    },
    {
      "cell_type": "code",
      "execution_count": 42,
      "metadata": {},
      "outputs": [
        {
          "name": "stdout",
          "output_type": "stream",
          "text": [
            "John\n",
            "{'name': 'John', 'age': 31, 'city': 'New York'}\n",
            "{'name': 'John', 'age': 31, 'city': 'New York', 'country': 'USA'}\n",
            "{'name': 'John', 'age': 31, 'country': 'USA'}\n"
          ]
        }
      ],
      "source": [
        "# Example of dictionary indexing\n",
        "\n",
        "dict_variable = {\"name\": \"John\", \"age\": 30, \"city\": \"New York\"}\n",
        "\n",
        "# Accessing a value by key\n",
        "name_value = dict_variable[\"name\"]\n",
        "print(name_value)  # Output: John\n",
        "\n",
        "# Modifying a value by key\n",
        "dict_variable[\"age\"] = 31\n",
        "print(dict_variable)  # Output: {'name': 'John', 'age': 31, 'city': 'New York'}\n",
        "\n",
        "# Adding a new key-value pair\n",
        "dict_variable[\"country\"] = \"USA\"\n",
        "print(dict_variable)  # Output: {'name': 'John', 'age': 31, 'city': 'New York', 'country': 'USA'}\n",
        "\n",
        "# Removing a key-value pair\n",
        "del dict_variable[\"city\"]\n",
        "print(dict_variable)  # Output: {'name': 'John', 'age': 31, 'country': 'USA'}"
      ]
    },
    {
      "cell_type": "code",
      "execution_count": 43,
      "metadata": {},
      "outputs": [
        {
          "name": "stdout",
          "output_type": "stream",
          "text": [
            "x is positive\n",
            "0\n",
            "1\n",
            "2\n",
            "3\n",
            "4\n",
            "0\n",
            "1\n",
            "2\n",
            "3\n",
            "4\n",
            "0 0\n",
            "0 1\n",
            "1 0\n",
            "1 1\n",
            "2 0\n",
            "2 1\n"
          ]
        }
      ],
      "source": [
        "# Example of conditional statements and loops\n",
        "\n",
        "# If statement\n",
        "x = 5\n",
        "if x > 0:\n",
        "    print(\"x is positive\")\n",
        "elif x == 0:\n",
        "    print(\"x is zero\")\n",
        "else:\n",
        "    print(\"x is negative\")\n",
        "\n",
        "# While loop\n",
        "i = 0\n",
        "while i < 5:\n",
        "    print(i)\n",
        "    i += 1\n",
        "\n",
        "# For loop\n",
        "for i in range(5):\n",
        "    print(i)\n",
        "\n",
        "# Nested loops\n",
        "for i in range(3):\n",
        "    for j in range(2):\n",
        "        print(i, j)\n",
        "\n"
      ]
    },
    {
      "cell_type": "code",
      "execution_count": 44,
      "metadata": {},
      "outputs": [
        {
          "name": "stdout",
          "output_type": "stream",
          "text": [
            "0 100\n",
            "1 200\n",
            "2 300\n",
            "3 400\n",
            "4 500\n"
          ]
        }
      ],
      "source": [
        "# Example of array indexing\n",
        "loop_var = [100,200,300,400,500]\n",
        "# we will use enumerate to get the index and value of the list\n",
        "for i, var in enumerate(loop_var):\n",
        "    print(i, var)"
      ]
    },
    {
      "cell_type": "code",
      "execution_count": 45,
      "metadata": {},
      "outputs": [
        {
          "name": "stdout",
          "output_type": "stream",
          "text": [
            "8\n",
            "13\n",
            "8\n"
          ]
        }
      ],
      "source": [
        "# Define a function to add two numbers\n",
        "def add_numbers(x, y):\n",
        "    return x + y\n",
        "\n",
        "result = add_numbers(3, 5)\n",
        "print(result)\n",
        "\n",
        "# Define a function with a default value for an argument\n",
        "def add_numbers(x, y=10):\n",
        "    return x+y\n",
        "\n",
        "result = add_numbers(3)\n",
        "print(result)\n",
        "result = add_numbers(3,5)\n",
        "print(result)"
      ]
    },
    {
      "cell_type": "markdown",
      "metadata": {},
      "source": [
        "## Numpy"
      ]
    },
    {
      "cell_type": "code",
      "execution_count": 46,
      "metadata": {},
      "outputs": [],
      "source": [
        "import numpy as np"
      ]
    },
    {
      "cell_type": "code",
      "execution_count": 47,
      "metadata": {},
      "outputs": [
        {
          "name": "stdout",
          "output_type": "stream",
          "text": [
            "[1 2 3]\n",
            "<class 'numpy.ndarray'>\n"
          ]
        }
      ],
      "source": [
        "# Create a numpy array\n",
        "a = np.array([1,2,3])\n",
        "print (a)\n",
        "print (type(a))"
      ]
    },
    {
      "cell_type": "code",
      "execution_count": 48,
      "metadata": {},
      "outputs": [
        {
          "data": {
            "text/plain": [
              "1"
            ]
          },
          "execution_count": 48,
          "metadata": {},
          "output_type": "execute_result"
        }
      ],
      "source": [
        "a[0]"
      ]
    },
    {
      "cell_type": "code",
      "execution_count": 49,
      "metadata": {},
      "outputs": [
        {
          "name": "stdout",
          "output_type": "stream",
          "text": [
            "The numpy array is :\n",
            "  [[1 2]\n",
            " [3 4]]\n",
            "The type of the object is  : <class 'numpy.ndarray'>\n",
            "The shape of the object is : (2, 2)\n"
          ]
        }
      ],
      "source": [
        "# Create a 2D numpy array\n",
        "c = np.array( [ [1,2], [3,4] ] )\n",
        "print (\"The numpy array is :\\n \", c)\n",
        "print (\"The type of the object is  :\", type(c))\n",
        "print (\"The shape of the object is :\", c.shape)"
      ]
    },
    {
      "cell_type": "code",
      "execution_count": 50,
      "metadata": {},
      "outputs": [
        {
          "name": "stdout",
          "output_type": "stream",
          "text": [
            "The first object in the numpy array is:  [1 2]\n",
            "The type of the first object is       : <class 'numpy.ndarray'>\n",
            "The shape of the first object is      : (2,)\n"
          ]
        }
      ],
      "source": [
        "# Accessing the first object in the numpy array\n",
        "c0 = c[0]\n",
        "print (\"The first object in the numpy array is: \", c0)\n",
        "print (\"The type of the first object is       :\", type(c0))\n",
        "print (\"The shape of the first object is      :\", c0.shape)"
      ]
    },
    {
      "cell_type": "code",
      "execution_count": 51,
      "metadata": {},
      "outputs": [
        {
          "name": "stdout",
          "output_type": "stream",
          "text": [
            "The first scalar element of the array:  1\n",
            "The type of the scalar element       :  <class 'numpy.int32'>\n"
          ]
        }
      ],
      "source": [
        "# Accessing the first scalar element of the array\n",
        "c00 = c[0][0]\n",
        "print (\"The first scalar element of the array: \", c00)\n",
        "print (\"The type of the scalar element       : \", type(c00))"
      ]
    },
    {
      "cell_type": "code",
      "execution_count": 52,
      "metadata": {},
      "outputs": [
        {
          "name": "stdout",
          "output_type": "stream",
          "text": [
            "[[1 2]\n",
            " [3 4]]\n"
          ]
        }
      ],
      "source": [
        "# Accessing the second scalar element of the array\n",
        "d = np.array( [ [1,2], [3,4] ], dtype='uint8' )\n",
        "print (d)"
      ]
    },
    {
      "cell_type": "code",
      "execution_count": 53,
      "metadata": {},
      "outputs": [
        {
          "name": "stdout",
          "output_type": "stream",
          "text": [
            "[[0.73021986 0.79469719]\n",
            " [0.0509703  0.1571476 ]]\n"
          ]
        }
      ],
      "source": [
        "# Create a random numpy array\n",
        "a = np.random.random((2,2))\n",
        "print (a)"
      ]
    },
    {
      "cell_type": "code",
      "execution_count": 54,
      "metadata": {},
      "outputs": [
        {
          "name": "stdout",
          "output_type": "stream",
          "text": [
            "[1.  1.5 2.  2.5 3.  3.5 4.  4.5 5.  5.5 6.  6.5 7.  7.5 8.  8.5 9.  9.5]\n"
          ]
        }
      ],
      "source": [
        "# Using arange to create a numpy array, \n",
        "a = np.arange(1, 10, 0.5) # start, end, step\n",
        "print (a)"
      ]
    },
    {
      "cell_type": "code",
      "execution_count": 55,
      "metadata": {},
      "outputs": [
        {
          "name": "stdout",
          "output_type": "stream",
          "text": [
            "[1.  1.5 2.  2.5 3.  3.5 4.  4.5 5.  5.5 6. ]\n"
          ]
        }
      ],
      "source": [
        "# Using linspace to create a numpy array, \n",
        "a = np.linspace(1.0, 6.0, 11) # start, end, num-points\n",
        "print (a)"
      ]
    },
    {
      "cell_type": "code",
      "execution_count": 56,
      "metadata": {},
      "outputs": [
        {
          "data": {
            "text/plain": [
              "(1.0, 6.0, 10)"
            ]
          },
          "execution_count": 56,
          "metadata": {},
          "output_type": "execute_result"
        }
      ],
      "source": [
        "# find the min and max of the array\n",
        "a.min(),  a.max(), a.argmax()"
      ]
    },
    {
      "cell_type": "markdown",
      "metadata": {},
      "source": [
        "### Array Math\n",
        "Basic mathematical functions operate elementwise on arrays, and are available both as operator overloads and as functions in the numpy moudle"
      ]
    },
    {
      "cell_type": "code",
      "execution_count": 57,
      "metadata": {},
      "outputs": [
        {
          "name": "stdout",
          "output_type": "stream",
          "text": [
            "x : \n",
            " [[1. 2.]\n",
            " [3. 4.]]\n",
            "y : \n",
            " [[5. 6.]\n",
            " [7. 8.]]\n"
          ]
        }
      ],
      "source": [
        "# Creating two numpy arrays\n",
        "x = np.array([[1,2],[3,4]], dtype=np.float64)\n",
        "y = np.array([[5,6],[7,8]], dtype=np.float64)\n",
        "print (\"x : \\n\", x)\n",
        "print (\"y : \\n\", y)"
      ]
    },
    {
      "cell_type": "code",
      "execution_count": 58,
      "metadata": {},
      "outputs": [
        {
          "data": {
            "text/plain": [
              "array([[ 6.,  8.],\n",
              "       [10., 12.]])"
            ]
          },
          "execution_count": 58,
          "metadata": {},
          "output_type": "execute_result"
        }
      ],
      "source": [
        "# using the + operator and np.add to add the two arrays\n",
        "np.add(x,y) \n",
        "x + y"
      ]
    },
    {
      "cell_type": "code",
      "execution_count": 59,
      "metadata": {},
      "outputs": [
        {
          "data": {
            "text/plain": [
              "array([[19., 22.],\n",
              "       [43., 50.]])"
            ]
          },
          "execution_count": 59,
          "metadata": {},
          "output_type": "execute_result"
        }
      ],
      "source": [
        "# using the - operator and np.subtract to subtract the two arrays\n",
        "np.sqrt(x)\n",
        "# using the * operator and np.multiply to multiply the two arrays\n",
        "np.dot(x,y)"
      ]
    },
    {
      "cell_type": "code",
      "execution_count": 60,
      "metadata": {},
      "outputs": [
        {
          "data": {
            "text/plain": [
              "array([[0.42564582, 0.2151458 , 0.24627383, 0.80482403, 0.71388384],\n",
              "       [0.4422747 , 0.78443323, 0.49659215, 0.21289006, 0.60799693],\n",
              "       [0.62406331, 0.98768031, 0.55080687, 0.17582894, 0.18815458],\n",
              "       [0.7129944 , 0.68421928, 0.13134463, 0.71570256, 0.92331277],\n",
              "       [0.413302  , 0.07945783, 0.33217926, 0.40929441, 0.17592446]])"
            ]
          },
          "execution_count": 60,
          "metadata": {},
          "output_type": "execute_result"
        }
      ],
      "source": [
        "# creating a numpy array of shape (5,5) with random values\n",
        "arr = np.random.random((5,5))\n",
        "arr"
      ]
    },
    {
      "cell_type": "code",
      "execution_count": 61,
      "metadata": {},
      "outputs": [
        {
          "data": {
            "text/plain": [
              "array([[0.42564582, 0.2151458 , 0.24627383, 0.80482403, 0.71388384,\n",
              "        0.4422747 , 0.78443323, 0.49659215, 0.21289006, 0.60799693,\n",
              "        0.62406331, 0.98768031, 0.55080687, 0.17582894, 0.18815458,\n",
              "        0.7129944 , 0.68421928, 0.13134463, 0.71570256, 0.92331277,\n",
              "        0.413302  , 0.07945783, 0.33217926, 0.40929441, 0.17592446]])"
            ]
          },
          "execution_count": 61,
          "metadata": {},
          "output_type": "execute_result"
        }
      ],
      "source": [
        "# reshaping the array to (1,25)\n",
        "arr2 = np.reshape(arr, (1,25))\n",
        "arr2"
      ]
    },
    {
      "cell_type": "code",
      "execution_count": 62,
      "metadata": {},
      "outputs": [
        {
          "name": "stdout",
          "output_type": "stream",
          "text": [
            "[5 6 7 8 9]\n",
            "[False False False  True  True]\n"
          ]
        }
      ],
      "source": [
        "\n",
        "a = np.arange(5,10)\n",
        "print(a)\n",
        "bool_a = a > 7\n",
        "print (bool_a)"
      ]
    },
    {
      "cell_type": "markdown",
      "metadata": {
        "id": "oP31_7G6nWCM"
      },
      "source": [
        "## Virtual Environment and Conda environment\n",
        "\n",
        "Virtual environments and Conda environments provide a way to manage project-specific dependencies and isolate them from the system-wide Python installation.\n",
        "\n",
        " Virtual environments are Python-specific and can be created using tools like virtualenv or venv, while Conda is a more comprehensive package and environment management system that can handle packages from multiple languages. Conda is particularly useful for data science and scientific computing projects."
      ]
    },
    {
      "cell_type": "markdown",
      "metadata": {
        "id": "SMsHCc5LnWCM"
      },
      "source": [
        "## Create a virtual environment named \"myenv\"\n",
        "python -m venv myenv\n",
        "\n",
        "myenv\\Scripts\\activate\n",
        "\n",
        "source myenv/bin/activate\n",
        "\n",
        "pip install numpy\n",
        "\n",
        "deactivate\n",
        "\n",
        "\n",
        "## Create a Conda environment:\n",
        "conda create --name mycondaenv python=3.7\n",
        "\n",
        "conda activate mycondaenv\n",
        "\n",
        "conda install numpy\n",
        "\n",
        "conda deactivate\n",
        "\n",
        "\n",
        "**Conda is a versatile choice for complex projects with diverse dependencies, while virtualenv is a lightweight option for Python-specific environments. Consider your project's requirements and the broader ecosystem in which you're working when making your decision.**"
      ]
    },
    {
      "cell_type": "code",
      "execution_count": 63,
      "metadata": {
        "id": "StWwC2uZnWCM"
      },
      "outputs": [
        {
          "name": "stdout",
          "output_type": "stream",
          "text": [
            "Requirements written to requirements.txt\n"
          ]
        }
      ],
      "source": [
        "# Define the list of packages and their versions\n",
        "packages = [\n",
        "    \"matplotlib==3.1.1\",\n",
        "    \"requests==2.22.0\",\n",
        "    \"pandas==0.25.3\",\n",
        "    \"seaborn==0.9.0\",\n",
        "    \"numpy==1.17.4\",\n",
        "    \"ipython==7.10.1\",\n",
        "    \"beautifulsoup4==4.8.1\",\n",
        "    \"graphviz==0.13.2\",\n",
        "    \"mlxtend==0.17.0\",\n",
        "    \"watermark==2.0.2\",\n",
        "    \"scikit-learn==0.22\",\n",
        "    \"ipython-sql==0.3.9\",\n",
        "    \"joblib==0.14.1\"\n",
        "]\n",
        "\n",
        "# Specify the name of the output file\n",
        "output_file = \"requirements.txt\"\n",
        "\n",
        "# Write the package names and versions to the requirements.txt file\n",
        "with open(output_file, \"w\") as f:\n",
        "    for package in packages:\n",
        "        f.write(package + \"\\n\")\n",
        "\n",
        "print(f\"Requirements written to {output_file}\")\n"
      ]
    },
    {
      "cell_type": "code",
      "execution_count": 64,
      "metadata": {
        "id": "EovKNQSTnWCN"
      },
      "outputs": [
        {
          "name": "stdout",
          "output_type": "stream",
          "text": [
            "YAML configuration written to myenv.yml\n"
          ]
        }
      ],
      "source": [
        "import yaml\n",
        "\n",
        "# Define the YAML configuration\n",
        "yaml_config = \"\"\"\n",
        "name: myenv\n",
        "channels:\n",
        "  - defaults\n",
        "dependencies:\n",
        "  - python=3.7   # Specify the Python version\n",
        "  - matplotlib=3.1.1\n",
        "  - requests=2.22.0\n",
        "  - pandas=0.25.3\n",
        "  - seaborn=0.9.0\n",
        "  - numpy=1.17.4\n",
        "  - ipython=7.10.1\n",
        "  - beautifulsoup4=4.8.1\n",
        "  - graphviz=0.13.2\n",
        "  - mlxtend=0.17.0\n",
        "  - watermark=2.0.2\n",
        "  - scikit-learn=0.22\n",
        "  - ipython-sql=0.3.9\n",
        "  - joblib=0.14.1\n",
        "\n",
        "\"\"\"\n",
        "\n",
        "# Specify the name of the output YAML file\n",
        "output_file = \"myenv.yml\"\n",
        "\n",
        "# Write the YAML configuration to the file\n",
        "with open(output_file, \"w\") as f:\n",
        "    f.write(yaml_config)\n",
        "\n",
        "print(f\"YAML configuration written to {output_file}\")\n"
      ]
    },
    {
      "cell_type": "markdown",
      "metadata": {
        "id": "t7JKopi2nWCN"
      },
      "source": [
        "pip install -r requirement.txt\n",
        "\n",
        "or\n",
        "\n",
        "conda env create -f myenv.yml\n",
        "\n",
        "--------------------------------"
      ]
    },
    {
      "cell_type": "markdown",
      "metadata": {
        "id": "H21SOqt0nWCO"
      },
      "source": []
    },
    {
      "cell_type": "markdown",
      "metadata": {
        "id": "Z_u3PUx5nWCP"
      },
      "source": [
        "## Magic Function\n",
        "The percent signs, % and %%, are one of the basic features of Jupyter Notebook\n",
        "and are called magic commands. Magic commands starting with %% will apply to\n",
        "the entire cell, while magic commands starting with % will only apply to that line."
      ]
    },
    {
      "cell_type": "markdown",
      "metadata": {
        "id": "bS8y9FCinWCP"
      },
      "source": []
    },
    {
      "cell_type": "code",
      "execution_count": 65,
      "metadata": {
        "id": "HUxABh2WnWCP"
      },
      "outputs": [
        {
          "data": {
            "application/json": {
              "cell": {
                "!": "OSMagics",
                "HTML": "Other",
                "SVG": "Other",
                "bash": "Other",
                "capture": "ExecutionMagics",
                "cmd": "Other",
                "debug": "ExecutionMagics",
                "file": "Other",
                "html": "DisplayMagics",
                "javascript": "DisplayMagics",
                "js": "DisplayMagics",
                "latex": "DisplayMagics",
                "markdown": "DisplayMagics",
                "perl": "Other",
                "prun": "ExecutionMagics",
                "pypy": "Other",
                "python": "Other",
                "python2": "Other",
                "python3": "Other",
                "ruby": "Other",
                "script": "ScriptMagics",
                "sh": "Other",
                "svg": "DisplayMagics",
                "sx": "OSMagics",
                "system": "OSMagics",
                "time": "ExecutionMagics",
                "timeit": "ExecutionMagics",
                "writefile": "OSMagics"
              },
              "line": {
                "alias": "OSMagics",
                "alias_magic": "BasicMagics",
                "autoawait": "AsyncMagics",
                "autocall": "AutoMagics",
                "automagic": "AutoMagics",
                "autosave": "KernelMagics",
                "bookmark": "OSMagics",
                "cd": "OSMagics",
                "clear": "KernelMagics",
                "cls": "KernelMagics",
                "colors": "BasicMagics",
                "conda": "PackagingMagics",
                "config": "ConfigMagics",
                "connect_info": "KernelMagics",
                "copy": "Other",
                "ddir": "Other",
                "debug": "ExecutionMagics",
                "dhist": "OSMagics",
                "dirs": "OSMagics",
                "doctest_mode": "BasicMagics",
                "echo": "Other",
                "ed": "Other",
                "edit": "KernelMagics",
                "env": "OSMagics",
                "gui": "BasicMagics",
                "hist": "Other",
                "history": "HistoryMagics",
                "killbgscripts": "ScriptMagics",
                "ldir": "Other",
                "less": "KernelMagics",
                "load": "CodeMagics",
                "load_ext": "ExtensionMagics",
                "loadpy": "CodeMagics",
                "logoff": "LoggingMagics",
                "logon": "LoggingMagics",
                "logstart": "LoggingMagics",
                "logstate": "LoggingMagics",
                "logstop": "LoggingMagics",
                "ls": "Other",
                "lsmagic": "BasicMagics",
                "macro": "ExecutionMagics",
                "magic": "BasicMagics",
                "matplotlib": "PylabMagics",
                "mkdir": "Other",
                "more": "KernelMagics",
                "notebook": "BasicMagics",
                "page": "BasicMagics",
                "pastebin": "CodeMagics",
                "pdb": "ExecutionMagics",
                "pdef": "NamespaceMagics",
                "pdoc": "NamespaceMagics",
                "pfile": "NamespaceMagics",
                "pinfo": "NamespaceMagics",
                "pinfo2": "NamespaceMagics",
                "pip": "PackagingMagics",
                "popd": "OSMagics",
                "pprint": "BasicMagics",
                "precision": "BasicMagics",
                "prun": "ExecutionMagics",
                "psearch": "NamespaceMagics",
                "psource": "NamespaceMagics",
                "pushd": "OSMagics",
                "pwd": "OSMagics",
                "pycat": "OSMagics",
                "pylab": "PylabMagics",
                "qtconsole": "KernelMagics",
                "quickref": "BasicMagics",
                "recall": "HistoryMagics",
                "rehashx": "OSMagics",
                "reload_ext": "ExtensionMagics",
                "ren": "Other",
                "rep": "Other",
                "rerun": "HistoryMagics",
                "reset": "NamespaceMagics",
                "reset_selective": "NamespaceMagics",
                "rmdir": "Other",
                "run": "ExecutionMagics",
                "save": "CodeMagics",
                "sc": "OSMagics",
                "set_env": "OSMagics",
                "store": "StoreMagics",
                "sx": "OSMagics",
                "system": "OSMagics",
                "tb": "ExecutionMagics",
                "time": "ExecutionMagics",
                "timeit": "ExecutionMagics",
                "unalias": "OSMagics",
                "unload_ext": "ExtensionMagics",
                "who": "NamespaceMagics",
                "who_ls": "NamespaceMagics",
                "whos": "NamespaceMagics",
                "xdel": "NamespaceMagics",
                "xmode": "BasicMagics"
              }
            },
            "text/plain": [
              "Available line magics:\n",
              "%alias  %alias_magic  %autoawait  %autocall  %automagic  %autosave  %bookmark  %cd  %clear  %cls  %colors  %conda  %config  %connect_info  %copy  %ddir  %debug  %dhist  %dirs  %doctest_mode  %echo  %ed  %edit  %env  %gui  %hist  %history  %killbgscripts  %ldir  %less  %load  %load_ext  %loadpy  %logoff  %logon  %logstart  %logstate  %logstop  %ls  %lsmagic  %macro  %magic  %matplotlib  %mkdir  %more  %notebook  %page  %pastebin  %pdb  %pdef  %pdoc  %pfile  %pinfo  %pinfo2  %pip  %popd  %pprint  %precision  %prun  %psearch  %psource  %pushd  %pwd  %pycat  %pylab  %qtconsole  %quickref  %recall  %rehashx  %reload_ext  %ren  %rep  %rerun  %reset  %reset_selective  %rmdir  %run  %save  %sc  %set_env  %store  %sx  %system  %tb  %time  %timeit  %unalias  %unload_ext  %who  %who_ls  %whos  %xdel  %xmode\n",
              "\n",
              "Available cell magics:\n",
              "%%!  %%HTML  %%SVG  %%bash  %%capture  %%cmd  %%debug  %%file  %%html  %%javascript  %%js  %%latex  %%markdown  %%perl  %%prun  %%pypy  %%python  %%python2  %%python3  %%ruby  %%script  %%sh  %%svg  %%sx  %%system  %%time  %%timeit  %%writefile\n",
              "\n",
              "Automagic is ON, % prefix IS NOT needed for line magics."
            ]
          },
          "execution_count": 65,
          "metadata": {},
          "output_type": "execute_result"
        }
      ],
      "source": [
        "%lsmagic"
      ]
    },
    {
      "cell_type": "code",
      "execution_count": 66,
      "metadata": {
        "id": "noaPlIZ-nWCP"
      },
      "outputs": [
        {
          "name": "stderr",
          "output_type": "stream",
          "text": [
            "A subdirectory or file test already exists.\n"
          ]
        }
      ],
      "source": [
        "%mkdir test"
      ]
    },
    {
      "cell_type": "code",
      "execution_count": 67,
      "metadata": {
        "id": "3Wm7Lg_ynWCP"
      },
      "outputs": [
        {
          "name": "stderr",
          "output_type": "stream",
          "text": [
            "UsageError: Line magic function `%$%time` not found.\n"
          ]
        }
      ],
      "source": [
        "\n",
        "%$%time\n",
        "import numpy as np\n",
        "\n",
        "# Create a large array of random numbers\n",
        "a = np.random.rand(int(1e7))\n",
        "\n",
        "# Get runtime for the entire cell\n",
        "\n",
        "# Calculate the square root of each element in the array\n",
        "for i in range(len(a)):\n",
        "    a[i] = np.sqrt(a[i])\n"
      ]
    },
    {
      "cell_type": "code",
      "execution_count": 68,
      "metadata": {
        "id": "Au2u-5P2nWCQ"
      },
      "outputs": [
        {
          "name": "stdout",
          "output_type": "stream",
          "text": [
            "CPU times: total: 0 ns\n",
            "Wall time: 0 ns\n"
          ]
        },
        {
          "data": {
            "text/plain": [
              "\"CPU time measures the actual time the CPU spends executing code, while wall time includes all time elapsed from the program's start to its completion, including time spent waiting for external resources or system-related delays.\\n\\n\""
            ]
          },
          "execution_count": 68,
          "metadata": {},
          "output_type": "execute_result"
        }
      ],
      "source": [
        "# Get runtime for one line\n",
        "%time a = [np.sqrt(_a) for _a in a]\n",
        "\"\"\"CPU time measures the actual time the CPU spends executing code, while wall time includes all time elapsed from the program's start to its completion, including time spent waiting for external resources or system-related delays.\n",
        "\n",
        "\"\"\""
      ]
    },
    {
      "cell_type": "markdown",
      "metadata": {
        "id": "B33zOHFYnWCQ"
      },
      "source": []
    },
    {
      "cell_type": "code",
      "execution_count": 69,
      "metadata": {
        "id": "rx-r2eK4nWCQ"
      },
      "outputs": [
        {
          "name": "stdout",
          "output_type": "stream",
          "text": [
            "\u0000\u0000l\u0000e\u0000a\u0000s\u0000e\u0000 \u0000e\u0000n\u0000a\u0000b\u0000l\u0000e\u0000 \u0000t\u0000h\u0000e\u0000 \u0000V\u0000i\u0000r\u0000t\u0000u\u0000a\u0000l\u0000 \u0000M\u0000a\u0000c\u0000h\u0000i\u0000n\u0000e\u0000 \u0000P\u0000l\u0000a\u0000t\u0000f\u0000o\u0000r\u0000m\u0000 \u0000W\u0000i\u0000n\u0000d\u0000o\u0000w\u0000s\u0000 \u0000f\u0000e\u0000a\u0000t\u0000u\u0000r\u0000e\u0000 \u0000a\u0000n\u0000d\u0000 \u0000e\u0000n\u0000s\u0000u\u0000r\u0000e\u0000 \u0000v\u0000i\u0000r\u0000t\u0000u\u0000a\u0000l\u0000i\u0000z\u0000a\u0000t\u0000i\u0000o\u0000n\u0000 \u0000i\u0000s\u0000 \u0000e\u0000n\u0000a\u0000b\u0000l\u0000e\u0000d\u0000 \u0000i\u0000n\u0000 \u0000t\u0000h\u0000e\u0000 \u0000B\u0000I\u0000O\u0000S\u0000.\u0000\n",
            "\u0000F\u0000o\u0000r\u0000 \u0000i\u0000n\u0000f\u0000o\u0000r\u0000m\u0000a\u0000t\u0000i\u0000o\u0000n\u0000 \u0000p\u0000l\u0000e\u0000a\u0000s\u0000e\u0000 \u0000v\u0000i\u0000s\u0000i\u0000t\u0000 \u0000h\u0000t\u0000t\u0000p\u0000s\u0000:\u0000/\u0000/\u0000a\u0000k\u0000a\u0000.\u0000m\u0000s\u0000/\u0000e\u0000n\u0000a\u0000b\u0000l\u0000e\u0000v\u0000i\u0000r\u0000t\u0000u\u0000a\u0000l\u0000i\u0000z\u0000a\u0000t\u0000i\u0000o\u0000n\u0000\n",
            "\u0000"
          ]
        },
        {
          "ename": "CalledProcessError",
          "evalue": "Command 'b'\\necho \"using bash from inside Jupyter!\" > test-file.txt\\nls\\necho \"\"\\ncat test-file.txt\\n# rm test-file.txt\\n'' returned non-zero exit status 1.",
          "output_type": "error",
          "traceback": [
            "\u001b[1;31m---------------------------------------------------------------------------\u001b[0m",
            "\u001b[1;31mCalledProcessError\u001b[0m                        Traceback (most recent call last)",
            "\u001b[1;32mc:\\Users\\sgnka\\OneDrive - University Of Houston\\EAS\\Extra\\CAI\\CAI_Workshop\\Workshop_2\\Basics.ipynb Cell 45\u001b[0m line \u001b[0;36m1\n\u001b[1;32m----> <a href='vscode-notebook-cell:/c%3A/Users/sgnka/OneDrive%20-%20University%20Of%20Houston/EAS/Extra/CAI/CAI_Workshop/Workshop_2/Basics.ipynb#X65sZmlsZQ%3D%3D?line=0'>1</a>\u001b[0m get_ipython()\u001b[39m.\u001b[39;49mrun_cell_magic(\u001b[39m'\u001b[39;49m\u001b[39mbash\u001b[39;49m\u001b[39m'\u001b[39;49m, \u001b[39m'\u001b[39;49m\u001b[39m'\u001b[39;49m, \u001b[39m'\u001b[39;49m\u001b[39m\\n\u001b[39;49;00m\u001b[39mecho \u001b[39;49m\u001b[39m\"\u001b[39;49m\u001b[39musing bash from inside Jupyter!\u001b[39;49m\u001b[39m\"\u001b[39;49m\u001b[39m > test-file.txt\u001b[39;49m\u001b[39m\\n\u001b[39;49;00m\u001b[39mls\u001b[39;49m\u001b[39m\\n\u001b[39;49;00m\u001b[39mecho \u001b[39;49m\u001b[39m\"\u001b[39;49m\u001b[39m\"\u001b[39;49m\u001b[39m\\n\u001b[39;49;00m\u001b[39mcat test-file.txt\u001b[39;49m\u001b[39m\\n\u001b[39;49;00m\u001b[39m# rm test-file.txt\u001b[39;49m\u001b[39m\\n\u001b[39;49;00m\u001b[39m'\u001b[39;49m)\n",
            "File \u001b[1;32mc:\\Users\\sgnka\\anaconda3\\lib\\site-packages\\IPython\\core\\interactiveshell.py:2430\u001b[0m, in \u001b[0;36mInteractiveShell.run_cell_magic\u001b[1;34m(self, magic_name, line, cell)\u001b[0m\n\u001b[0;32m   2428\u001b[0m \u001b[39mwith\u001b[39;00m \u001b[39mself\u001b[39m\u001b[39m.\u001b[39mbuiltin_trap:\n\u001b[0;32m   2429\u001b[0m     args \u001b[39m=\u001b[39m (magic_arg_s, cell)\n\u001b[1;32m-> 2430\u001b[0m     result \u001b[39m=\u001b[39m fn(\u001b[39m*\u001b[39margs, \u001b[39m*\u001b[39m\u001b[39m*\u001b[39mkwargs)\n\u001b[0;32m   2432\u001b[0m \u001b[39m# The code below prevents the output from being displayed\u001b[39;00m\n\u001b[0;32m   2433\u001b[0m \u001b[39m# when using magics with decodator @output_can_be_silenced\u001b[39;00m\n\u001b[0;32m   2434\u001b[0m \u001b[39m# when the last Python token in the expression is a ';'.\u001b[39;00m\n\u001b[0;32m   2435\u001b[0m \u001b[39mif\u001b[39;00m \u001b[39mgetattr\u001b[39m(fn, magic\u001b[39m.\u001b[39mMAGIC_OUTPUT_CAN_BE_SILENCED, \u001b[39mFalse\u001b[39;00m):\n",
            "File \u001b[1;32mc:\\Users\\sgnka\\anaconda3\\lib\\site-packages\\IPython\\core\\magics\\script.py:153\u001b[0m, in \u001b[0;36mScriptMagics._make_script_magic.<locals>.named_script_magic\u001b[1;34m(line, cell)\u001b[0m\n\u001b[0;32m    151\u001b[0m \u001b[39melse\u001b[39;00m:\n\u001b[0;32m    152\u001b[0m     line \u001b[39m=\u001b[39m script\n\u001b[1;32m--> 153\u001b[0m \u001b[39mreturn\u001b[39;00m \u001b[39mself\u001b[39;49m\u001b[39m.\u001b[39;49mshebang(line, cell)\n",
            "File \u001b[1;32mc:\\Users\\sgnka\\anaconda3\\lib\\site-packages\\IPython\\core\\magics\\script.py:305\u001b[0m, in \u001b[0;36mScriptMagics.shebang\u001b[1;34m(self, line, cell)\u001b[0m\n\u001b[0;32m    300\u001b[0m \u001b[39mif\u001b[39;00m args\u001b[39m.\u001b[39mraise_error \u001b[39mand\u001b[39;00m p\u001b[39m.\u001b[39mreturncode \u001b[39m!=\u001b[39m \u001b[39m0\u001b[39m:\n\u001b[0;32m    301\u001b[0m     \u001b[39m# If we get here and p.returncode is still None, we must have\u001b[39;00m\n\u001b[0;32m    302\u001b[0m     \u001b[39m# killed it but not yet seen its return code. We don't wait for it,\u001b[39;00m\n\u001b[0;32m    303\u001b[0m     \u001b[39m# in case it's stuck in uninterruptible sleep. -9 = SIGKILL\u001b[39;00m\n\u001b[0;32m    304\u001b[0m     rc \u001b[39m=\u001b[39m p\u001b[39m.\u001b[39mreturncode \u001b[39mor\u001b[39;00m \u001b[39m-\u001b[39m\u001b[39m9\u001b[39m\n\u001b[1;32m--> 305\u001b[0m     \u001b[39mraise\u001b[39;00m CalledProcessError(rc, cell)\n",
            "\u001b[1;31mCalledProcessError\u001b[0m: Command 'b'\\necho \"using bash from inside Jupyter!\" > test-file.txt\\nls\\necho \"\"\\ncat test-file.txt\\n# rm test-file.txt\\n'' returned non-zero exit status 1."
          ]
        }
      ],
      "source": [
        "%%bash\n",
        "\n",
        "echo \"using bash from inside Jupyter!\" > test-file.txt\n",
        "ls\n",
        "echo \"\"\n",
        "cat test-file.txt\n",
        "# rm test-file.txt"
      ]
    },
    {
      "cell_type": "code",
      "execution_count": 1,
      "metadata": {
        "id": "Ly1E4yUBnWCQ"
      },
      "outputs": [
        {
          "name": "stdout",
          "output_type": "stream",
          "text": [
            "I am called\n"
          ]
        }
      ],
      "source": [
        "\n",
        "\n",
        "class Calculator:\n",
        "    \n",
        "    def __init__(self, a, b):\n",
        "        self.a = a\n",
        "        self.b = b\n",
        "        \n",
        "    def add(self):\n",
        "        return self.a + self.b\n",
        "    \n",
        "    \n",
        "    \n",
        "    def call(loop_var):\n",
        "        # ask input\n",
        "        # if exit loop_var false\n",
        "        \n",
        "Calculator()\n",
        "obj = Calculator(3, 5)\n",
        "loop_var = True\n",
        "while loop_var == True\n",
        "    obj.call()"
      ]
    },
    {
      "cell_type": "code",
      "execution_count": null,
      "metadata": {},
      "outputs": [],
      "source": []
    }
  ],
  "metadata": {
    "colab": {
      "include_colab_link": true,
      "provenance": []
    },
    "kernelspec": {
      "display_name": "Python 3",
      "name": "python3"
    },
    "language_info": {
      "codemirror_mode": {
        "name": "ipython",
        "version": 3
      },
      "file_extension": ".py",
      "mimetype": "text/x-python",
      "name": "python",
      "nbconvert_exporter": "python",
      "pygments_lexer": "ipython3",
      "version": "3.10.9"
    },
    "orig_nbformat": 4
  },
  "nbformat": 4,
  "nbformat_minor": 0
}
