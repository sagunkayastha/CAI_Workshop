{
  "cells": [
    {
      "cell_type": "markdown",
      "metadata": {
        "id": "view-in-github",
        "colab_type": "text"
      },
      "source": [
        "<a href=\"https://colab.research.google.com/github/sagunkayastha/CAI_Workshop/blob/main/Workshop_2/Basics.ipynb\" target=\"_parent\"><img src=\"https://colab.research.google.com/assets/colab-badge.svg\" alt=\"Open In Colab\"/></a>"
      ]
    },
    {
      "cell_type": "markdown",
      "metadata": {
        "id": "xAzkIg3vnWCH"
      },
      "source": [
        "## Basic python"
      ]
    },
    {
      "cell_type": "markdown",
      "metadata": {
        "id": "-u11RIlSqxzM"
      },
      "source": [
        "#### Basic Keyboard Shortcuts\n",
        "- `Shift + Enter` to run cell\n",
        "- `Escape` to leave cell\n",
        "- `a` to add a cell above\n",
        "- `b` to add a cell below\n",
        "- `dd` to delete a cell\n",
        "- `m` to change cell to Markdown (after pressing escape)\n",
        "- `y` to change cell to Code (after pressing escape)\n",
        "- Arrow keys move cells (after pressing escape)\n",
        "- `Enter` to enter cell   \n",
        "\n",
        "\n",
        "---"
      ]
    },
    {
      "cell_type": "markdown",
      "metadata": {
        "id": "X4yC_l-DqxzN"
      },
      "source": [
        "#### Getting Help\n",
        "- add question mark to end of object\n",
        "- use help(*)"
      ]
    },
    {
      "cell_type": "code",
      "execution_count": null,
      "metadata": {
        "id": "JzyN6pHpqxzN"
      },
      "outputs": [],
      "source": [
        "list?"
      ]
    },
    {
      "cell_type": "code",
      "execution_count": null,
      "metadata": {
        "id": "DfKNtXO1qxzP"
      },
      "outputs": [],
      "source": [
        "help(list)"
      ]
    },
    {
      "cell_type": "code",
      "execution_count": null,
      "metadata": {
        "id": "puX8QxLdqxzP"
      },
      "outputs": [],
      "source": [
        "# Example for strings, float, and int\n",
        "\n",
        "# Strings\n",
        "string_variable = \"Hello, World!\"\n",
        "\n",
        "# Float\n",
        "float_variable = 3.14\n",
        "\n",
        "# Int\n",
        "int_variable = 42\n"
      ]
    },
    {
      "cell_type": "code",
      "execution_count": null,
      "metadata": {
        "id": "E_qRfYzeqxzP"
      },
      "outputs": [],
      "source": [
        "# Example of list indexing\n",
        "\n",
        "list_variable = [1, 2, 3, \"four\", 5.0]\n",
        "\n",
        "# Accessing the first element of the list\n",
        "first_element = list_variable[0]\n",
        "print(first_element)  # Output: 1\n",
        "\n",
        "# Accessing the last element of the list\n",
        "last_element = list_variable[-1]\n",
        "print(last_element)  # Output: 5.0\n",
        "\n",
        "# Accessing a range of elements in the list\n",
        "range_of_elements = list_variable[1:4]\n",
        "print(range_of_elements)  # Output: [2, 3, 'four']\n",
        "\n",
        "# Modifying an element in the list\n",
        "list_variable[3] = \"FOUR\"\n",
        "print(list_variable)  # Output: [1, 2, 3, 'FOUR', 5.0]\n",
        "\n",
        "# Adding an element to the end of the list\n",
        "list_variable.append(\"six\")\n",
        "print(list_variable)  # Output: [1, 2, 3, 'FOUR', 5.0, 'six']\n",
        "\n",
        "# Removing an element from the list\n",
        "list_variable.remove(2)\n",
        "print(list_variable)  # Output: [1, 3, 'FOUR', 5.0, 'six']"
      ]
    },
    {
      "cell_type": "code",
      "execution_count": null,
      "metadata": {
        "id": "zPv_k8DRqxzQ"
      },
      "outputs": [],
      "source": [
        "# Example of dictionary indexing\n",
        "\n",
        "dict_variable = {\"name\": \"John\", \"age\": 30, \"city\": \"New York\"}\n",
        "\n",
        "# Accessing a value by key\n",
        "name_value = dict_variable[\"name\"]\n",
        "print(name_value)  # Output: John\n",
        "\n",
        "# Modifying a value by key\n",
        "dict_variable[\"age\"] = 31\n",
        "print(dict_variable)  # Output: {'name': 'John', 'age': 31, 'city': 'New York'}\n",
        "\n",
        "# Adding a new key-value pair\n",
        "dict_variable[\"country\"] = \"USA\"\n",
        "print(dict_variable)  # Output: {'name': 'John', 'age': 31, 'city': 'New York', 'country': 'USA'}\n",
        "\n",
        "# Removing a key-value pair\n",
        "del dict_variable[\"city\"]\n",
        "print(dict_variable)  # Output: {'name': 'John', 'age': 31, 'country': 'USA'}"
      ]
    },
    {
      "cell_type": "code",
      "execution_count": null,
      "metadata": {
        "id": "0Ll7aZAUqxzQ"
      },
      "outputs": [],
      "source": [
        "# Example of conditional statements and loops\n",
        "\n",
        "# If statement\n",
        "x = 5\n",
        "if x > 0:\n",
        "    print(\"x is positive\")\n",
        "elif x == 0:\n",
        "    print(\"x is zero\")\n",
        "else:\n",
        "    print(\"x is negative\")\n",
        "\n",
        "# While loop\n",
        "i = 0\n",
        "while i < 5:\n",
        "    print(i)\n",
        "    i += 1\n",
        "\n",
        "# For loop\n",
        "for i in range(5):\n",
        "    print(i)\n",
        "\n",
        "# Nested loops\n",
        "for i in range(3):\n",
        "    for j in range(2):\n",
        "        print(i, j)\n",
        "\n"
      ]
    },
    {
      "cell_type": "code",
      "execution_count": null,
      "metadata": {
        "id": "5hY7O_UkqxzR"
      },
      "outputs": [],
      "source": [
        "loop_var = [100,200,300,400,500]\n",
        "for i, var in enumerate(loop_var):\n",
        "    print(i, var)"
      ]
    },
    {
      "cell_type": "code",
      "execution_count": null,
      "metadata": {
        "id": "Ur2QGTf5qxzR"
      },
      "outputs": [],
      "source": [
        "def add_numbers(x, y):\n",
        "    return x + y\n",
        "\n",
        "result = add_numbers(3, 5)\n",
        "print(result)\n",
        "\n",
        "def add_numbers(x, y=10):\n",
        "    return x+y\n",
        "\n",
        "result = add_numbers(3)\n",
        "print(result)\n",
        "result = add_numbers(3,5)\n",
        "print(result)"
      ]
    },
    {
      "cell_type": "markdown",
      "metadata": {
        "id": "lCT-0-vWqxzR"
      },
      "source": [
        "## Numpy"
      ]
    },
    {
      "cell_type": "code",
      "execution_count": null,
      "metadata": {
        "id": "G_SAN12OqxzS"
      },
      "outputs": [],
      "source": [
        "import numpy as np"
      ]
    },
    {
      "cell_type": "code",
      "execution_count": null,
      "metadata": {
        "id": "_ys6roCTqxzS"
      },
      "outputs": [],
      "source": [
        "a = np.array([1,2,3])\n",
        "print (a)\n",
        "print (type(a))"
      ]
    },
    {
      "cell_type": "code",
      "execution_count": null,
      "metadata": {
        "id": "OeipgFceqxzS"
      },
      "outputs": [],
      "source": [
        "a[0]"
      ]
    },
    {
      "cell_type": "code",
      "execution_count": null,
      "metadata": {
        "id": "j1LWzEFyqxzS"
      },
      "outputs": [],
      "source": [
        "c = np.array( [ [1,2], [3,4] ] )\n",
        "print (\"The numpy array is :\\n \", c)\n",
        "print (\"The type of the object is  :\", type(c))\n",
        "print (\"The shape of the object is :\", c.shape)"
      ]
    },
    {
      "cell_type": "code",
      "execution_count": null,
      "metadata": {
        "id": "gVsh-AYWqxzS"
      },
      "outputs": [],
      "source": [
        "c0 = c[0]\n",
        "print (\"The first object in the numpy array is: \", c0)\n",
        "print (\"The type of the first object is       :\", type(c0))\n",
        "print (\"The shape of the first object is      :\", c0.shape)"
      ]
    },
    {
      "cell_type": "code",
      "execution_count": null,
      "metadata": {
        "id": "7c5jLf4KqxzT"
      },
      "outputs": [],
      "source": [
        "c00 = c[0][0]\n",
        "print (\"The first scalar element of the array: \", c00)\n",
        "print (\"The type of the scalar element       : \", type(c00))"
      ]
    },
    {
      "cell_type": "code",
      "execution_count": null,
      "metadata": {
        "id": "6DIAxS0PqxzT"
      },
      "outputs": [],
      "source": [
        "d = np.array( [ [1,2], [3,4] ], dtype='uint8' )\n",
        "print (d)"
      ]
    },
    {
      "cell_type": "code",
      "execution_count": null,
      "metadata": {
        "id": "ofAQGHmiqxzT"
      },
      "outputs": [],
      "source": [
        "a = np.random.random((2,2))\n",
        "print (a)"
      ]
    },
    {
      "cell_type": "code",
      "execution_count": null,
      "metadata": {
        "id": "mo0U_FN2qxzT"
      },
      "outputs": [],
      "source": [
        "a = np.arange(1, 10, 0.5) # start, end, step\n",
        "print (a)"
      ]
    },
    {
      "cell_type": "code",
      "execution_count": null,
      "metadata": {
        "id": "tT2YTl1MqxzT"
      },
      "outputs": [],
      "source": [
        "a = np.linspace(1.0, 6.0, 11) # start, end, num-points\n",
        "print (a)"
      ]
    },
    {
      "cell_type": "code",
      "execution_count": null,
      "metadata": {
        "id": "Gv76J-DVqxzT"
      },
      "outputs": [],
      "source": [
        "a.min()"
      ]
    },
    {
      "cell_type": "code",
      "execution_count": null,
      "metadata": {
        "id": "_kOtBvoxqxzT"
      },
      "outputs": [],
      "source": [
        "a.max()"
      ]
    },
    {
      "cell_type": "code",
      "execution_count": null,
      "metadata": {
        "id": "bJ4_aoAFqxzU"
      },
      "outputs": [],
      "source": [
        "a.argmax()"
      ]
    },
    {
      "cell_type": "markdown",
      "metadata": {
        "id": "9driCjXBqxzU"
      },
      "source": [
        "### Array Math\n",
        "Basic mathematical functions operate elementwise on arrays, and are available both as operator overloads and as functions in the numpy moudle"
      ]
    },
    {
      "cell_type": "code",
      "execution_count": null,
      "metadata": {
        "id": "7FcVjZp2qxzU"
      },
      "outputs": [],
      "source": [
        "x = np.array([[1,2],[3,4]], dtype=np.float64)\n",
        "y = np.array([[5,6],[7,8]], dtype=np.float64)\n",
        "print (\"x : \\n\", x)\n",
        "print (\"y : \\n\", y)"
      ]
    },
    {
      "cell_type": "code",
      "execution_count": null,
      "metadata": {
        "id": "fHZy0aIcqxzU"
      },
      "outputs": [],
      "source": [
        "np.add(x,y)\n",
        "x + y"
      ]
    },
    {
      "cell_type": "code",
      "execution_count": null,
      "metadata": {
        "id": "8Y3-tqRxqxzU"
      },
      "outputs": [],
      "source": [
        "np.sqrt(x)\n",
        "np.dot(x,y)"
      ]
    },
    {
      "cell_type": "code",
      "execution_count": null,
      "metadata": {
        "id": "lhwh5-VYqxzU"
      },
      "outputs": [],
      "source": [
        "arr = np.random.random((5,5))\n",
        "arr"
      ]
    },
    {
      "cell_type": "code",
      "execution_count": null,
      "metadata": {
        "id": "Sgid6oDYqxzU"
      },
      "outputs": [],
      "source": [
        "arr2 = np.reshape(arr, (1,25))\n",
        "arr2"
      ]
    },
    {
      "cell_type": "code",
      "execution_count": null,
      "metadata": {
        "id": "CSrLIDVAqxzV"
      },
      "outputs": [],
      "source": [
        "a = np.arange(5,10)\n",
        "print(a)\n",
        "bool_a = a > 7\n",
        "print (bool_a)"
      ]
    },
    {
      "cell_type": "markdown",
      "metadata": {
        "id": "oP31_7G6nWCM"
      },
      "source": [
        "## Virtual Environment and Conda environment\n",
        "\n",
        "Virtual environments and Conda environments provide a way to manage project-specific dependencies and isolate them from the system-wide Python installation.\n",
        "\n",
        " Virtual environments are Python-specific and can be created using tools like virtualenv or venv, while Conda is a more comprehensive package and environment management system that can handle packages from multiple languages. Conda is particularly useful for data science and scientific computing projects."
      ]
    },
    {
      "cell_type": "code",
      "execution_count": null,
      "metadata": {
        "id": "QssbVtXIqxzV"
      },
      "outputs": [],
      "source": []
    },
    {
      "cell_type": "markdown",
      "metadata": {
        "id": "SMsHCc5LnWCM"
      },
      "source": [
        "## Create a virtual environment named \"myenv\"\n",
        "python -m venv myenv\n",
        "\n",
        "myenv\\Scripts\\activate\n",
        "\n",
        "source myenv/bin/activate\n",
        "\n",
        "pip install numpy\n",
        "\n",
        "deactivate\n",
        "\n",
        "\n",
        "## Create a Conda environment:\n",
        "conda create --name mycondaenv python=3.7\n",
        "\n",
        "conda activate mycondaenv\n",
        "\n",
        "conda install numpy\n",
        "\n",
        "conda deactivate\n",
        "\n",
        "\n",
        "**Conda is a versatile choice for complex projects with diverse dependencies, while virtualenv is a lightweight option for Python-specific environments. Consider your project's requirements and the broader ecosystem in which you're working when making your decision.**"
      ]
    },
    {
      "cell_type": "code",
      "execution_count": null,
      "metadata": {
        "id": "StWwC2uZnWCM"
      },
      "outputs": [],
      "source": [
        "# Define the list of packages and their versions\n",
        "packages = [\n",
        "    \"matplotlib==3.1.1\",\n",
        "    \"requests==2.22.0\",\n",
        "    \"pandas==0.25.3\",\n",
        "    \"seaborn==0.9.0\",\n",
        "    \"numpy==1.17.4\",\n",
        "    \"ipython==7.10.1\",\n",
        "    \"beautifulsoup4==4.8.1\",\n",
        "    \"graphviz==0.13.2\",\n",
        "    \"mlxtend==0.17.0\",\n",
        "    \"watermark==2.0.2\",\n",
        "    \"scikit-learn==0.22\",\n",
        "    \"ipython-sql==0.3.9\",\n",
        "    \"joblib==0.14.1\"\n",
        "]\n",
        "\n",
        "# Specify the name of the output file\n",
        "output_file = \"requirements.txt\"\n",
        "\n",
        "# Write the package names and versions to the requirements.txt file\n",
        "with open(output_file, \"w\") as f:\n",
        "    for package in packages:\n",
        "        f.write(package + \"\\n\")\n",
        "\n",
        "print(f\"Requirements written to {output_file}\")\n"
      ]
    },
    {
      "cell_type": "code",
      "execution_count": null,
      "metadata": {
        "id": "EovKNQSTnWCN"
      },
      "outputs": [],
      "source": [
        "import yaml\n",
        "\n",
        "# Define the YAML configuration\n",
        "yaml_config = \"\"\"\n",
        "name: myenv\n",
        "channels:\n",
        "  - defaults\n",
        "dependencies:\n",
        "  - python=3.7   # Specify the Python version\n",
        "  - matplotlib=3.1.1\n",
        "  - requests=2.22.0\n",
        "  - pandas=0.25.3\n",
        "  - seaborn=0.9.0\n",
        "  - numpy=1.17.4\n",
        "  - ipython=7.10.1\n",
        "  - beautifulsoup4=4.8.1\n",
        "  - graphviz=0.13.2\n",
        "  - mlxtend=0.17.0\n",
        "  - watermark=2.0.2\n",
        "  - scikit-learn=0.22\n",
        "  - ipython-sql=0.3.9\n",
        "  - joblib=0.14.1\n",
        "\n",
        "\"\"\"\n",
        "\n",
        "# Specify the name of the output YAML file\n",
        "output_file = \"myenv.yml\"\n",
        "\n",
        "# Write the YAML configuration to the file\n",
        "with open(output_file, \"w\") as f:\n",
        "    f.write(yaml_config)\n",
        "\n",
        "print(f\"YAML configuration written to {output_file}\")\n"
      ]
    },
    {
      "cell_type": "markdown",
      "metadata": {
        "id": "t7JKopi2nWCN"
      },
      "source": [
        "pip install -r requirement.txt\n",
        "\n",
        "or\n",
        "\n",
        "conda env create -f myenv.yml\n",
        "\n",
        "--------------------------------"
      ]
    },
    {
      "cell_type": "markdown",
      "metadata": {
        "id": "H21SOqt0nWCO"
      },
      "source": []
    },
    {
      "cell_type": "markdown",
      "metadata": {
        "id": "Z_u3PUx5nWCP"
      },
      "source": [
        "## Magic Function\n",
        "The percent signs, % and %%, are one of the basic features of Jupyter Notebook\n",
        "and are called magic commands. Magic commands starting with %% will apply to\n",
        "the entire cell, while magic commands starting with % will only apply to that line."
      ]
    },
    {
      "cell_type": "markdown",
      "metadata": {
        "id": "bS8y9FCinWCP"
      },
      "source": []
    },
    {
      "cell_type": "code",
      "execution_count": null,
      "metadata": {
        "id": "HUxABh2WnWCP"
      },
      "outputs": [],
      "source": [
        "%lsmagic"
      ]
    },
    {
      "cell_type": "code",
      "execution_count": null,
      "metadata": {
        "id": "noaPlIZ-nWCP"
      },
      "outputs": [],
      "source": [
        "%mkdir test"
      ]
    },
    {
      "cell_type": "code",
      "execution_count": null,
      "metadata": {
        "id": "3Wm7Lg_ynWCP"
      },
      "outputs": [],
      "source": [
        "\n",
        "%$%time\n",
        "import numpy as np\n",
        "\n",
        "# Create a large array of random numbers\n",
        "a = np.random.rand(int(1e7))\n",
        "\n",
        "# Get runtime for the entire cell\n",
        "\n",
        "# Calculate the square root of each element in the array\n",
        "for i in range(len(a)):\n",
        "    a[i] = np.sqrt(a[i])\n"
      ]
    },
    {
      "cell_type": "code",
      "execution_count": null,
      "metadata": {
        "id": "Au2u-5P2nWCQ"
      },
      "outputs": [],
      "source": [
        "# Get runtime for one line\n",
        "%time a = [np.sqrt(_a) for _a in a]\n",
        "\"\"\"CPU time measures the actual time the CPU spends executing code, while wall time includes all time elapsed from the program's start to its completion, including time spent waiting for external resources or system-related delays.\n",
        "\n",
        "\"\"\""
      ]
    },
    {
      "cell_type": "markdown",
      "metadata": {
        "id": "B33zOHFYnWCQ"
      },
      "source": []
    },
    {
      "cell_type": "code",
      "execution_count": null,
      "metadata": {
        "id": "rx-r2eK4nWCQ"
      },
      "outputs": [],
      "source": [
        "%%bash\n",
        "\n",
        "echo \"using bash from inside Jupyter!\" > test-file.txt\n",
        "ls\n",
        "echo \"\"\n",
        "cat test-file.txt\n",
        "# rm test-file.txt"
      ]
    },
    {
      "cell_type": "code",
      "execution_count": 1,
      "metadata": {
        "id": "Ly1E4yUBnWCQ"
      },
      "outputs": [
        {
          "name": "stdout",
          "output_type": "stream",
          "text": [
            "I am called\n"
          ]
        }
      ],
      "source": [
        "\n",
        "\n",
        "class Calculator:\n",
        "    \n",
        "    def __init__(self, a, b):\n",
        "        self.a = a\n",
        "        self.b = b\n",
        "        \n",
        "    def add(self):\n",
        "        return self.a + self.b\n",
        "    \n",
        "    \n",
        "    \n",
        "    def call(loop_var):\n",
        "        # ask input\n",
        "        # if exit loop_var false\n",
        "        \n",
        "Calculator()\n",
        "obj = Calculator(3, 5)\n",
        "loop_var = True\n",
        "while loop_var == True\n",
        "    obj.call()"
      ]
    },
    {
      "cell_type": "code",
      "execution_count": null,
      "metadata": {},
      "outputs": [],
      "source": []
    }
  ],
  "metadata": {
    "colab": {
      "provenance": [],
      "include_colab_link": true
    },
    "kernelspec": {
      "display_name": "Python 3",
      "name": "python3"
    },
    "language_info": {
      "codemirror_mode": {
        "name": "ipython",
        "version": 3
      },
      "file_extension": ".py",
      "mimetype": "text/x-python",
      "name": "python",
      "nbconvert_exporter": "python",
      "pygments_lexer": "ipython3",
      "version": "3.10.9"
    },
    "orig_nbformat": 4
  },
  "nbformat": 4,
  "nbformat_minor": 0
}