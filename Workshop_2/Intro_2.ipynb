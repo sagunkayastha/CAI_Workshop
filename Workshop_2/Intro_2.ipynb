{
  "cells": [
    {
      "cell_type": "markdown",
      "metadata": {
        "id": "view-in-github",
        "colab_type": "text"
      },
      "source": [
        "<a href=\"https://colab.research.google.com/github/sagunkayastha/CAI_Workshop/blob/main/Workshop_2/Intro_2.ipynb\" target=\"_parent\"><img src=\"https://colab.research.google.com/assets/colab-badge.svg\" alt=\"Open In Colab\"/></a>"
      ]
    },
    {
      "cell_type": "code",
      "execution_count": null,
      "metadata": {
        "id": "vxD788yUqCh_"
      },
      "outputs": [],
      "source": [
        "\n",
        "import datetime\n",
        "import time\n",
        "import os\n",
        "import pandas as pd\n",
        "import seaborn as sns\n",
        "import matplotlib.pyplot as plt"
      ]
    },
    {
      "cell_type": "code",
      "source": [
        "!wget https://raw.githubusercontent.com/sagunkayastha/CAI_Workshop/main/Workshop_2/UCI_Credit_Card.csv"
      ],
      "metadata": {
        "id": "MdsgKQY4dFak"
      },
      "execution_count": null,
      "outputs": []
    },
    {
      "cell_type": "code",
      "execution_count": null,
      "metadata": {
        "id": "Sg3mxIt-qCiB"
      },
      "outputs": [],
      "source": [
        "# Read the data using pandas into a dataframe called df\n",
        "df = pd.read_csv('UCI_Credit_Card.csv', delimiter=',')\n",
        "df.dataframeName = 'UCI_Credit_Card.csv'\n",
        "nRow, nCol = df.shape\n",
        "print(f'There are {nRow} rows and {nCol} columns')"
      ]
    },
    {
      "cell_type": "code",
      "execution_count": null,
      "metadata": {
        "id": "hEbk33GIqCiC"
      },
      "outputs": [],
      "source": [
        "# Print the first 5 rows of the dataframe\n",
        "df.head()"
      ]
    },
    {
      "cell_type": "markdown",
      "metadata": {
        "id": "WVd2-Nz3qCiC"
      },
      "source": [
        "- ID: An identification number assigned to each individual.\n",
        "- LIMIT_BAL: The amount of available credit (in NT dollar). Includes both individual and family/supplementary credit.\n",
        "- SEX: Gender (1 = male, 2 = female).\n",
        "- EDUCATION: Level of education (1 = graduate school, 2 = university, 3 = high school, 4 = others).\n",
        "- MARRIAGE: Marital status (1 = married, 2 = single, 3 = others).\n",
        "- AGE: Age in years.\n",
        "- PAY_0, PAY_2, ..., PAY_6: Repayment status in past months. The scale is from -1 to 9, where -1 = pay duly, 1 = payment delay for one month, 2 = payment delay for two months, ... , 9 = payment delay for nine months and above.\n",
        "- BILL_AMT1, BILL_AMT2, ..., BILL_AMT6: Amount of bill statement (in NT dollar).\n",
        "- PAY_AMT1, PAY_AMT2, ..., PAY_AMT6: Amount of previous payment (in NT dollar).\n",
        "- default.payment.next.month: Default payment for the next month (1 = yes, 0 = no)."
      ]
    },
    {
      "cell_type": "code",
      "execution_count": null,
      "metadata": {
        "id": "6dM4iWdjqCiD"
      },
      "outputs": [],
      "source": [
        "# we are going to rename some of the columns to make them easier to work with\n",
        "df.rename(columns={'default.payment.next.month':'def_pay'}, inplace=True)\n",
        "df.rename(columns={'PAY_0':'PAY_1'}, inplace=True)"
      ]
    },
    {
      "cell_type": "code",
      "execution_count": null,
      "metadata": {
        "id": "P16_cSC9qCiD"
      },
      "outputs": [],
      "source": [
        "# Descriptive statistics for each column\n",
        "summary_stats = df.describe()\n",
        "summary_stats"
      ]
    },
    {
      "cell_type": "code",
      "execution_count": null,
      "metadata": {
        "id": "bZ1LgfQAqCiE"
      },
      "outputs": [],
      "source": [
        "\n",
        "# Set the aesthetic style of the plots\n",
        "sns.set(style=\"whitegrid\")\n",
        "\n",
        "# Draw histograms for each feature\n",
        "df.hist(figsize=(16, 14), bins=30)\n",
        "plt.suptitle('Feature Distributions', fontsize=20)\n",
        "plt.show()\n"
      ]
    },
    {
      "cell_type": "code",
      "execution_count": null,
      "metadata": {
        "id": "VJz1Sg9rqCiE"
      },
      "outputs": [],
      "source": [
        "# Calculate the correlation matrix\n",
        "correlation_matrix = df.corr()\n",
        "\n",
        "# Generate a heatmap\n",
        "plt.figure(figsize=(14, 10))\n",
        "sns.heatmap(correlation_matrix, annot=True, cmap='coolwarm', fmt=\".2f\")\n",
        "plt.title('Correlation Heatmap', fontsize=20)\n",
        "\n",
        "plt.show()"
      ]
    },
    {
      "cell_type": "code",
      "execution_count": null,
      "metadata": {
        "id": "9LeBBtG9qCiE"
      },
      "outputs": [],
      "source": [
        "# Focus on these columns\n",
        "cols = ['SEX', 'EDUCATION', 'MARRIAGE', 'AGE', 'PAY_1', 'PAY_2', 'BILL_AMT1', 'BILL_AMT2', 'def_pay']\n",
        "\n",
        "# The pairwise correlations\n",
        "df[cols].corr()"
      ]
    },
    {
      "cell_type": "code",
      "execution_count": null,
      "metadata": {
        "id": "QvO50-_4qCiE"
      },
      "outputs": [],
      "source": [
        "# Use\n",
        "ax = sns.heatmap(\n",
        "    df[cols].corr(),annot=True,\n",
        "    cmap=sns.cubehelix_palette(20, light=0.95, dark=0.15),\n",
        ")\n",
        "ax.xaxis.tick_top() # move labels to the top\n"
      ]
    },
    {
      "cell_type": "code",
      "execution_count": null,
      "metadata": {
        "id": "pwUHLoHQqCiE"
      },
      "outputs": [],
      "source": [
        "#\n",
        "def_cnt = (df.def_pay.value_counts(normalize=True)*100)\n",
        "def_cnt.plot.bar(figsize=(6,6))\n",
        "plt.xticks(fontsize=12, rotation=0)\n",
        "plt.yticks(fontsize=12)\n",
        "plt.title(\"Probability Of Defaulting Payment Next Month\", fontsize=15)\n",
        "for x,y in zip([0,1],def_cnt):\n",
        "    plt.text(x,y,y,fontsize=12)\n",
        "plt.show()"
      ]
    },
    {
      "cell_type": "code",
      "execution_count": null,
      "metadata": {
        "id": "9wj7oyUwqCiF"
      },
      "outputs": [],
      "source": [
        "# Plot the distribution of LIMIT_BAL and AGE\n",
        "plt.subplots(figsize=(20,5))\n",
        "plt.subplot(121)\n",
        "sns.distplot(df.LIMIT_BAL)\n",
        "\n",
        "plt.subplot(122)\n",
        "sns.distplot(df.AGE)\n",
        "\n",
        "plt.show()"
      ]
    },
    {
      "cell_type": "markdown",
      "metadata": {
        "id": "BIbILeCeqCiF"
      },
      "source": []
    },
    {
      "cell_type": "code",
      "execution_count": null,
      "metadata": {
        "id": "yilOIPTVqCiF"
      },
      "outputs": [],
      "source": [
        "# Define bins and names for age groups\n",
        "bins = [20,30,40,50,60,70,80]\n",
        "names = ['21-30','31-40','41-50','51-60','61-70','71-80']\n",
        "\n",
        "# Create a new column in the DataFrame to categorize age into bins\n",
        "# 'right=True' includes the right bin edge\n",
        "df['AGE_BIN'] = pd.cut(x=df.AGE, bins=bins, labels=names, right=True)\n",
        "\n",
        "# Count the number of occurrences for each age group\n",
        "age_cnt = df.AGE_BIN.value_counts()\n",
        "\n",
        "# Count the number of occurrences for each age group where 'def_pay' is 0\n",
        "age_0 = (df.AGE_BIN[df['def_pay'] == 0].value_counts())\n",
        "\n",
        "# Count the number of occurrences for each age group where 'def_pay' is 1\n",
        "age_1 = (df.AGE_BIN[df['def_pay'] == 1].value_counts())\n",
        "\n",
        "# Initialize the plot\n",
        "plt.subplots(figsize=(8,5))\n",
        "\n",
        "# Create a bar plot for the age groups where 'def_pay' is 0\n",
        "plt.bar(age_0.index, age_0.values, label='0')\n",
        "\n",
        "# Create a bar plot for the age groups where 'def_pay' is 1\n",
        "plt.bar(age_1.index, age_1.values, label='1')\n",
        "\n",
        "# Annotate the bar chart with the count values for 'def_pay' 0\n",
        "for x, y in zip(names, age_0):\n",
        "    plt.text(x, y, y, fontsize=12)\n",
        "\n",
        "# Annotate the bar chart with the count values for 'def_pay' 1\n",
        "for x, y in zip(names, age_1):\n",
        "    plt.text(x, y, y, fontsize=12)\n",
        "\n",
        "# Customize tick labels\n",
        "plt.xticks(fontsize=12)\n",
        "plt.yticks(fontsize=12)\n",
        "\n",
        "# Add title to the plot\n",
        "plt.title(\"Number of clients in each age group\", fontsize=15)\n",
        "\n",
        "# Add legend to the plot\n",
        "plt.legend(loc='upper right', fontsize=15)\n",
        "\n",
        "# Display the plot\n",
        "plt.show()"
      ]
    },
    {
      "cell_type": "code",
      "execution_count": null,
      "metadata": {
        "id": "dFyRFEEeqCiF"
      },
      "outputs": [],
      "source": [
        "df.drop('AGE_BIN', axis=1, inplace=True)"
      ]
    },
    {
      "cell_type": "markdown",
      "metadata": {
        "id": "EfV2RVIoqCiF"
      },
      "source": [
        "# Modelling"
      ]
    },
    {
      "cell_type": "code",
      "execution_count": null,
      "metadata": {
        "id": "xbxWzw9EqCiG"
      },
      "outputs": [],
      "source": [
        "from mpl_toolkits.mplot3d import Axes3D\n",
        "from sklearn.preprocessing import StandardScaler\n",
        "\n",
        "import seaborn as sns\n",
        "from sklearn.model_selection import train_test_split\n",
        "from sklearn.linear_model import LogisticRegression, RidgeClassifier\n",
        "from sklearn.metrics import accuracy_score,classification_report,confusion_matrix,mean_squared_error\n",
        "import warnings\n",
        "warnings.filterwarnings('ignore')\n",
        "%matplotlib inline"
      ]
    },
    {
      "cell_type": "code",
      "execution_count": null,
      "metadata": {
        "id": "Ycb3CXzpqCiG"
      },
      "outputs": [],
      "source": [
        "# Import necessary modules (not shown in the original code)\n",
        "from sklearn.model_selection import train_test_split\n",
        "from sklearn.linear_model import LogisticRegression\n",
        "from sklearn.metrics import classification_report, confusion_matrix, accuracy_score\n",
        "\n",
        "# Drop the 'def_pay' column to separate features from the target label\n",
        "df_X = df.drop(['def_pay'], axis=1)\n",
        "\n",
        "# Isolate the 'def_pay' column as the target label\n",
        "df_y = df.def_pay\n",
        "\n",
        "# Split the data into training and test sets\n",
        "# 80% of the data will be used for training and 20% for testing\n",
        "X_train, X_test, y_train, y_test = train_test_split(df_X, df_y, test_size=0.2, random_state=10)\n",
        "\n",
        "# Initialize the Logistic Regression model\n",
        "model1 = LogisticRegression()\n",
        "\n",
        "# Fit the model to the training data\n",
        "model1.fit(X_train, y_train)\n",
        "\n",
        "# Use the trained model to make predictions on the test data\n",
        "y_pred = model1.predict(X_test)\n",
        "\n",
        "# Display the classification report (Precision, Recall, F1-Score)\n",
        "print(classification_report(y_pred, y_test))\n",
        "\n",
        "# Display the confusion matrix\n",
        "print(confusion_matrix(y_pred, y_test))\n",
        "\n",
        "# Display the accuracy score of the model on the test data\n",
        "print('\\nAccuracy Score for model1: ', accuracy_score(y_pred, y_test))\n"
      ]
    },
    {
      "cell_type": "code",
      "execution_count": null,
      "metadata": {
        "id": "m3xG_hqEqCiG"
      },
      "outputs": [],
      "source": [
        "df_X = df.drop(['def_pay','PAY_2','PAY_3','PAY_4','PAY_5','PAY_6'], axis=1)\n",
        "df_y = df.def_pay\n",
        "\n",
        "X_train, X_test, y_train, y_test = train_test_split(df_X, df_y, test_size=0.2, random_state=10)\n",
        "\n",
        "model3 = LogisticRegression()\n",
        "model3.fit(X_train, y_train)\n",
        "\n",
        "y_pred = model3.predict(X_test)\n",
        "\n",
        "print(classification_report(y_pred, y_test))\n",
        "print(confusion_matrix(y_pred, y_test))\n",
        "print('\\nAccuracy Score for model3: ', accuracy_score(y_pred,y_test))\n",
        "\n",
        "#"
      ]
    },
    {
      "cell_type": "markdown",
      "metadata": {
        "id": "5vUGN8pPqCiG"
      },
      "source": [
        "As we can see even now the accuracy does not change"
      ]
    },
    {
      "cell_type": "code",
      "execution_count": null,
      "metadata": {
        "id": "b4k_qGyfqCiG"
      },
      "outputs": [],
      "source": [
        "df_X = df[['SEX','MARRIAGE','AGE','BILL_AMT1','EDUCATION','PAY_1']]\n",
        "df_y = df.def_pay\n",
        "\n",
        "X_train, X_test, y_train, y_test = train_test_split(df_X, df_y, test_size=0.1, random_state=20)\n",
        "\n",
        "model4 = LogisticRegression()\n",
        "model4.fit(X_train, y_train)\n",
        "\n",
        "y_pred = model4.predict(X_test)\n",
        "y_train_pred = model4.predict(X_train)\n",
        "\n",
        "print(classification_report(y_pred, y_test))\n",
        "print(confusion_matrix(y_pred, y_test))\n",
        "print('\\nTest Accuracy Score for model4: ', accuracy_score(y_pred,y_test))\n",
        "print('\\nTrain Accuracy Score for model4: ', accuracy_score(y_train_pred,y_train))"
      ]
    },
    {
      "cell_type": "code",
      "execution_count": null,
      "metadata": {
        "id": "KMzsRee5qCiG"
      },
      "outputs": [],
      "source": [
        "from sklearn.tree import DecisionTreeClassifier\n",
        "from sklearn.metrics import accuracy_score, classification_report, confusion_matrix\n",
        "\n",
        "df_X = df[['SEX','MARRIAGE','AGE','BILL_AMT1','EDUCATION','PAY_1']]\n",
        "df_y = df.def_pay\n",
        "\n",
        "X_train, X_test, y_train, y_test = train_test_split(df_X, df_y, test_size=0.3, random_state=20)\n",
        "\n",
        "# Creating the Decision Tree model\n",
        "\n",
        "clf = DecisionTreeClassifier(random_state=42, )\n",
        "\n",
        "# Fitting the model to the training data\n",
        "clf.fit(X_train, y_train)\n",
        "\n",
        "# Making predictions on the test set\n",
        "y_pred = clf.predict(X_test)\n",
        "\n",
        "y_train_pred = clf.predict(X_train)\n",
        "\n",
        "\n",
        "# Evaluating the model\n",
        "print(classification_report(y_pred, y_test))\n",
        "print(confusion_matrix(y_pred, y_test))\n",
        "print('\\nTest Accuracy Score for Deecision Tree: ', accuracy_score(y_pred,y_test))\n",
        "print('\\nTrain Accuracy Score for Deecision Tree: ', accuracy_score(y_train_pred,y_train))"
      ]
    },
    {
      "cell_type": "code",
      "execution_count": null,
      "metadata": {
        "id": "AhmucNIUqCiH"
      },
      "outputs": [],
      "source": [
        "from sklearn.tree import DecisionTreeClassifier\n",
        "from sklearn.metrics import accuracy_score, classification_report, confusion_matrix\n",
        "\n",
        "# Select specific columns for features and target label\n",
        "df_X = df[['SEX','MARRIAGE','AGE','BILL_AMT1','EDUCATION','PAY_1']]\n",
        "df_y = df.def_pay\n",
        "\n",
        "# Split the data into training and test sets (70% training, 30% testing)\n",
        "X_train, X_test, y_train, y_test = train_test_split(df_X, df_y, test_size=0.3, random_state=20)\n",
        "\n",
        "# Initialize the Decision Tree Classifier with specific hyperparameters\n",
        "clf = DecisionTreeClassifier(random_state=42, max_depth=5, min_samples_leaf=50)\n",
        "\n",
        "# Fit the model to the training data\n",
        "clf.fit(X_train, y_train)\n",
        "\n",
        "# Make predictions on the test set\n",
        "y_pred = clf.predict(X_test)\n",
        "\n",
        "# Make predictions on the training set (for evaluating training accuracy)\n",
        "y_train_pred = clf.predict(X_train)\n",
        "\n",
        "# Evaluate the model using classification metrics\n",
        "print(classification_report(y_pred, y_test))\n",
        "print(confusion_matrix(y_pred, y_test))\n",
        "\n",
        "# Print the test accuracy score\n",
        "print('\\nTest Accuracy Score for Decision Tree: ', accuracy_score(y_pred,y_test))\n",
        "\n",
        "# Print the training accuracy score\n",
        "print('\\nTrain Accuracy Score for Decision Tree: ', accuracy_score(y_train_pred,y_train))"
      ]
    },
    {
      "cell_type": "code",
      "execution_count": null,
      "metadata": {
        "id": "qfrhTA0eqCiH"
      },
      "outputs": [],
      "source": [
        "import matplotlib.pyplot as plt\n",
        "from sklearn.tree import plot_tree\n",
        "features = ['SEX','MARRIAGE','AGE','BILL_AMT1','EDUCATION','PAY_1']\n",
        "# Plotting the Decision Tree (Limited depth for better visibility)\n",
        "plt.figure(figsize=(20, 10), dpi=500)\n",
        "plot_tree(clf, max_depth=5, feature_names=features, class_names=['Not Default', 'Default'], filled=True)\n",
        "plt.show()"
      ]
    },
    {
      "cell_type": "code",
      "execution_count": null,
      "metadata": {
        "id": "aGkqe97GqCiH"
      },
      "outputs": [],
      "source": []
    }
  ],
  "metadata": {
    "kernelspec": {
      "display_name": "base",
      "language": "python",
      "name": "python3"
    },
    "language_info": {
      "codemirror_mode": {
        "name": "ipython",
        "version": 3
      },
      "file_extension": ".py",
      "mimetype": "text/x-python",
      "name": "python",
      "nbconvert_exporter": "python",
      "pygments_lexer": "ipython3",
      "version": "3.10.9"
    },
    "colab": {
      "provenance": [],
      "include_colab_link": true
    }
  },
  "nbformat": 4,
  "nbformat_minor": 0
}