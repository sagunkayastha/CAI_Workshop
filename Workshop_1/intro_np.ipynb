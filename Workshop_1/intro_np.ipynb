{
  "cells": [
    {
      "cell_type": "markdown",
      "metadata": {
        "colab_type": "text",
        "id": "view-in-github"
      },
      "source": [
        "<a href=\"https://colab.research.google.com/github/sagunkayastha/CAI_Workshop/blob/main/Workshop_1/intro_np.ipynb\" target=\"_parent\"><img src=\"https://colab.research.google.com/assets/colab-badge.svg\" alt=\"Open In Colab\"/></a>"
      ]
    },
    {
      "cell_type": "markdown",
      "metadata": {
        "id": "l8GVu7h94LTI"
      },
      "source": [
        "# Numpy Basics"
      ]
    },
    {
      "cell_type": "markdown",
      "metadata": {
        "id": "3vugdyxO4LTL"
      },
      "source": [
        "- Numpy is the core library for scientific computing in python.\n",
        "- It provides a high-performance multidimensional array object, and tools for working with these arrays."
      ]
    },
    {
      "cell_type": "code",
      "execution_count": 37,
      "metadata": {
        "id": "c6wbe2SS4LTM"
      },
      "outputs": [],
      "source": [
        "import numpy as np"
      ]
    },
    {
      "cell_type": "code",
      "execution_count": 38,
      "metadata": {
        "id": "jDX6VklK4LTN"
      },
      "outputs": [],
      "source": [
        "a = np.array([1,2,3])"
      ]
    },
    {
      "cell_type": "code",
      "execution_count": 39,
      "metadata": {
        "id": "6NvF6eQU4LTO"
      },
      "outputs": [
        {
          "name": "stdout",
          "output_type": "stream",
          "text": [
            "[1 2 3]\n"
          ]
        }
      ],
      "source": [
        "print (a)"
      ]
    },
    {
      "cell_type": "code",
      "execution_count": 40,
      "metadata": {
        "id": "OF7luIsD4LTP"
      },
      "outputs": [
        {
          "name": "stdout",
          "output_type": "stream",
          "text": [
            "<class 'numpy.ndarray'>\n"
          ]
        }
      ],
      "source": [
        "print (type(a))"
      ]
    },
    {
      "cell_type": "markdown",
      "metadata": {
        "id": "Cpv5tCnq4LTP"
      },
      "source": [
        "ndarray -> n-dimensional array"
      ]
    },
    {
      "cell_type": "code",
      "execution_count": 41,
      "metadata": {
        "id": "uEKk8-AF4LTQ"
      },
      "outputs": [
        {
          "data": {
            "text/plain": [
              "(3,)"
            ]
          },
          "execution_count": 41,
          "metadata": {},
          "output_type": "execute_result"
        }
      ],
      "source": [
        "a.shape"
      ]
    },
    {
      "cell_type": "markdown",
      "metadata": {
        "id": "vKqOxI1O4LTQ"
      },
      "source": [
        "#### minimum dimensions"
      ]
    },
    {
      "cell_type": "code",
      "execution_count": 42,
      "metadata": {
        "id": "49U2zDJ64LTR"
      },
      "outputs": [
        {
          "name": "stdout",
          "output_type": "stream",
          "text": [
            "[[1 2 3 4 5 6]]\n",
            "(1, 6)\n"
          ]
        }
      ],
      "source": [
        "b = np.array([1,2,3,4,5,6], ndmin=2)\n",
        "print (b)\n",
        "print(b.shape)"
      ]
    },
    {
      "cell_type": "code",
      "execution_count": 43,
      "metadata": {
        "id": "dFWH2to74LTR"
      },
      "outputs": [
        {
          "data": {
            "text/plain": [
              "(1, 6)"
            ]
          },
          "execution_count": 43,
          "metadata": {},
          "output_type": "execute_result"
        }
      ],
      "source": [
        "b.shape"
      ]
    },
    {
      "cell_type": "markdown",
      "metadata": {
        "id": "CqJ_PlUU4LTS"
      },
      "source": [
        "#### Multidimension"
      ]
    },
    {
      "cell_type": "code",
      "execution_count": 44,
      "metadata": {
        "id": "TfzsglHp4LTS"
      },
      "outputs": [
        {
          "name": "stdout",
          "output_type": "stream",
          "text": [
            "The numpy array is :\n",
            "  [[1 2]\n",
            " [3 4]]\n",
            "The type of the object is  : <class 'numpy.ndarray'>\n",
            "The shape of the object is : (2, 2)\n"
          ]
        }
      ],
      "source": [
        "c = np.array( [ [1,2], [3,4] ] )\n",
        "print (\"The numpy array is :\\n \", c)\n",
        "print (\"The type of the object is  :\", type(c))\n",
        "print (\"The shape of the object is :\", c.shape)"
      ]
    },
    {
      "cell_type": "markdown",
      "metadata": {
        "id": "n6i8Meik4LTT"
      },
      "source": [
        "- Inner elements"
      ]
    },
    {
      "cell_type": "code",
      "execution_count": 45,
      "metadata": {
        "id": "s_CZhP8p4LTU"
      },
      "outputs": [
        {
          "name": "stdout",
          "output_type": "stream",
          "text": [
            "The first object in the numpy array is:  [1 2]\n",
            "The type of the first object is       : <class 'numpy.ndarray'>\n",
            "The shape of the first object is      : (2,)\n"
          ]
        }
      ],
      "source": [
        "c0 = c[0]\n",
        "print (\"The first object in the numpy array is: \", c0)\n",
        "print (\"The type of the first object is       :\", type(c0))\n",
        "print (\"The shape of the first object is      :\", c0.shape)"
      ]
    },
    {
      "cell_type": "markdown",
      "metadata": {
        "id": "zTwp3QxT4LTU"
      },
      "source": [
        "- individual elements of an array"
      ]
    },
    {
      "cell_type": "code",
      "execution_count": 46,
      "metadata": {
        "id": "NP2gHRni4LTV"
      },
      "outputs": [
        {
          "name": "stdout",
          "output_type": "stream",
          "text": [
            "The first scalar element of the array:  1\n",
            "The type of the scalar element       :  <class 'numpy.int32'>\n"
          ]
        }
      ],
      "source": [
        "c00 = c[0][0]\n",
        "print (\"The first scalar element of the array: \", c00)\n",
        "print (\"The type of the scalar element       : \", type(c00))"
      ]
    },
    {
      "cell_type": "markdown",
      "metadata": {
        "id": "GpYNXLxq4LTW"
      },
      "source": [
        "#### Directly checking the datatype of elements"
      ]
    },
    {
      "cell_type": "code",
      "execution_count": 47,
      "metadata": {
        "id": "SeJS9w5J4LTW"
      },
      "outputs": [
        {
          "data": {
            "text/plain": [
              "dtype('int32')"
            ]
          },
          "execution_count": 47,
          "metadata": {},
          "output_type": "execute_result"
        }
      ],
      "source": [
        "c.dtype"
      ]
    },
    {
      "cell_type": "markdown",
      "metadata": {
        "id": "4QLxH4E84LTY"
      },
      "source": [
        "#### This means the items in the numpy array are 64-bit integers\n",
        "<br>\n",
        "Lets create an array that contains elements with 8-bit unsigned integers"
      ]
    },
    {
      "cell_type": "code",
      "execution_count": 48,
      "metadata": {
        "id": "owXKJ95M4LTY"
      },
      "outputs": [
        {
          "name": "stdout",
          "output_type": "stream",
          "text": [
            "[[1 2]\n",
            " [3 4]]\n"
          ]
        }
      ],
      "source": [
        "d = np.array( [ [1,2], [3,4] ], dtype='uint8' )\n",
        "print (d)"
      ]
    },
    {
      "cell_type": "code",
      "execution_count": null,
      "metadata": {
        "id": "IFHc93cvIv6y"
      },
      "outputs": [],
      "source": []
    },
    {
      "cell_type": "code",
      "execution_count": 49,
      "metadata": {
        "id": "J_kcGVET4LTY"
      },
      "outputs": [
        {
          "data": {
            "text/plain": [
              "numpy.uint8"
            ]
          },
          "execution_count": 49,
          "metadata": {},
          "output_type": "execute_result"
        }
      ],
      "source": [
        "type(d[0][0])"
      ]
    },
    {
      "cell_type": "markdown",
      "metadata": {
        "id": "wvYNki3w4LTZ"
      },
      "source": [
        "#### For further details on different numpy types, refer to <br>\n",
        "https://www.numpy.org/devdocs/user/basics.types.html"
      ]
    },
    {
      "cell_type": "markdown",
      "metadata": {
        "id": "hg-kEYNh4LTa"
      },
      "source": [
        "### Some easy methods of creating numpy arrays"
      ]
    },
    {
      "cell_type": "code",
      "execution_count": 50,
      "metadata": {
        "id": "P6rf9zVz4LTa"
      },
      "outputs": [
        {
          "name": "stdout",
          "output_type": "stream",
          "text": [
            "[[0. 0.]\n",
            " [0. 0.]]\n"
          ]
        }
      ],
      "source": [
        "a = np.zeros((2,2))\n",
        "print (a)"
      ]
    },
    {
      "cell_type": "code",
      "execution_count": 51,
      "metadata": {
        "id": "fQeW3kNI4LTa"
      },
      "outputs": [
        {
          "name": "stdout",
          "output_type": "stream",
          "text": [
            "[[1. 1.]\n",
            " [1. 1.]]\n"
          ]
        }
      ],
      "source": [
        "a = np.ones((2,2))\n",
        "print(a)"
      ]
    },
    {
      "cell_type": "code",
      "execution_count": 52,
      "metadata": {
        "id": "hC3u5aK24LTb"
      },
      "outputs": [
        {
          "name": "stdout",
          "output_type": "stream",
          "text": [
            "[[10 10]\n",
            " [10 10]]\n"
          ]
        }
      ],
      "source": [
        "a = np.full((2,2), 10)\n",
        "print (a)"
      ]
    },
    {
      "cell_type": "markdown",
      "metadata": {
        "id": "y2fbU9xj4LTc"
      },
      "source": [
        "#### random matrix"
      ]
    },
    {
      "cell_type": "code",
      "execution_count": 53,
      "metadata": {
        "id": "uwVb2FGM4LTc"
      },
      "outputs": [
        {
          "name": "stdout",
          "output_type": "stream",
          "text": [
            "[[0.32366351 0.73375001]\n",
            " [0.77869367 0.95544484]]\n"
          ]
        }
      ],
      "source": [
        "a = np.random.random((2,2))\n",
        "print (a)"
      ]
    },
    {
      "cell_type": "markdown",
      "metadata": {
        "id": "ohTI3eDa4LTd"
      },
      "source": [
        "#### np.arange"
      ]
    },
    {
      "cell_type": "code",
      "execution_count": 54,
      "metadata": {
        "id": "wf7_i7RV4LTd"
      },
      "outputs": [
        {
          "name": "stdout",
          "output_type": "stream",
          "text": [
            "[0 1 2 3 4 5 6 7 8 9]\n"
          ]
        }
      ],
      "source": [
        "a = np.arange(10)\n",
        "print (a)"
      ]
    },
    {
      "cell_type": "code",
      "execution_count": 55,
      "metadata": {
        "id": "AEvtaN5n4LTd"
      },
      "outputs": [
        {
          "name": "stdout",
          "output_type": "stream",
          "text": [
            "[1. 2. 3. 4. 5. 6. 7. 8. 9.]\n"
          ]
        }
      ],
      "source": [
        "a = np.arange(1, 10, dtype=float)\n",
        "print (a)"
      ]
    },
    {
      "cell_type": "code",
      "execution_count": 56,
      "metadata": {
        "id": "BDwP1fTs4LTe"
      },
      "outputs": [
        {
          "name": "stdout",
          "output_type": "stream",
          "text": [
            "[1.  1.5 2.  2.5 3.  3.5 4.  4.5 5.  5.5 6.  6.5 7.  7.5 8.  8.5 9.  9.5]\n"
          ]
        }
      ],
      "source": [
        "a = np.arange(1, 10, 0.5) # start, end, step\n",
        "print (a)"
      ]
    },
    {
      "cell_type": "code",
      "execution_count": 57,
      "metadata": {},
      "outputs": [
        {
          "name": "stdout",
          "output_type": "stream",
          "text": [
            "\u001b[1;31mDocstring:\u001b[0m\n",
            "arange([start,] stop[, step,], dtype=None, *, like=None)\n",
            "\n",
            "Return evenly spaced values within a given interval.\n",
            "\n",
            "``arange`` can be called with a varying number of positional arguments:\n",
            "\n",
            "* ``arange(stop)``: Values are generated within the half-open interval\n",
            "  ``[0, stop)`` (in other words, the interval including `start` but\n",
            "  excluding `stop`).\n",
            "* ``arange(start, stop)``: Values are generated within the half-open\n",
            "  interval ``[start, stop)``.\n",
            "* ``arange(start, stop, step)`` Values are generated within the half-open\n",
            "  interval ``[start, stop)``, with spacing between values given by\n",
            "  ``step``.\n",
            "\n",
            "For integer arguments the function is roughly equivalent to the Python\n",
            "built-in :py:class:`range`, but returns an ndarray rather than a ``range``\n",
            "instance.\n",
            "\n",
            "When using a non-integer step, such as 0.1, it is often better to use\n",
            "`numpy.linspace`.\n",
            "\n",
            "See the Warning sections below for more information.\n",
            "\n",
            "Parameters\n",
            "----------\n",
            "start : integer or real, optional\n",
            "    Start of interval.  The interval includes this value.  The default\n",
            "    start value is 0.\n",
            "stop : integer or real\n",
            "    End of interval.  The interval does not include this value, except\n",
            "    in some cases where `step` is not an integer and floating point\n",
            "    round-off affects the length of `out`.\n",
            "step : integer or real, optional\n",
            "    Spacing between values.  For any output `out`, this is the distance\n",
            "    between two adjacent values, ``out[i+1] - out[i]``.  The default\n",
            "    step size is 1.  If `step` is specified as a position argument,\n",
            "    `start` must also be given.\n",
            "dtype : dtype, optional\n",
            "    The type of the output array.  If `dtype` is not given, infer the data\n",
            "    type from the other input arguments.\n",
            "like : array_like, optional\n",
            "    Reference object to allow the creation of arrays which are not\n",
            "    NumPy arrays. If an array-like passed in as ``like`` supports\n",
            "    the ``__array_function__`` protocol, the result will be defined\n",
            "    by it. In this case, it ensures the creation of an array object\n",
            "    compatible with that passed in via this argument.\n",
            "\n",
            "    .. versionadded:: 1.20.0\n",
            "\n",
            "Returns\n",
            "-------\n",
            "arange : ndarray\n",
            "    Array of evenly spaced values.\n",
            "\n",
            "    For floating point arguments, the length of the result is\n",
            "    ``ceil((stop - start)/step)``.  Because of floating point overflow,\n",
            "    this rule may result in the last element of `out` being greater\n",
            "    than `stop`.\n",
            "\n",
            "Warnings\n",
            "--------\n",
            "The length of the output might not be numerically stable.\n",
            "\n",
            "Another stability issue is due to the internal implementation of\n",
            "`numpy.arange`.\n",
            "The actual step value used to populate the array is\n",
            "``dtype(start + step) - dtype(start)`` and not `step`. Precision loss\n",
            "can occur here, due to casting or due to using floating points when\n",
            "`start` is much larger than `step`. This can lead to unexpected\n",
            "behaviour. For example::\n",
            "\n",
            "  >>> np.arange(0, 5, 0.5, dtype=int)\n",
            "  array([0, 0, 0, 0, 0, 0, 0, 0, 0, 0])\n",
            "  >>> np.arange(-3, 3, 0.5, dtype=int)\n",
            "  array([-3, -2, -1,  0,  1,  2,  3,  4,  5,  6,  7,  8])\n",
            "\n",
            "In such cases, the use of `numpy.linspace` should be preferred.\n",
            "\n",
            "The built-in :py:class:`range` generates :std:doc:`Python built-in integers\n",
            "that have arbitrary size <c-api/long>`, while `numpy.arange` produces\n",
            "`numpy.int32` or `numpy.int64` numbers. This may result in incorrect\n",
            "results for large integer values::\n",
            "\n",
            "  >>> power = 40\n",
            "  >>> modulo = 10000\n",
            "  >>> x1 = [(n ** power) % modulo for n in range(8)]\n",
            "  >>> x2 = [(n ** power) % modulo for n in np.arange(8)]\n",
            "  >>> print(x1)\n",
            "  [0, 1, 7776, 8801, 6176, 625, 6576, 4001]  # correct\n",
            "  >>> print(x2)\n",
            "  [0, 1, 7776, 7185, 0, 5969, 4816, 3361]  # incorrect\n",
            "\n",
            "See Also\n",
            "--------\n",
            "numpy.linspace : Evenly spaced numbers with careful handling of endpoints.\n",
            "numpy.ogrid: Arrays of evenly spaced numbers in N-dimensions.\n",
            "numpy.mgrid: Grid-shaped arrays of evenly spaced numbers in N-dimensions.\n",
            "\n",
            "Examples\n",
            "--------\n",
            ">>> np.arange(3)\n",
            "array([0, 1, 2])\n",
            ">>> np.arange(3.0)\n",
            "array([ 0.,  1.,  2.])\n",
            ">>> np.arange(3,7)\n",
            "array([3, 4, 5, 6])\n",
            ">>> np.arange(3,7,2)\n",
            "array([3, 5])\n",
            "\u001b[1;31mType:\u001b[0m      builtin_function_or_method"
          ]
        }
      ],
      "source": [
        "np.arange?"
      ]
    },
    {
      "cell_type": "markdown",
      "metadata": {
        "id": "I21lD7ut4LTe"
      },
      "source": [
        "#### Creating equally spaced elements in a particular range"
      ]
    },
    {
      "cell_type": "code",
      "execution_count": 58,
      "metadata": {
        "id": "hIIwYxWn4LTe"
      },
      "outputs": [
        {
          "name": "stdout",
          "output_type": "stream",
          "text": [
            "[1.  1.5 2.  2.5 3.  3.5 4.  4.5 5.  5.5 6. ]\n"
          ]
        }
      ],
      "source": [
        "a = np.linspace(1.0, 6.0, 11) # start, end, num-points\n",
        "print (a)"
      ]
    },
    {
      "cell_type": "code",
      "execution_count": 59,
      "metadata": {},
      "outputs": [
        {
          "name": "stdout",
          "output_type": "stream",
          "text": [
            "\u001b[1;31mSignature:\u001b[0m\n",
            "\u001b[0mnp\u001b[0m\u001b[1;33m.\u001b[0m\u001b[0mlinspace\u001b[0m\u001b[1;33m(\u001b[0m\u001b[1;33m\n",
            "\u001b[0m    \u001b[0mstart\u001b[0m\u001b[1;33m,\u001b[0m\u001b[1;33m\n",
            "\u001b[0m    \u001b[0mstop\u001b[0m\u001b[1;33m,\u001b[0m\u001b[1;33m\n",
            "\u001b[0m    \u001b[0mnum\u001b[0m\u001b[1;33m=\u001b[0m\u001b[1;36m50\u001b[0m\u001b[1;33m,\u001b[0m\u001b[1;33m\n",
            "\u001b[0m    \u001b[0mendpoint\u001b[0m\u001b[1;33m=\u001b[0m\u001b[1;32mTrue\u001b[0m\u001b[1;33m,\u001b[0m\u001b[1;33m\n",
            "\u001b[0m    \u001b[0mretstep\u001b[0m\u001b[1;33m=\u001b[0m\u001b[1;32mFalse\u001b[0m\u001b[1;33m,\u001b[0m\u001b[1;33m\n",
            "\u001b[0m    \u001b[0mdtype\u001b[0m\u001b[1;33m=\u001b[0m\u001b[1;32mNone\u001b[0m\u001b[1;33m,\u001b[0m\u001b[1;33m\n",
            "\u001b[0m    \u001b[0maxis\u001b[0m\u001b[1;33m=\u001b[0m\u001b[1;36m0\u001b[0m\u001b[1;33m,\u001b[0m\u001b[1;33m\n",
            "\u001b[0m\u001b[1;33m)\u001b[0m\u001b[1;33m\u001b[0m\u001b[1;33m\u001b[0m\u001b[0m\n",
            "\u001b[1;31mDocstring:\u001b[0m\n",
            "Return evenly spaced numbers over a specified interval.\n",
            "\n",
            "Returns `num` evenly spaced samples, calculated over the\n",
            "interval [`start`, `stop`].\n",
            "\n",
            "The endpoint of the interval can optionally be excluded.\n",
            "\n",
            ".. versionchanged:: 1.16.0\n",
            "    Non-scalar `start` and `stop` are now supported.\n",
            "\n",
            ".. versionchanged:: 1.20.0\n",
            "    Values are rounded towards ``-inf`` instead of ``0`` when an\n",
            "    integer ``dtype`` is specified. The old behavior can\n",
            "    still be obtained with ``np.linspace(start, stop, num).astype(int)``\n",
            "\n",
            "Parameters\n",
            "----------\n",
            "start : array_like\n",
            "    The starting value of the sequence.\n",
            "stop : array_like\n",
            "    The end value of the sequence, unless `endpoint` is set to False.\n",
            "    In that case, the sequence consists of all but the last of ``num + 1``\n",
            "    evenly spaced samples, so that `stop` is excluded.  Note that the step\n",
            "    size changes when `endpoint` is False.\n",
            "num : int, optional\n",
            "    Number of samples to generate. Default is 50. Must be non-negative.\n",
            "endpoint : bool, optional\n",
            "    If True, `stop` is the last sample. Otherwise, it is not included.\n",
            "    Default is True.\n",
            "retstep : bool, optional\n",
            "    If True, return (`samples`, `step`), where `step` is the spacing\n",
            "    between samples.\n",
            "dtype : dtype, optional\n",
            "    The type of the output array.  If `dtype` is not given, the data type\n",
            "    is inferred from `start` and `stop`. The inferred dtype will never be\n",
            "    an integer; `float` is chosen even if the arguments would produce an\n",
            "    array of integers.\n",
            "\n",
            "    .. versionadded:: 1.9.0\n",
            "\n",
            "axis : int, optional\n",
            "    The axis in the result to store the samples.  Relevant only if start\n",
            "    or stop are array-like.  By default (0), the samples will be along a\n",
            "    new axis inserted at the beginning. Use -1 to get an axis at the end.\n",
            "\n",
            "    .. versionadded:: 1.16.0\n",
            "\n",
            "Returns\n",
            "-------\n",
            "samples : ndarray\n",
            "    There are `num` equally spaced samples in the closed interval\n",
            "    ``[start, stop]`` or the half-open interval ``[start, stop)``\n",
            "    (depending on whether `endpoint` is True or False).\n",
            "step : float, optional\n",
            "    Only returned if `retstep` is True\n",
            "\n",
            "    Size of spacing between samples.\n",
            "\n",
            "\n",
            "See Also\n",
            "--------\n",
            "arange : Similar to `linspace`, but uses a step size (instead of the\n",
            "         number of samples).\n",
            "geomspace : Similar to `linspace`, but with numbers spaced evenly on a log\n",
            "            scale (a geometric progression).\n",
            "logspace : Similar to `geomspace`, but with the end points specified as\n",
            "           logarithms.\n",
            "\n",
            "Examples\n",
            "--------\n",
            ">>> np.linspace(2.0, 3.0, num=5)\n",
            "array([2.  , 2.25, 2.5 , 2.75, 3.  ])\n",
            ">>> np.linspace(2.0, 3.0, num=5, endpoint=False)\n",
            "array([2. ,  2.2,  2.4,  2.6,  2.8])\n",
            ">>> np.linspace(2.0, 3.0, num=5, retstep=True)\n",
            "(array([2.  ,  2.25,  2.5 ,  2.75,  3.  ]), 0.25)\n",
            "\n",
            "Graphical illustration:\n",
            "\n",
            ">>> import matplotlib.pyplot as plt\n",
            ">>> N = 8\n",
            ">>> y = np.zeros(N)\n",
            ">>> x1 = np.linspace(0, 10, N, endpoint=True)\n",
            ">>> x2 = np.linspace(0, 10, N, endpoint=False)\n",
            ">>> plt.plot(x1, y, 'o')\n",
            "[<matplotlib.lines.Line2D object at 0x...>]\n",
            ">>> plt.plot(x2, y + 0.5, 'o')\n",
            "[<matplotlib.lines.Line2D object at 0x...>]\n",
            ">>> plt.ylim([-0.5, 1])\n",
            "(-0.5, 1)\n",
            ">>> plt.show()\n",
            "\u001b[1;31mFile:\u001b[0m      c:\\users\\sgnka\\anaconda3\\lib\\site-packages\\numpy\\core\\function_base.py\n",
            "\u001b[1;31mType:\u001b[0m      function"
          ]
        }
      ],
      "source": [
        "np.linspace?"
      ]
    },
    {
      "cell_type": "markdown",
      "metadata": {
        "id": "7uP6HXxg4LTf"
      },
      "source": [
        "#### Random matrix"
      ]
    },
    {
      "cell_type": "code",
      "execution_count": 60,
      "metadata": {
        "id": "VXmZ9cfh4LTf"
      },
      "outputs": [
        {
          "name": "stdout",
          "output_type": "stream",
          "text": [
            "[[0.33546814 0.03183867 0.44467045]\n",
            " [0.83637542 0.36435685 0.93624332]\n",
            " [0.40156988 0.81926322 0.32854592]]\n"
          ]
        }
      ],
      "source": [
        "a = np.random.random((3,3))\n",
        "print (a)"
      ]
    },
    {
      "cell_type": "markdown",
      "metadata": {
        "id": "2WRUQdgq4LTf"
      },
      "source": [
        "### Some basic operations on numpy array"
      ]
    },
    {
      "cell_type": "markdown",
      "metadata": {
        "id": "WCHWWshY4LTf"
      },
      "source": [
        "#### Maximum value in the array"
      ]
    },
    {
      "cell_type": "code",
      "execution_count": 61,
      "metadata": {
        "id": "RsJwPpNI4LTg"
      },
      "outputs": [
        {
          "data": {
            "text/plain": [
              "0.936243320717097"
            ]
          },
          "execution_count": 61,
          "metadata": {},
          "output_type": "execute_result"
        }
      ],
      "source": [
        "a.max()"
      ]
    },
    {
      "cell_type": "markdown",
      "metadata": {
        "id": "_Vd8zD9x4LTg"
      },
      "source": [
        "#### Minimum value in the array"
      ]
    },
    {
      "cell_type": "code",
      "execution_count": 62,
      "metadata": {
        "id": "vSnlny8c4LTg"
      },
      "outputs": [
        {
          "data": {
            "text/plain": [
              "0.03183866546677028"
            ]
          },
          "execution_count": 62,
          "metadata": {},
          "output_type": "execute_result"
        }
      ],
      "source": [
        "a.min()"
      ]
    },
    {
      "cell_type": "markdown",
      "metadata": {
        "id": "hYhnqs9C4LTh"
      },
      "source": [
        "#### Index of maximum value in the array"
      ]
    },
    {
      "cell_type": "code",
      "execution_count": 63,
      "metadata": {
        "id": "XnsNlCQ64LTh"
      },
      "outputs": [
        {
          "data": {
            "text/plain": [
              "5"
            ]
          },
          "execution_count": 63,
          "metadata": {},
          "output_type": "execute_result"
        }
      ],
      "source": [
        "a.argmax()"
      ]
    },
    {
      "cell_type": "markdown",
      "metadata": {
        "id": "UEgwqi-q4LTh"
      },
      "source": [
        "#### Index of minimum value in the array"
      ]
    },
    {
      "cell_type": "code",
      "execution_count": 64,
      "metadata": {
        "id": "ond8ND-04LTh"
      },
      "outputs": [
        {
          "data": {
            "text/plain": [
              "1"
            ]
          },
          "execution_count": 64,
          "metadata": {},
          "output_type": "execute_result"
        }
      ],
      "source": [
        "a.argmin()"
      ]
    },
    {
      "cell_type": "markdown",
      "metadata": {
        "id": "O0CJJNvq4LTi"
      },
      "source": [
        "### Array Indexing and Slicing"
      ]
    },
    {
      "cell_type": "code",
      "execution_count": 65,
      "metadata": {
        "id": "3iQyu_qo4LTi"
      },
      "outputs": [
        {
          "name": "stdout",
          "output_type": "stream",
          "text": [
            "[[[0.48673723 0.48856396 0.16555082]\n",
            "  [0.48392283 0.23577774 0.95616448]\n",
            "  [0.5029426  0.94409545 0.48575868]\n",
            "  [0.11324179 0.4704656  0.0107861 ]]\n",
            "\n",
            " [[0.23602614 0.18505265 0.24260297]\n",
            "  [0.06762163 0.44099026 0.86237151]\n",
            "  [0.18618471 0.95443587 0.11963248]\n",
            "  [0.55162451 0.86915083 0.99839142]]\n",
            "\n",
            " [[0.32300782 0.16249115 0.51144438]\n",
            "  [0.50702716 0.14116721 0.54929332]\n",
            "  [0.64736333 0.15175001 0.98073981]\n",
            "  [0.78015646 0.51893526 0.33915627]]\n",
            "\n",
            " [[0.86322663 0.4844668  0.51810126]\n",
            "  [0.35189766 0.45352266 0.9818967 ]\n",
            "  [0.68790053 0.61629499 0.48751944]\n",
            "  [0.44719058 0.65313315 0.698639  ]]]\n"
          ]
        }
      ],
      "source": [
        "a = np.random.random((4, 4, 3))\n",
        "print (a)"
      ]
    },
    {
      "cell_type": "markdown",
      "metadata": {
        "id": "fHUs7B6g4LTq"
      },
      "source": [
        "#### Try out more slices in the following cells"
      ]
    },
    {
      "cell_type": "code",
      "execution_count": null,
      "metadata": {
        "id": "-OB68eA_4LTr"
      },
      "outputs": [],
      "source": []
    },
    {
      "cell_type": "code",
      "execution_count": null,
      "metadata": {
        "id": "ir0EmQcQ4LTr"
      },
      "outputs": [],
      "source": []
    },
    {
      "cell_type": "code",
      "execution_count": null,
      "metadata": {
        "id": "H29OQSkn4LTr"
      },
      "outputs": [],
      "source": []
    },
    {
      "cell_type": "markdown",
      "metadata": {
        "id": "HWXSGzoq4LTr"
      },
      "source": [
        "### Array Math\n",
        "Basic mathematical functions operate elementwise on arrays, and are available both as operator overloads and as functions in the numpy moudle"
      ]
    },
    {
      "cell_type": "code",
      "execution_count": null,
      "metadata": {
        "id": "U2JnY-gl4LTr"
      },
      "outputs": [],
      "source": [
        "x = np.array([[1,2],[3,4]], dtype=np.float64)\n",
        "y = np.array([[5,6],[7,8]], dtype=np.float64)\n",
        "print (\"x : \\n\", x)\n",
        "print (\"y : \\n\", y)"
      ]
    },
    {
      "cell_type": "markdown",
      "metadata": {
        "id": "q_NhKXRt4LTs"
      },
      "source": [
        "#### Elementwise sum"
      ]
    },
    {
      "cell_type": "code",
      "execution_count": null,
      "metadata": {
        "id": "N-kLpgBc4LTs"
      },
      "outputs": [],
      "source": [
        "x + y"
      ]
    },
    {
      "cell_type": "code",
      "execution_count": null,
      "metadata": {
        "id": "YYJHq3CL4LTs"
      },
      "outputs": [],
      "source": [
        "np.add(x,y)"
      ]
    },
    {
      "cell_type": "markdown",
      "metadata": {
        "id": "16ctPe-r4LTt"
      },
      "source": [
        "#### Elementwise difference"
      ]
    },
    {
      "cell_type": "code",
      "execution_count": null,
      "metadata": {
        "id": "BnTLT9E04LTt"
      },
      "outputs": [],
      "source": [
        "x - y"
      ]
    },
    {
      "cell_type": "code",
      "execution_count": null,
      "metadata": {
        "id": "AEdE3qLV4LTt"
      },
      "outputs": [],
      "source": [
        "np.subtract(x,y)"
      ]
    },
    {
      "cell_type": "markdown",
      "metadata": {
        "id": "NajWwIZH4LTu"
      },
      "source": [
        "#### Elementwise product"
      ]
    },
    {
      "cell_type": "code",
      "execution_count": null,
      "metadata": {
        "id": "JOFr_VVE4LTu"
      },
      "outputs": [],
      "source": [
        "x * y"
      ]
    },
    {
      "cell_type": "code",
      "execution_count": null,
      "metadata": {
        "id": "bHZ8lw0i4LTu"
      },
      "outputs": [],
      "source": [
        "np.multiply(x,y)"
      ]
    },
    {
      "cell_type": "markdown",
      "metadata": {
        "id": "QYi5wfht4LTv"
      },
      "source": [
        "#### Elementwise division"
      ]
    },
    {
      "cell_type": "code",
      "execution_count": null,
      "metadata": {
        "id": "P9vCBCmI4LTv"
      },
      "outputs": [],
      "source": [
        "x / y"
      ]
    },
    {
      "cell_type": "code",
      "execution_count": null,
      "metadata": {
        "id": "IPMHKif44LTv"
      },
      "outputs": [],
      "source": [
        "np.divide(x,y)"
      ]
    },
    {
      "cell_type": "markdown",
      "metadata": {
        "id": "A-3iXhkC4LTv"
      },
      "source": [
        "#### Elementwise square root"
      ]
    },
    {
      "cell_type": "code",
      "execution_count": null,
      "metadata": {
        "id": "3P8Cv4XY4LTw"
      },
      "outputs": [],
      "source": [
        "np.sqrt(x)"
      ]
    },
    {
      "cell_type": "markdown",
      "metadata": {
        "id": "j5oGLFCJ4LTw"
      },
      "source": [
        "#### Matrix Multiplication\n"
      ]
    },
    {
      "cell_type": "code",
      "execution_count": null,
      "metadata": {
        "id": "yLWyULAB4LTw"
      },
      "outputs": [],
      "source": [
        "np.dot(x,y)"
      ]
    },
    {
      "cell_type": "code",
      "execution_count": null,
      "metadata": {
        "id": "7639Y2gU4LTx"
      },
      "outputs": [],
      "source": [
        "x.dot(y)"
      ]
    },
    {
      "cell_type": "code",
      "execution_count": null,
      "metadata": {
        "id": "gGZ_NH_64LTx"
      },
      "outputs": [],
      "source": [
        "y.dot(x)"
      ]
    },
    {
      "cell_type": "markdown",
      "metadata": {
        "id": "QQ35Pidr4LTy"
      },
      "source": [
        "### Sum"
      ]
    },
    {
      "cell_type": "code",
      "execution_count": null,
      "metadata": {
        "id": "NZavs28B4LTy"
      },
      "outputs": [],
      "source": [
        "np.sum(x)"
      ]
    },
    {
      "cell_type": "markdown",
      "metadata": {
        "id": "MVF6qgye4LTz"
      },
      "source": [
        "##### Column wise sum"
      ]
    },
    {
      "cell_type": "code",
      "execution_count": null,
      "metadata": {
        "id": "2DOAAz0p4LTz"
      },
      "outputs": [],
      "source": [
        "np.sum(x, axis=0)"
      ]
    },
    {
      "cell_type": "markdown",
      "metadata": {
        "id": "JrrT_1FZ4LTz"
      },
      "source": [
        "##### Row wise sum"
      ]
    },
    {
      "cell_type": "code",
      "execution_count": null,
      "metadata": {
        "id": "P6AltXhm4LT0"
      },
      "outputs": [],
      "source": [
        "np.sum(x, axis=1)"
      ]
    },
    {
      "cell_type": "markdown",
      "metadata": {
        "id": "GU-fvOfd4LT0"
      },
      "source": [
        "### Creating arrays like..."
      ]
    },
    {
      "cell_type": "code",
      "execution_count": null,
      "metadata": {
        "id": "ZBVy8biI4LT0"
      },
      "outputs": [],
      "source": [
        "a = np.array([[1,2],[3,4],[5,6],[7,8]])\n",
        "print (a)"
      ]
    },
    {
      "cell_type": "code",
      "execution_count": null,
      "metadata": {
        "id": "RXPG2tcs4LT1"
      },
      "outputs": [],
      "source": [
        "b = np.ones_like(a)\n",
        "print (b)"
      ]
    },
    {
      "cell_type": "markdown",
      "metadata": {
        "id": "LhXxuy7p4LT1"
      },
      "source": [
        "##### Prototype array and the created arrays will have the elements of same datatype"
      ]
    },
    {
      "cell_type": "code",
      "execution_count": null,
      "metadata": {
        "id": "riT13D5A4LT2"
      },
      "outputs": [],
      "source": [
        "print (a.dtype)\n",
        "print (b.dtype)"
      ]
    },
    {
      "cell_type": "code",
      "execution_count": null,
      "metadata": {
        "id": "f65TyCqr4LT2"
      },
      "outputs": [],
      "source": [
        "c = np.zeros_like(a)\n",
        "print (c)"
      ]
    },
    {
      "cell_type": "code",
      "execution_count": null,
      "metadata": {
        "id": "O933mVTM4LT2"
      },
      "outputs": [],
      "source": [
        "d = np.empty_like(a)\n",
        "print (d)"
      ]
    },
    {
      "cell_type": "markdown",
      "metadata": {
        "id": "Da6Csmub4LT3"
      },
      "source": [
        "##### Filling data in the empty array"
      ]
    },
    {
      "cell_type": "code",
      "execution_count": null,
      "metadata": {
        "id": "TyaTRXZk4LT3"
      },
      "outputs": [],
      "source": [
        "e = np.full_like(a, 5)\n",
        "print (e)"
      ]
    },
    {
      "cell_type": "markdown",
      "metadata": {
        "id": "5l56OtGL4LT4"
      },
      "source": [
        "#### Reshaping an array"
      ]
    },
    {
      "cell_type": "code",
      "execution_count": null,
      "metadata": {
        "id": "PGIOxJFP4LT4"
      },
      "outputs": [],
      "source": [
        "f = np.reshape(e, (2,4))\n",
        "print (f)"
      ]
    },
    {
      "cell_type": "markdown",
      "metadata": {
        "id": "CbhhFp-a4LT4"
      },
      "source": [
        "###### Try the following reshape"
      ]
    },
    {
      "cell_type": "code",
      "execution_count": null,
      "metadata": {
        "id": "D_kkCDIl4LT5"
      },
      "outputs": [],
      "source": [
        "g = np.reshape(f, (5,3))"
      ]
    },
    {
      "cell_type": "markdown",
      "metadata": {
        "id": "oAaHaaqZ4LT5"
      },
      "source": [
        "##### Read the error traceback and find out why the error occured"
      ]
    },
    {
      "cell_type": "markdown",
      "metadata": {
        "id": "kk6Pzl6z4LT5"
      },
      "source": [
        "##### Logical operations on array"
      ]
    },
    {
      "cell_type": "code",
      "execution_count": null,
      "metadata": {
        "id": "fMmXLgqY4LT6"
      },
      "outputs": [],
      "source": [
        "a = np.arange(5,10)\n",
        "print(a)\n",
        "bool_a = a > 7\n",
        "print (bool_a)"
      ]
    },
    {
      "cell_type": "code",
      "execution_count": null,
      "metadata": {
        "id": "L8l4VCZy4LT6"
      },
      "outputs": [],
      "source": [
        "new_a = a[bool_a]"
      ]
    },
    {
      "cell_type": "code",
      "execution_count": null,
      "metadata": {
        "id": "VZWHBWox4LT6"
      },
      "outputs": [],
      "source": [
        "new_a"
      ]
    },
    {
      "cell_type": "markdown",
      "metadata": {
        "id": "biM55vfX4LT7"
      },
      "source": [
        "##### What we did here is we created a new array from array a containing only the values greater than 7.\n",
        "Doing this in single line"
      ]
    },
    {
      "cell_type": "code",
      "execution_count": null,
      "metadata": {
        "id": "CHAPfkXj4LT7"
      },
      "outputs": [],
      "source": [
        "a = np.arange(5,10)\n",
        "new_a = a[a>7]"
      ]
    },
    {
      "cell_type": "code",
      "execution_count": null,
      "metadata": {
        "id": "Sh9MI_MU4LT7"
      },
      "outputs": [],
      "source": [
        "new_a"
      ]
    },
    {
      "cell_type": "markdown",
      "metadata": {
        "id": "B3Dn8Xle4LT8"
      },
      "source": [
        "### Few more operations on numpy array"
      ]
    },
    {
      "cell_type": "markdown",
      "metadata": {
        "id": "6xaV6Wpa4LT8"
      },
      "source": [
        "##### square root"
      ]
    },
    {
      "cell_type": "code",
      "execution_count": null,
      "metadata": {
        "id": "CBXHRdVx4LT8"
      },
      "outputs": [],
      "source": [
        "np.sqrt(a)"
      ]
    },
    {
      "cell_type": "markdown",
      "metadata": {
        "id": "N_TcOF3y4LT9"
      },
      "source": [
        "##### exponent"
      ]
    },
    {
      "cell_type": "code",
      "execution_count": null,
      "metadata": {
        "id": "qaES31lF4LT9"
      },
      "outputs": [],
      "source": [
        "np.exp(a)"
      ]
    },
    {
      "cell_type": "markdown",
      "metadata": {
        "id": "cEoKq7Rq4LT9"
      },
      "source": [
        "##### sine"
      ]
    },
    {
      "cell_type": "code",
      "execution_count": null,
      "metadata": {
        "id": "ZTqdDVs-4LT-"
      },
      "outputs": [],
      "source": [
        "np.sin(a)"
      ]
    },
    {
      "cell_type": "markdown",
      "metadata": {
        "id": "bGbFelJ-4LT-"
      },
      "source": [
        "##### consine"
      ]
    },
    {
      "cell_type": "code",
      "execution_count": null,
      "metadata": {
        "id": "qLjd1a4U4LT-"
      },
      "outputs": [],
      "source": [
        "np.cos(a)"
      ]
    },
    {
      "cell_type": "markdown",
      "metadata": {
        "id": "3lIgyLnI4LT_"
      },
      "source": [
        "##### log"
      ]
    },
    {
      "cell_type": "code",
      "execution_count": null,
      "metadata": {
        "id": "aRprQSX84LT_"
      },
      "outputs": [],
      "source": [
        "np.log(a)"
      ]
    },
    {
      "cell_type": "markdown",
      "metadata": {
        "id": "n9PUsWBG4LT_"
      },
      "source": [
        "##### Standard deviation"
      ]
    },
    {
      "cell_type": "code",
      "execution_count": null,
      "metadata": {
        "id": "7FFQiyRY4LT_"
      },
      "outputs": [],
      "source": [
        "np.std(a)"
      ]
    },
    {
      "cell_type": "code",
      "execution_count": null,
      "metadata": {
        "id": "MsqTYmec4LUA"
      },
      "outputs": [],
      "source": []
    }
  ],
  "metadata": {
    "colab": {
      "include_colab_link": true,
      "provenance": []
    },
    "kernelspec": {
      "display_name": "Python 3",
      "language": "python",
      "name": "python3"
    },
    "language_info": {
      "codemirror_mode": {
        "name": "ipython",
        "version": 3
      },
      "file_extension": ".py",
      "mimetype": "text/x-python",
      "name": "python",
      "nbconvert_exporter": "python",
      "pygments_lexer": "ipython3",
      "version": "3.10.9"
    }
  },
  "nbformat": 4,
  "nbformat_minor": 0
}
