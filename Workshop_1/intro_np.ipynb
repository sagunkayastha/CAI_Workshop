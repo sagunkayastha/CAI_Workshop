{
  "nbformat": 4,
  "nbformat_minor": 0,
  "metadata": {
    "kernelspec": {
      "display_name": "Python 3",
      "language": "python",
      "name": "python3"
    },
    "language_info": {
      "codemirror_mode": {
        "name": "ipython",
        "version": 3
      },
      "file_extension": ".py",
      "mimetype": "text/x-python",
      "name": "python",
      "nbconvert_exporter": "python",
      "pygments_lexer": "ipython3",
      "version": "3.5.2"
    },
    "colab": {
      "provenance": [],
      "include_colab_link": true
    }
  },
  "cells": [
    {
      "cell_type": "markdown",
      "metadata": {
        "id": "view-in-github",
        "colab_type": "text"
      },
      "source": [
        "<a href=\"https://colab.research.google.com/github/sagunkayastha/CAI_Workshop/blob/main/Workshop_1/intro_np.ipynb\" target=\"_parent\"><img src=\"https://colab.research.google.com/assets/colab-badge.svg\" alt=\"Open In Colab\"/></a>"
      ]
    },
    {
      "cell_type": "markdown",
      "metadata": {
        "id": "l8GVu7h94LTI"
      },
      "source": [
        "# Numpy Basics"
      ]
    },
    {
      "cell_type": "markdown",
      "metadata": {
        "id": "3vugdyxO4LTL"
      },
      "source": [
        "- Numpy is the core library for scientific computing in python.\n",
        "- It provides a high-performance multidimensional array object, and tools for working with these arrays."
      ]
    },
    {
      "cell_type": "code",
      "metadata": {
        "id": "c6wbe2SS4LTM"
      },
      "source": [
        "import numpy as np"
      ],
      "execution_count": null,
      "outputs": []
    },
    {
      "cell_type": "code",
      "metadata": {
        "id": "jDX6VklK4LTN"
      },
      "source": [
        "a = np.array([1,2,3])"
      ],
      "execution_count": null,
      "outputs": []
    },
    {
      "cell_type": "code",
      "metadata": {
        "id": "6NvF6eQU4LTO"
      },
      "source": [
        "print (a)"
      ],
      "execution_count": null,
      "outputs": []
    },
    {
      "cell_type": "code",
      "metadata": {
        "id": "OF7luIsD4LTP"
      },
      "source": [
        "print (type(a))"
      ],
      "execution_count": null,
      "outputs": []
    },
    {
      "cell_type": "markdown",
      "metadata": {
        "id": "Cpv5tCnq4LTP"
      },
      "source": [
        "ndarray -> n-dimensional array"
      ]
    },
    {
      "cell_type": "code",
      "metadata": {
        "id": "uEKk8-AF4LTQ"
      },
      "source": [
        "a.shape"
      ],
      "execution_count": null,
      "outputs": []
    },
    {
      "cell_type": "markdown",
      "metadata": {
        "id": "vKqOxI1O4LTQ"
      },
      "source": [
        "#### minimum dimensions"
      ]
    },
    {
      "cell_type": "code",
      "metadata": {
        "id": "49U2zDJ64LTR"
      },
      "source": [
        "b = np.array([1,2,3,4,5,6], ndmin=2)\n",
        "print (b)"
      ],
      "execution_count": null,
      "outputs": []
    },
    {
      "cell_type": "code",
      "metadata": {
        "id": "dFWH2to74LTR"
      },
      "source": [
        "b.shape"
      ],
      "execution_count": null,
      "outputs": []
    },
    {
      "cell_type": "markdown",
      "metadata": {
        "id": "CqJ_PlUU4LTS"
      },
      "source": [
        "#### Multidimension"
      ]
    },
    {
      "cell_type": "code",
      "metadata": {
        "id": "TfzsglHp4LTS"
      },
      "source": [
        "c = np.array( [ [1,2], [3,4] ] )\n",
        "print (\"The numpy array is :\\n \", c)\n",
        "print (\"The type of the object is  :\", type(c))\n",
        "print (\"The shape of the object is :\", c.shape)"
      ],
      "execution_count": null,
      "outputs": []
    },
    {
      "cell_type": "markdown",
      "metadata": {
        "id": "n6i8Meik4LTT"
      },
      "source": [
        "- Inner elements"
      ]
    },
    {
      "cell_type": "code",
      "metadata": {
        "id": "s_CZhP8p4LTU"
      },
      "source": [
        "c0 = c[0]\n",
        "print (\"The first object in the numpy array is: \", c0)\n",
        "print (\"The type of the first object is       :\", type(c0))\n",
        "print (\"The shape of the first object is      :\", c0.shape)"
      ],
      "execution_count": null,
      "outputs": []
    },
    {
      "cell_type": "markdown",
      "metadata": {
        "id": "zTwp3QxT4LTU"
      },
      "source": [
        "- individual elements of an array"
      ]
    },
    {
      "cell_type": "code",
      "metadata": {
        "id": "NP2gHRni4LTV"
      },
      "source": [
        "c00 = c[0][0]\n",
        "print (\"The first scalar element of the array: \", c00)\n",
        "print (\"The type of the scalar element       : \", type(c00))"
      ],
      "execution_count": null,
      "outputs": []
    },
    {
      "cell_type": "markdown",
      "metadata": {
        "id": "GpYNXLxq4LTW"
      },
      "source": [
        "#### Directly checking the datatype of elements"
      ]
    },
    {
      "cell_type": "code",
      "metadata": {
        "id": "SeJS9w5J4LTW"
      },
      "source": [
        "c.dtype"
      ],
      "execution_count": null,
      "outputs": []
    },
    {
      "cell_type": "markdown",
      "metadata": {
        "id": "yeEP-I8s4LTW"
      },
      "source": [
        "#### Let's learn a few more things along with the numpy"
      ]
    },
    {
      "cell_type": "code",
      "metadata": {
        "id": "8Je_4oNs4LTX"
      },
      "source": [
        "assert isinstance(c00, int)"
      ],
      "execution_count": null,
      "outputs": []
    },
    {
      "cell_type": "code",
      "metadata": {
        "id": "C7SG1mv44LTX"
      },
      "source": [
        "assert isinstance(c00, numpy.int64)"
      ],
      "execution_count": null,
      "outputs": []
    },
    {
      "cell_type": "code",
      "metadata": {
        "id": "oFraoK8y4LTX"
      },
      "source": [
        "assert isinstance(c00, np.int64)"
      ],
      "execution_count": null,
      "outputs": []
    },
    {
      "cell_type": "markdown",
      "metadata": {
        "id": "4QLxH4E84LTY"
      },
      "source": [
        "#### This means the items in the numpy array are 64-bit integers\n",
        "<br>\n",
        "Lets create an array that contains elements with 8-bit unsigned integers"
      ]
    },
    {
      "cell_type": "code",
      "metadata": {
        "id": "owXKJ95M4LTY"
      },
      "source": [
        "d = np.array( [ [1,2], [3,4] ], dtype='uint8' )\n",
        "print (d)"
      ],
      "execution_count": null,
      "outputs": []
    },
    {
      "cell_type": "code",
      "metadata": {
        "id": "IFHc93cvIv6y"
      },
      "source": [],
      "execution_count": null,
      "outputs": []
    },
    {
      "cell_type": "code",
      "metadata": {
        "id": "J_kcGVET4LTY"
      },
      "source": [
        "type(d[0][0])"
      ],
      "execution_count": null,
      "outputs": []
    },
    {
      "cell_type": "markdown",
      "metadata": {
        "id": "wvYNki3w4LTZ"
      },
      "source": [
        "#### For further details on different numpy types, refer to <br>\n",
        "https://www.numpy.org/devdocs/user/basics.types.html"
      ]
    },
    {
      "cell_type": "code",
      "metadata": {
        "id": "DovUfzzs4LTZ"
      },
      "source": [
        "e = np.array( [ [1,2], [3,4,5] ] )\n",
        "print (e)"
      ],
      "execution_count": null,
      "outputs": []
    },
    {
      "cell_type": "code",
      "metadata": {
        "id": "hDERIW4d4LTZ"
      },
      "source": [
        "e.shape"
      ],
      "execution_count": null,
      "outputs": []
    },
    {
      "cell_type": "markdown",
      "metadata": {
        "id": "hg-kEYNh4LTa"
      },
      "source": [
        "### Some easy methods of creating numpy arrays"
      ]
    },
    {
      "cell_type": "code",
      "metadata": {
        "id": "P6rf9zVz4LTa"
      },
      "source": [
        "a = np.zeros((2,2))\n",
        "print (a)"
      ],
      "execution_count": null,
      "outputs": []
    },
    {
      "cell_type": "code",
      "metadata": {
        "id": "fQeW3kNI4LTa"
      },
      "source": [
        "a = np.ones((2,2))\n",
        "print(a)"
      ],
      "execution_count": null,
      "outputs": []
    },
    {
      "cell_type": "code",
      "metadata": {
        "id": "piwku58F4LTb"
      },
      "source": [
        "a = np.ones((2,2), dtype=np.uint8)\n",
        "print(a)"
      ],
      "execution_count": null,
      "outputs": []
    },
    {
      "cell_type": "code",
      "metadata": {
        "id": "hC3u5aK24LTb"
      },
      "source": [
        "a = np.full((2,2), 10)\n",
        "print (a)"
      ],
      "execution_count": null,
      "outputs": []
    },
    {
      "cell_type": "markdown",
      "metadata": {
        "id": "lr7gxgtx4LTb"
      },
      "source": [
        "#### identity matrix"
      ]
    },
    {
      "cell_type": "code",
      "metadata": {
        "id": "Uh39K8rn4LTc"
      },
      "source": [
        "a = np.eye(3)\n",
        "print (a)"
      ],
      "execution_count": null,
      "outputs": []
    },
    {
      "cell_type": "markdown",
      "metadata": {
        "id": "y2fbU9xj4LTc"
      },
      "source": [
        "#### random matrix"
      ]
    },
    {
      "cell_type": "code",
      "metadata": {
        "id": "uwVb2FGM4LTc"
      },
      "source": [
        "a = np.random.random((2,2))\n",
        "print (a)"
      ],
      "execution_count": null,
      "outputs": []
    },
    {
      "cell_type": "markdown",
      "metadata": {
        "id": "ohTI3eDa4LTd"
      },
      "source": [
        "#### np.arange"
      ]
    },
    {
      "cell_type": "code",
      "metadata": {
        "id": "wf7_i7RV4LTd"
      },
      "source": [
        "a = np.arange(10)\n",
        "print (a)"
      ],
      "execution_count": null,
      "outputs": []
    },
    {
      "cell_type": "code",
      "metadata": {
        "id": "AEvtaN5n4LTd"
      },
      "source": [
        "a = np.arange(1, 10, dtype=float)\n",
        "print (a)"
      ],
      "execution_count": null,
      "outputs": []
    },
    {
      "cell_type": "code",
      "metadata": {
        "id": "BDwP1fTs4LTe"
      },
      "source": [
        "a = np.arange(1, 10, 0.5)\n",
        "print (a)"
      ],
      "execution_count": null,
      "outputs": []
    },
    {
      "cell_type": "markdown",
      "metadata": {
        "id": "I21lD7ut4LTe"
      },
      "source": [
        "#### Creating equally spaced elements in a particular range"
      ]
    },
    {
      "cell_type": "code",
      "metadata": {
        "id": "hIIwYxWn4LTe"
      },
      "source": [
        "a = np.linspace(1.0, 6.0, 11)\n",
        "print (a)"
      ],
      "execution_count": null,
      "outputs": []
    },
    {
      "cell_type": "markdown",
      "metadata": {
        "id": "7uP6HXxg4LTf"
      },
      "source": [
        "#### Random matrix"
      ]
    },
    {
      "cell_type": "code",
      "metadata": {
        "id": "VXmZ9cfh4LTf"
      },
      "source": [
        "a = np.random.random((3,3))\n",
        "print (a)"
      ],
      "execution_count": null,
      "outputs": []
    },
    {
      "cell_type": "markdown",
      "metadata": {
        "id": "2WRUQdgq4LTf"
      },
      "source": [
        "### Some basic operations on numpy array"
      ]
    },
    {
      "cell_type": "markdown",
      "metadata": {
        "id": "WCHWWshY4LTf"
      },
      "source": [
        "#### Maximum value in the array"
      ]
    },
    {
      "cell_type": "code",
      "metadata": {
        "id": "RsJwPpNI4LTg"
      },
      "source": [
        "a.max()"
      ],
      "execution_count": null,
      "outputs": []
    },
    {
      "cell_type": "markdown",
      "metadata": {
        "id": "_Vd8zD9x4LTg"
      },
      "source": [
        "#### Minimum value in the array"
      ]
    },
    {
      "cell_type": "code",
      "metadata": {
        "id": "vSnlny8c4LTg"
      },
      "source": [
        "a.min()"
      ],
      "execution_count": null,
      "outputs": []
    },
    {
      "cell_type": "markdown",
      "metadata": {
        "id": "hYhnqs9C4LTh"
      },
      "source": [
        "#### Index of maximum value in the array"
      ]
    },
    {
      "cell_type": "code",
      "metadata": {
        "id": "XnsNlCQ64LTh"
      },
      "source": [
        "a.argmax()"
      ],
      "execution_count": null,
      "outputs": []
    },
    {
      "cell_type": "markdown",
      "metadata": {
        "id": "UEgwqi-q4LTh"
      },
      "source": [
        "#### Index of minimum value in the array"
      ]
    },
    {
      "cell_type": "code",
      "metadata": {
        "id": "ond8ND-04LTh"
      },
      "source": [
        "a.argmin()"
      ],
      "execution_count": null,
      "outputs": []
    },
    {
      "cell_type": "markdown",
      "metadata": {
        "id": "O0CJJNvq4LTi"
      },
      "source": [
        "### Array Indexing and Slicing"
      ]
    },
    {
      "cell_type": "code",
      "metadata": {
        "id": "3iQyu_qo4LTi"
      },
      "source": [
        "a = np.random.random((4, 4, 3))\n",
        "print (a)"
      ],
      "execution_count": null,
      "outputs": []
    },
    {
      "cell_type": "markdown",
      "metadata": {
        "id": "tI3M24Rm4LTi"
      },
      "source": [
        "#### Let's take an example of an image so that we can visualize the array better."
      ]
    },
    {
      "cell_type": "code",
      "metadata": {
        "id": "Ypn_qQhofTo1"
      },
      "source": [
        "!wget https://static.wixstatic.com/media/e13617_1b58a11c79a9420eae4f79c09b0c1c4c~mv2.png/v1/fill/w_256,h_256,al_c/e13617_1b58a11c79a9420eae4f79c09b0c1c4c~mv2.png\n",
        "!mv e13617_1b58a11c79a9420eae4f79c09b0c1c4c~mv2.png test_image.png"
      ],
      "execution_count": null,
      "outputs": []
    },
    {
      "cell_type": "code",
      "metadata": {
        "id": "QAVsGZY_4LTj"
      },
      "source": [
        "import cv2\n",
        "image = cv2.imread('/content/test_image.png')\n",
        "image = cv2.cvtColor(image, cv2.COLOR_BGR2RGB)\n",
        "image = cv2.resize(image, (32,32))"
      ],
      "execution_count": null,
      "outputs": []
    },
    {
      "cell_type": "code",
      "metadata": {
        "id": "XNEro7L94LTj"
      },
      "source": [
        "print (image)"
      ],
      "execution_count": null,
      "outputs": []
    },
    {
      "cell_type": "code",
      "metadata": {
        "id": "Cl2Ls8va4LTj"
      },
      "source": [
        "type(image)"
      ],
      "execution_count": null,
      "outputs": []
    },
    {
      "cell_type": "code",
      "metadata": {
        "id": "GQTZ3tgv4LTj"
      },
      "source": [
        "image.shape"
      ],
      "execution_count": null,
      "outputs": []
    },
    {
      "cell_type": "markdown",
      "metadata": {
        "id": "PjZjxP41c0cD"
      },
      "source": [
        "![image.png](data:image/png;base64,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)"
      ]
    },
    {
      "cell_type": "markdown",
      "metadata": {
        "id": "l7A5CHpm4LTk"
      },
      "source": [
        "#### Let's take our array 'a' created above and try to understand the indexing"
      ]
    },
    {
      "cell_type": "code",
      "metadata": {
        "id": "6zHy1neQ4LTm"
      },
      "source": [
        "print (image[0])"
      ],
      "execution_count": null,
      "outputs": []
    },
    {
      "cell_type": "code",
      "metadata": {
        "id": "NWajI_8s4LTn"
      },
      "source": [
        "print (image[0][0])"
      ],
      "execution_count": null,
      "outputs": []
    },
    {
      "cell_type": "code",
      "metadata": {
        "id": "ZpkAS36c4LTn"
      },
      "source": [
        "print (image[0][0][0])"
      ],
      "execution_count": null,
      "outputs": []
    },
    {
      "cell_type": "markdown",
      "metadata": {
        "id": "ml782s6f4LTn"
      },
      "source": [
        "#### Now try to access another value from a random position of the array"
      ]
    },
    {
      "cell_type": "code",
      "metadata": {
        "id": "BiQgsTqS4LTn"
      },
      "source": [],
      "execution_count": null,
      "outputs": []
    },
    {
      "cell_type": "markdown",
      "metadata": {
        "id": "0FpFiGi44LTo"
      },
      "source": [
        "#### Understanding the array indexing from the image"
      ]
    },
    {
      "cell_type": "markdown",
      "metadata": {
        "id": "HMVEvksP4LTo"
      },
      "source": [
        "_Explain the following value in terms of the image_"
      ]
    },
    {
      "cell_type": "code",
      "metadata": {
        "id": "cmiv4PgE4LTo"
      },
      "source": [
        "image[16][16][0]"
      ],
      "execution_count": null,
      "outputs": []
    },
    {
      "cell_type": "code",
      "metadata": {
        "id": "ByojGVJk4LTo"
      },
      "source": [
        "new_image = image.copy()\n",
        "new_image[16][16] = np.array([255,0,0])"
      ],
      "execution_count": null,
      "outputs": []
    },
    {
      "cell_type": "markdown",
      "metadata": {
        "id": "JqoWlZG74LTp"
      },
      "source": [
        "#### Lets import the matplotlib package to visualize the new image. Don't panic about the code below. We will come to it very soon"
      ]
    },
    {
      "cell_type": "code",
      "metadata": {
        "id": "FaotDc484LTp"
      },
      "source": [
        "%matplotlib inline\n",
        "import matplotlib.pyplot as plt"
      ],
      "execution_count": null,
      "outputs": []
    },
    {
      "cell_type": "code",
      "metadata": {
        "id": "fMFMEHby4LTp"
      },
      "source": [
        "plt.imshow(new_image)\n",
        "plt.title(\"changed image\")\n",
        "plt.show()"
      ],
      "execution_count": null,
      "outputs": []
    },
    {
      "cell_type": "code",
      "metadata": {
        "id": "b-U1F7zN4LTp"
      },
      "source": [
        "a = np.random.random((4, 4))\n",
        "print (a)"
      ],
      "execution_count": null,
      "outputs": []
    },
    {
      "cell_type": "code",
      "metadata": {
        "id": "d6RHmZlK4LTp"
      },
      "source": [
        "b = a[:,:]\n",
        "print (b)"
      ],
      "execution_count": null,
      "outputs": []
    },
    {
      "cell_type": "code",
      "metadata": {
        "id": "z59GC-Kc4LTq"
      },
      "source": [
        "b = a[:2, :]\n",
        "print (b)"
      ],
      "execution_count": null,
      "outputs": []
    },
    {
      "cell_type": "code",
      "metadata": {
        "id": "rdjefrg84LTq"
      },
      "source": [
        "b = a[:, :2]\n",
        "print (b)"
      ],
      "execution_count": null,
      "outputs": []
    },
    {
      "cell_type": "code",
      "metadata": {
        "id": "QY6YP77Q4LTq"
      },
      "source": [
        "b = a[1:3, 1:3]\n",
        "print (b)"
      ],
      "execution_count": null,
      "outputs": []
    },
    {
      "cell_type": "markdown",
      "metadata": {
        "id": "fHUs7B6g4LTq"
      },
      "source": [
        "#### Try out more slices in the following cells"
      ]
    },
    {
      "cell_type": "code",
      "metadata": {
        "id": "-OB68eA_4LTr"
      },
      "source": [],
      "execution_count": null,
      "outputs": []
    },
    {
      "cell_type": "code",
      "metadata": {
        "id": "ir0EmQcQ4LTr"
      },
      "source": [],
      "execution_count": null,
      "outputs": []
    },
    {
      "cell_type": "code",
      "metadata": {
        "id": "H29OQSkn4LTr"
      },
      "source": [],
      "execution_count": null,
      "outputs": []
    },
    {
      "cell_type": "markdown",
      "metadata": {
        "id": "HWXSGzoq4LTr"
      },
      "source": [
        "### Array Math\n",
        "Basic mathematical functions operate elementwise on arrays, and are available both as operator overloads and as functions in the numpy moudle"
      ]
    },
    {
      "cell_type": "code",
      "metadata": {
        "id": "U2JnY-gl4LTr"
      },
      "source": [
        "x = np.array([[1,2],[3,4]], dtype=np.float64)\n",
        "y = np.array([[5,6],[7,8]], dtype=np.float64)\n",
        "print (\"x : \\n\", x)\n",
        "print (\"y : \\n\", y)"
      ],
      "execution_count": null,
      "outputs": []
    },
    {
      "cell_type": "markdown",
      "metadata": {
        "id": "q_NhKXRt4LTs"
      },
      "source": [
        "#### Elementwise sum"
      ]
    },
    {
      "cell_type": "code",
      "metadata": {
        "id": "N-kLpgBc4LTs"
      },
      "source": [
        "x + y"
      ],
      "execution_count": null,
      "outputs": []
    },
    {
      "cell_type": "code",
      "metadata": {
        "id": "YYJHq3CL4LTs"
      },
      "source": [
        "np.add(x,y)"
      ],
      "execution_count": null,
      "outputs": []
    },
    {
      "cell_type": "markdown",
      "metadata": {
        "id": "16ctPe-r4LTt"
      },
      "source": [
        "#### Elementwise difference"
      ]
    },
    {
      "cell_type": "code",
      "metadata": {
        "id": "BnTLT9E04LTt"
      },
      "source": [
        "x - y"
      ],
      "execution_count": null,
      "outputs": []
    },
    {
      "cell_type": "code",
      "metadata": {
        "id": "AEdE3qLV4LTt"
      },
      "source": [
        "np.subtract(x,y)"
      ],
      "execution_count": null,
      "outputs": []
    },
    {
      "cell_type": "markdown",
      "metadata": {
        "id": "NajWwIZH4LTu"
      },
      "source": [
        "#### Elementwise product"
      ]
    },
    {
      "cell_type": "code",
      "metadata": {
        "id": "JOFr_VVE4LTu"
      },
      "source": [
        "x * y"
      ],
      "execution_count": null,
      "outputs": []
    },
    {
      "cell_type": "code",
      "metadata": {
        "id": "bHZ8lw0i4LTu"
      },
      "source": [
        "np.multiply(x,y)"
      ],
      "execution_count": null,
      "outputs": []
    },
    {
      "cell_type": "markdown",
      "metadata": {
        "id": "QYi5wfht4LTv"
      },
      "source": [
        "#### Elementwise division"
      ]
    },
    {
      "cell_type": "code",
      "metadata": {
        "id": "P9vCBCmI4LTv"
      },
      "source": [
        "x / y"
      ],
      "execution_count": null,
      "outputs": []
    },
    {
      "cell_type": "code",
      "metadata": {
        "id": "IPMHKif44LTv"
      },
      "source": [
        "np.divide(x,y)"
      ],
      "execution_count": null,
      "outputs": []
    },
    {
      "cell_type": "markdown",
      "metadata": {
        "id": "A-3iXhkC4LTv"
      },
      "source": [
        "#### Elementwise square root"
      ]
    },
    {
      "cell_type": "code",
      "metadata": {
        "id": "3P8Cv4XY4LTw"
      },
      "source": [
        "np.sqrt(x)"
      ],
      "execution_count": null,
      "outputs": []
    },
    {
      "cell_type": "markdown",
      "metadata": {
        "id": "j5oGLFCJ4LTw"
      },
      "source": [
        "#### Matrix Multiplication\n"
      ]
    },
    {
      "cell_type": "code",
      "metadata": {
        "id": "yLWyULAB4LTw"
      },
      "source": [
        "np.dot(x,y)"
      ],
      "execution_count": null,
      "outputs": []
    },
    {
      "cell_type": "code",
      "metadata": {
        "id": "7639Y2gU4LTx"
      },
      "source": [
        "x.dot(y)"
      ],
      "execution_count": null,
      "outputs": []
    },
    {
      "cell_type": "code",
      "metadata": {
        "id": "gGZ_NH_64LTx"
      },
      "source": [
        "y.dot(x)"
      ],
      "execution_count": null,
      "outputs": []
    },
    {
      "cell_type": "markdown",
      "metadata": {
        "id": "QQ35Pidr4LTy"
      },
      "source": [
        "### Sum"
      ]
    },
    {
      "cell_type": "code",
      "metadata": {
        "id": "NZavs28B4LTy"
      },
      "source": [
        "np.sum(x)"
      ],
      "execution_count": null,
      "outputs": []
    },
    {
      "cell_type": "markdown",
      "metadata": {
        "id": "MVF6qgye4LTz"
      },
      "source": [
        "##### Column wise sum"
      ]
    },
    {
      "cell_type": "code",
      "metadata": {
        "id": "2DOAAz0p4LTz"
      },
      "source": [
        "np.sum(x, axis=0)"
      ],
      "execution_count": null,
      "outputs": []
    },
    {
      "cell_type": "markdown",
      "metadata": {
        "id": "JrrT_1FZ4LTz"
      },
      "source": [
        "##### Row wise sum"
      ]
    },
    {
      "cell_type": "code",
      "metadata": {
        "id": "P6AltXhm4LT0"
      },
      "source": [
        "np.sum(x, axis=1)"
      ],
      "execution_count": null,
      "outputs": []
    },
    {
      "cell_type": "markdown",
      "metadata": {
        "id": "GU-fvOfd4LT0"
      },
      "source": [
        "### Creating arrays like..."
      ]
    },
    {
      "cell_type": "code",
      "metadata": {
        "id": "ZBVy8biI4LT0"
      },
      "source": [
        "a = np.array([[1,2],[3,4],[5,6],[7,8]])\n",
        "print (a)"
      ],
      "execution_count": null,
      "outputs": []
    },
    {
      "cell_type": "code",
      "metadata": {
        "id": "RXPG2tcs4LT1"
      },
      "source": [
        "b = np.ones_like(a)\n",
        "print (b)"
      ],
      "execution_count": null,
      "outputs": []
    },
    {
      "cell_type": "markdown",
      "metadata": {
        "id": "LhXxuy7p4LT1"
      },
      "source": [
        "##### Prototype array and the created arrays will have the elements of same datatype"
      ]
    },
    {
      "cell_type": "code",
      "metadata": {
        "id": "riT13D5A4LT2"
      },
      "source": [
        "print (a.dtype)\n",
        "print (b.dtype)"
      ],
      "execution_count": null,
      "outputs": []
    },
    {
      "cell_type": "code",
      "metadata": {
        "id": "f65TyCqr4LT2"
      },
      "source": [
        "c = np.zeros_like(a)\n",
        "print (c)"
      ],
      "execution_count": null,
      "outputs": []
    },
    {
      "cell_type": "code",
      "metadata": {
        "id": "O933mVTM4LT2"
      },
      "source": [
        "d = np.empty_like(a)\n",
        "print (d)"
      ],
      "execution_count": null,
      "outputs": []
    },
    {
      "cell_type": "markdown",
      "metadata": {
        "id": "Da6Csmub4LT3"
      },
      "source": [
        "##### Filling data in the empty array"
      ]
    },
    {
      "cell_type": "code",
      "metadata": {
        "id": "TyaTRXZk4LT3"
      },
      "source": [
        "e = np.full_like(a, 5)\n",
        "print (e)"
      ],
      "execution_count": null,
      "outputs": []
    },
    {
      "cell_type": "markdown",
      "metadata": {
        "id": "5l56OtGL4LT4"
      },
      "source": [
        "#### Reshaping an array"
      ]
    },
    {
      "cell_type": "code",
      "metadata": {
        "id": "PGIOxJFP4LT4"
      },
      "source": [
        "f = np.reshape(e, (2,4))\n",
        "print (f)"
      ],
      "execution_count": null,
      "outputs": []
    },
    {
      "cell_type": "markdown",
      "metadata": {
        "id": "CbhhFp-a4LT4"
      },
      "source": [
        "###### Try the following reshape"
      ]
    },
    {
      "cell_type": "code",
      "metadata": {
        "id": "D_kkCDIl4LT5"
      },
      "source": [
        "g = np.reshape(f, (5,3))"
      ],
      "execution_count": null,
      "outputs": []
    },
    {
      "cell_type": "markdown",
      "metadata": {
        "id": "oAaHaaqZ4LT5"
      },
      "source": [
        "##### Read the error traceback and find out why the error occured"
      ]
    },
    {
      "cell_type": "markdown",
      "metadata": {
        "id": "kk6Pzl6z4LT5"
      },
      "source": [
        "##### Logical operations on array"
      ]
    },
    {
      "cell_type": "code",
      "metadata": {
        "id": "fMmXLgqY4LT6"
      },
      "source": [
        "a = np.arange(5,10)\n",
        "print(a)\n",
        "bool_a = a > 7\n",
        "print (bool_a)"
      ],
      "execution_count": null,
      "outputs": []
    },
    {
      "cell_type": "code",
      "metadata": {
        "id": "L8l4VCZy4LT6"
      },
      "source": [
        "new_a = a[bool_a]"
      ],
      "execution_count": null,
      "outputs": []
    },
    {
      "cell_type": "code",
      "metadata": {
        "id": "VZWHBWox4LT6"
      },
      "source": [
        "new_a"
      ],
      "execution_count": null,
      "outputs": []
    },
    {
      "cell_type": "markdown",
      "metadata": {
        "id": "biM55vfX4LT7"
      },
      "source": [
        "##### What we did here is we created a new array from array a containing only the values greater than 7.\n",
        "Doing this in single line"
      ]
    },
    {
      "cell_type": "code",
      "metadata": {
        "id": "CHAPfkXj4LT7"
      },
      "source": [
        "a = np.arange(5,10)\n",
        "new_a = a[a>7]"
      ],
      "execution_count": null,
      "outputs": []
    },
    {
      "cell_type": "code",
      "metadata": {
        "id": "Sh9MI_MU4LT7"
      },
      "source": [
        "new_a"
      ],
      "execution_count": null,
      "outputs": []
    },
    {
      "cell_type": "markdown",
      "metadata": {
        "id": "B3Dn8Xle4LT8"
      },
      "source": [
        "### Few more operations on numpy array"
      ]
    },
    {
      "cell_type": "markdown",
      "metadata": {
        "id": "6xaV6Wpa4LT8"
      },
      "source": [
        "##### square root"
      ]
    },
    {
      "cell_type": "code",
      "metadata": {
        "id": "CBXHRdVx4LT8"
      },
      "source": [
        "np.sqrt(a)"
      ],
      "execution_count": null,
      "outputs": []
    },
    {
      "cell_type": "markdown",
      "metadata": {
        "id": "N_TcOF3y4LT9"
      },
      "source": [
        "##### exponent"
      ]
    },
    {
      "cell_type": "code",
      "metadata": {
        "id": "qaES31lF4LT9"
      },
      "source": [
        "np.exp(a)"
      ],
      "execution_count": null,
      "outputs": []
    },
    {
      "cell_type": "markdown",
      "metadata": {
        "id": "cEoKq7Rq4LT9"
      },
      "source": [
        "##### sine"
      ]
    },
    {
      "cell_type": "code",
      "metadata": {
        "id": "ZTqdDVs-4LT-"
      },
      "source": [
        "np.sin(a)"
      ],
      "execution_count": null,
      "outputs": []
    },
    {
      "cell_type": "markdown",
      "metadata": {
        "id": "bGbFelJ-4LT-"
      },
      "source": [
        "##### consine"
      ]
    },
    {
      "cell_type": "code",
      "metadata": {
        "id": "qLjd1a4U4LT-"
      },
      "source": [
        "np.cos(a)"
      ],
      "execution_count": null,
      "outputs": []
    },
    {
      "cell_type": "markdown",
      "metadata": {
        "id": "3lIgyLnI4LT_"
      },
      "source": [
        "##### log"
      ]
    },
    {
      "cell_type": "code",
      "metadata": {
        "id": "aRprQSX84LT_"
      },
      "source": [
        "np.log(a)"
      ],
      "execution_count": null,
      "outputs": []
    },
    {
      "cell_type": "markdown",
      "metadata": {
        "id": "n9PUsWBG4LT_"
      },
      "source": [
        "##### Standard deviation"
      ]
    },
    {
      "cell_type": "code",
      "metadata": {
        "id": "7FFQiyRY4LT_"
      },
      "source": [
        "np.std(a)"
      ],
      "execution_count": null,
      "outputs": []
    },
    {
      "cell_type": "code",
      "metadata": {
        "id": "MsqTYmec4LUA"
      },
      "source": [],
      "execution_count": null,
      "outputs": []
    }
  ]
}