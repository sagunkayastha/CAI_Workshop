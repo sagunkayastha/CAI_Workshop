{
  "cells": [
    {
      "cell_type": "markdown",
      "metadata": {
        "id": "view-in-github",
        "colab_type": "text"
      },
      "source": [
        "<a href=\"https://colab.research.google.com/github/sagunkayastha/CAI_Workshop/blob/main/Workshop_1/Basics.ipynb\" target=\"_parent\"><img src=\"https://colab.research.google.com/assets/colab-badge.svg\" alt=\"Open In Colab\"/></a>"
      ]
    },
    {
      "cell_type": "markdown",
      "metadata": {
        "id": "xAzkIg3vnWCH"
      },
      "source": [
        "## Basic python"
      ]
    },
    {
      "cell_type": "code",
      "execution_count": null,
      "metadata": {
        "id": "4qs1qQ39nWCJ"
      },
      "outputs": [],
      "source": [
        "algorithm = ['Linear Regression', 'Logistic Regression', 'RandomForest', 'a3c']\n",
        "learning = ['Supervised', 'Supervised', 'Supervised', 'Reinforcement']\n",
        "algorithm_type = ['Regression', 'Classification', 'Regression or Classification', 'Game AI']"
      ]
    },
    {
      "cell_type": "code",
      "execution_count": null,
      "metadata": {
        "id": "f_IZtL0znWCK"
      },
      "outputs": [],
      "source": [
        "algorithm.append('k-means')\n",
        "print(algorithm)"
      ]
    },
    {
      "cell_type": "code",
      "execution_count": null,
      "metadata": {
        "id": "4EqFozySnWCL"
      },
      "outputs": [],
      "source": [
        "learning.append('Unsupervised')\n",
        "algorithm_type.append('Clustering')"
      ]
    },
    {
      "cell_type": "code",
      "execution_count": null,
      "metadata": {
        "id": "R8H1JadjnWCL"
      },
      "outputs": [],
      "source": [
        "machine_learning = {}\n",
        "machine_learning['algorithm'] = algorithm\n",
        "print(machine_learning)"
      ]
    },
    {
      "cell_type": "code",
      "execution_count": null,
      "metadata": {
        "id": "QX1cv1ZAnWCL"
      },
      "outputs": [],
      "source": [
        "machine_learning['learning'] = learning\n",
        "machine_learning['algorithm_type'] = algorithm_type\n",
        "print(machine_learning)"
      ]
    },
    {
      "cell_type": "code",
      "execution_count": null,
      "metadata": {
        "id": "l3Xtd5sXnWCL"
      },
      "outputs": [],
      "source": [
        "machine_learning['algorithm'].remove('a3c')\n",
        "print(machine_learning['algorithm'])"
      ]
    },
    {
      "cell_type": "markdown",
      "metadata": {
        "id": "oP31_7G6nWCM"
      },
      "source": [
        "## Virtual Environment and Conda environment\n",
        "\n",
        "Virtual environments and Conda environments provide a way to manage project-specific dependencies and isolate them from the system-wide Python installation.\n",
        "\n",
        " Virtual environments are Python-specific and can be created using tools like virtualenv or venv, while Conda is a more comprehensive package and environment management system that can handle packages from multiple languages. Conda is particularly useful for data science and scientific computing projects."
      ]
    },
    {
      "cell_type": "markdown",
      "metadata": {
        "id": "SMsHCc5LnWCM"
      },
      "source": [
        "## Create a virtual environment named \"myenv\"\n",
        "python -m venv myenv\n",
        "\n",
        "myenv\\Scripts\\activate\n",
        "\n",
        "source myenv/bin/activate\n",
        "\n",
        "pip install numpy\n",
        "\n",
        "deactivate\n",
        "\n",
        "\n",
        "## Create a Conda environment:\n",
        "conda create --name mycondaenv python=3.7\n",
        "\n",
        "conda activate mycondaenv\n",
        "\n",
        "conda install numpy\n",
        "\n",
        "conda deactivate\n",
        "\n",
        "\n",
        "**Conda is a versatile choice for complex projects with diverse dependencies, while virtualenv is a lightweight option for Python-specific environments. Consider your project's requirements and the broader ecosystem in which you're working when making your decision.**"
      ]
    },
    {
      "cell_type": "code",
      "execution_count": null,
      "metadata": {
        "id": "StWwC2uZnWCM"
      },
      "outputs": [],
      "source": [
        "# Define the list of packages and their versions\n",
        "packages = [\n",
        "    \"matplotlib==3.1.1\",\n",
        "    \"requests==2.22.0\",\n",
        "    \"pandas==0.25.3\",\n",
        "    \"seaborn==0.9.0\",\n",
        "    \"numpy==1.17.4\",\n",
        "    \"ipython==7.10.1\",\n",
        "    \"beautifulsoup4==4.8.1\",\n",
        "    \"graphviz==0.13.2\",\n",
        "    \"mlxtend==0.17.0\",\n",
        "    \"watermark==2.0.2\",\n",
        "    \"scikit-learn==0.22\",\n",
        "    \"ipython-sql==0.3.9\",\n",
        "    \"joblib==0.14.1\"\n",
        "]\n",
        "\n",
        "# Specify the name of the output file\n",
        "output_file = \"requirements.txt\"\n",
        "\n",
        "# Write the package names and versions to the requirements.txt file\n",
        "with open(output_file, \"w\") as f:\n",
        "    for package in packages:\n",
        "        f.write(package + \"\\n\")\n",
        "\n",
        "print(f\"Requirements written to {output_file}\")\n"
      ]
    },
    {
      "cell_type": "code",
      "execution_count": null,
      "metadata": {
        "id": "EovKNQSTnWCN"
      },
      "outputs": [],
      "source": [
        "import yaml\n",
        "\n",
        "# Define the YAML configuration\n",
        "yaml_config = \"\"\"\n",
        "name: myenv\n",
        "channels:\n",
        "  - defaults\n",
        "dependencies:\n",
        "  - python=3.7   # Specify the Python version\n",
        "  - matplotlib=3.1.1\n",
        "  - requests=2.22.0\n",
        "  - pandas=0.25.3\n",
        "  - seaborn=0.9.0\n",
        "  - numpy=1.17.4\n",
        "  - ipython=7.10.1\n",
        "  - beautifulsoup4=4.8.1\n",
        "  - graphviz=0.13.2\n",
        "  - mlxtend=0.17.0\n",
        "  - watermark=2.0.2\n",
        "  - scikit-learn=0.22\n",
        "  - ipython-sql=0.3.9\n",
        "  - joblib=0.14.1\n",
        "\n",
        "\"\"\"\n",
        "\n",
        "# Specify the name of the output YAML file\n",
        "output_file = \"myenv.yml\"\n",
        "\n",
        "# Write the YAML configuration to the file\n",
        "with open(output_file, \"w\") as f:\n",
        "    f.write(yaml_config)\n",
        "\n",
        "print(f\"YAML configuration written to {output_file}\")\n"
      ]
    },
    {
      "cell_type": "markdown",
      "metadata": {
        "id": "t7JKopi2nWCN"
      },
      "source": [
        "pip install -r requirement.txt\n",
        "\n",
        "or\n",
        "\n",
        "conda env create -f myenv.yml\n",
        "\n",
        "--------------------------------"
      ]
    },
    {
      "cell_type": "markdown",
      "metadata": {
        "id": "CkAxtPhHnWCO"
      },
      "source": [
        "#### Basic Keyboard Shortcuts\n",
        "- `Shift + Enter` to run cell\n",
        "- `Escape` to leave cell\n",
        "- `a` to add a cell above\n",
        "- `b` to add a cell below\n",
        "- `dd` to delete a cell\n",
        "- `m` to change cell to Markdown (after pressing escape)\n",
        "- `y` to change cell to Code (after pressing escape)\n",
        "- Arrow keys move cells (after pressing escape)\n",
        "- `Enter` to enter cell   \n",
        "\n",
        "\n",
        "---"
      ]
    },
    {
      "cell_type": "markdown",
      "metadata": {
        "id": "H21SOqt0nWCO"
      },
      "source": [
        "#### Getting Help\n",
        "- add question mark to end of object\n",
        "- use help(*)"
      ]
    },
    {
      "cell_type": "code",
      "execution_count": null,
      "metadata": {
        "id": "da7MRee-nWCO"
      },
      "outputs": [],
      "source": [
        "list?\n"
      ]
    },
    {
      "cell_type": "code",
      "execution_count": null,
      "metadata": {
        "id": "KPGsIdYVnWCO"
      },
      "outputs": [],
      "source": [
        "dict?"
      ]
    },
    {
      "cell_type": "code",
      "execution_count": null,
      "metadata": {
        "id": "cnfSAVoznWCP"
      },
      "outputs": [],
      "source": [
        "help(dict)"
      ]
    },
    {
      "cell_type": "markdown",
      "metadata": {
        "id": "Z_u3PUx5nWCP"
      },
      "source": [
        "## Magic Function\n",
        "The percent signs, % and %%, are one of the basic features of Jupyter Notebook\n",
        "and are called magic commands. Magic commands starting with %% will apply to\n",
        "the entire cell, while magic commands starting with % will only apply to that line."
      ]
    },
    {
      "cell_type": "markdown",
      "metadata": {
        "id": "bS8y9FCinWCP"
      },
      "source": []
    },
    {
      "cell_type": "code",
      "execution_count": null,
      "metadata": {
        "id": "HUxABh2WnWCP"
      },
      "outputs": [],
      "source": [
        "%lsmagic"
      ]
    },
    {
      "cell_type": "code",
      "execution_count": null,
      "metadata": {
        "id": "noaPlIZ-nWCP"
      },
      "outputs": [],
      "source": [
        "%mkdir test"
      ]
    },
    {
      "cell_type": "code",
      "execution_count": null,
      "metadata": {
        "id": "3Wm7Lg_ynWCP"
      },
      "outputs": [],
      "source": [
        "\n",
        "%$%time\n",
        "import numpy as np\n",
        "\n",
        "# Create a large array of random numbers\n",
        "a = np.random.rand(int(1e7))\n",
        "\n",
        "# Get runtime for the entire cell\n",
        "\n",
        "# Calculate the square root of each element in the array\n",
        "for i in range(len(a)):\n",
        "    a[i] = np.sqrt(a[i])\n"
      ]
    },
    {
      "cell_type": "code",
      "execution_count": null,
      "metadata": {
        "id": "Au2u-5P2nWCQ"
      },
      "outputs": [],
      "source": [
        "# Get runtime for one line\n",
        "%time a = [np.sqrt(_a) for _a in a]\n",
        "\"\"\"CPU time measures the actual time the CPU spends executing code, while wall time includes all time elapsed from the program's start to its completion, including time spent waiting for external resources or system-related delays.\n",
        "\n",
        "\"\"\""
      ]
    },
    {
      "cell_type": "markdown",
      "metadata": {
        "id": "B33zOHFYnWCQ"
      },
      "source": []
    },
    {
      "cell_type": "code",
      "execution_count": null,
      "metadata": {
        "id": "rx-r2eK4nWCQ"
      },
      "outputs": [],
      "source": [
        "%%bash\n",
        "\n",
        "echo \"using bash from inside Jupyter!\" > test-file.txt\n",
        "ls\n",
        "echo \"\"\n",
        "cat test-file.txt\n",
        "# rm test-file.txt"
      ]
    },
    {
      "cell_type": "code",
      "execution_count": null,
      "metadata": {
        "id": "Ly1E4yUBnWCQ"
      },
      "outputs": [],
      "source": []
    }
  ],
  "metadata": {
    "kernelspec": {
      "display_name": "Python 3",
      "name": "python3"
    },
    "language_info": {
      "codemirror_mode": {
        "name": "ipython",
        "version": 3
      },
      "file_extension": ".py",
      "mimetype": "text/x-python",
      "name": "python",
      "nbconvert_exporter": "python",
      "pygments_lexer": "ipython3",
      "version": "3.10.9"
    },
    "orig_nbformat": 4,
    "colab": {
      "provenance": [],
      "include_colab_link": true
    }
  },
  "nbformat": 4,
  "nbformat_minor": 0
}