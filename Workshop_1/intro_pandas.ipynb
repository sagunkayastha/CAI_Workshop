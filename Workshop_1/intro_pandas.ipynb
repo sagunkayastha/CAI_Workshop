{
  "cells": [
    {
      "cell_type": "markdown",
      "metadata": {
        "id": "view-in-github",
        "colab_type": "text"
      },
      "source": [
        "<a href=\"https://colab.research.google.com/github/sagunkayastha/CAI_Workshop/blob/main/Workshop_1/intro_pandas.ipynb\" target=\"_parent\"><img src=\"https://colab.research.google.com/assets/colab-badge.svg\" alt=\"Open In Colab\"/></a>"
      ]
    },
    {
      "cell_type": "markdown",
      "metadata": {
        "id": "JgByapovn_zt"
      },
      "source": [
        "# Introduction to pandas\n",
        "\n",
        "\n",
        "## What is it?\n",
        "[pandas](http://pandas.pydata.org/) is an open source [Python](http://www.python.org/) library for data analysis. We can perform data prepping, data munging and ultimately data analysis using pandas in Python."
      ]
    },
    {
      "cell_type": "code",
      "execution_count": null,
      "metadata": {
        "id": "sSdqS5kNn_zu"
      },
      "outputs": [],
      "source": [
        "import pandas as pd\n",
        "import numpy as np\n",
        "import matplotlib.pyplot as plt"
      ]
    },
    {
      "cell_type": "markdown",
      "metadata": {
        "id": "28RXt3ITn_zv"
      },
      "source": [
        "## Data Structures in pandas\n",
        "pandas introduces two new data structures - Series and Dataframe, both built on top of [NumPy](http://www.numpy.org/)"
      ]
    },
    {
      "cell_type": "markdown",
      "metadata": {
        "id": "Y0I7ZZPzn_zw"
      },
      "source": [
        "### Series"
      ]
    },
    {
      "cell_type": "markdown",
      "metadata": {
        "id": "p2wkNIPFn_zw"
      },
      "source": [
        "A Series is a one-dimentional object consisting of elements (similiar to a list, a column of an array or table). Similar to ordered structures each item in the series is assigned an index from zero to N; N beinng the size of the series."
      ]
    },
    {
      "cell_type": "code",
      "execution_count": null,
      "metadata": {
        "id": "BxP8llGJn_zw"
      },
      "outputs": [],
      "source": [
        "s = pd.Series([12, 'Batman', 2.24, 'Wayne Manor', 76000])\n",
        "print(s)"
      ]
    },
    {
      "cell_type": "markdown",
      "metadata": {
        "id": "PQ91-Xljn_zx"
      },
      "source": [
        "We can also specify our own index values when creating the series as well."
      ]
    },
    {
      "cell_type": "code",
      "execution_count": null,
      "metadata": {
        "id": "jbE24DsIn_zx"
      },
      "outputs": [],
      "source": [
        "s1 = pd.Series([12, 'Batman', 2.24, 'Wayne Manor', 76000], index=[5, 4, 3, 2, 1])\n",
        "print(s1)"
      ]
    },
    {
      "cell_type": "markdown",
      "metadata": {
        "id": "mxPlzGnTn_zx"
      },
      "source": [
        "The datatype for the index values doesn't necessary have to be an integer."
      ]
    },
    {
      "cell_type": "code",
      "execution_count": null,
      "metadata": {
        "id": "jInXi7txn_zx"
      },
      "outputs": [],
      "source": [
        "s2 = pd.Series([12, 'Batman', 2.24, 'Wayne Manor', 76000], index=['A', 'B', 'C', 'D', 'E'])\n",
        "print(s2)"
      ]
    },
    {
      "cell_type": "markdown",
      "metadata": {
        "id": "5rIL5hfGn_zy"
      },
      "source": [
        "We can simply use the index values to access the elements in the series"
      ]
    },
    {
      "cell_type": "code",
      "execution_count": null,
      "metadata": {
        "id": "CO9GmDuZn_zy"
      },
      "outputs": [],
      "source": [
        "print(s1[3])\n",
        "\n",
        "print(s2['A'])"
      ]
    },
    {
      "cell_type": "markdown",
      "metadata": {
        "id": "n80QTp30n_zy"
      },
      "source": [
        "Try placing other Python data types and data structures as index values for the Series Object in the cells below: (e.g. do tuple values work?)"
      ]
    },
    {
      "cell_type": "code",
      "execution_count": null,
      "metadata": {
        "id": "ONFK2ye_n_zy"
      },
      "outputs": [],
      "source": []
    },
    {
      "cell_type": "code",
      "execution_count": null,
      "metadata": {
        "id": "t_wr0zwan_zy"
      },
      "outputs": [],
      "source": []
    },
    {
      "cell_type": "code",
      "execution_count": null,
      "metadata": {
        "id": "A29UwOnOn_zy"
      },
      "outputs": [],
      "source": []
    },
    {
      "cell_type": "markdown",
      "metadata": {
        "id": "_VUkEyFvn_zy"
      },
      "source": [
        "In the examples above we passed lists to the Series constructor. Below we have a simmilar example of sending a Python dictionary."
      ]
    },
    {
      "cell_type": "code",
      "execution_count": null,
      "metadata": {
        "id": "5ib06oC2n_zz"
      },
      "outputs": [],
      "source": [
        "dict_ = {'Batman': 'Bruce Wayne', 'Superman': 'Clark Kent', 'Spiderman': 'Peter Parker', 'Iron Man': 'Tony Stark', 'Wonder Woman': 'Diana Prince'}\n",
        "superheroes = pd.Series(dict_)\n",
        "print(superheroes)"
      ]
    },
    {
      "cell_type": "code",
      "execution_count": null,
      "metadata": {
        "id": "10-AX7O1n_zz"
      },
      "outputs": [],
      "source": [
        "#Accessing values of the series\n",
        "\n",
        "superheroes['Batman']"
      ]
    },
    {
      "cell_type": "code",
      "execution_count": null,
      "metadata": {
        "id": "0uevR3Fcn_zz"
      },
      "outputs": [],
      "source": [
        "superheroes[['Batman', 'Superman', 'Wonder Woman']]"
      ]
    },
    {
      "cell_type": "markdown",
      "metadata": {
        "id": "FpTwkzfWn_zz"
      },
      "source": [
        "Now, Let us take a look at a few operations we can perform in a Series object."
      ]
    },
    {
      "cell_type": "code",
      "execution_count": null,
      "metadata": {
        "id": "RhE5IJpjn_zz"
      },
      "outputs": [],
      "source": [
        "numbers = pd.Series({'A': 2000, 'B': 4500, 'C': 1600, 'D': 3700, 'E': 2800})\n",
        "print(numbers)"
      ]
    },
    {
      "cell_type": "code",
      "execution_count": null,
      "metadata": {
        "id": "KXCnkXWNn_z0"
      },
      "outputs": [],
      "source": [
        "#Assinging new values\n",
        "\n",
        "numbers['C'] = 1750\n",
        "print(numbers)"
      ]
    },
    {
      "cell_type": "markdown",
      "metadata": {
        "id": "WikNE2CZn_z0"
      },
      "source": [
        "We may also perform boolean indexing similar to NumPy."
      ]
    },
    {
      "cell_type": "code",
      "execution_count": null,
      "metadata": {
        "id": "uZWD2sden_z0"
      },
      "outputs": [],
      "source": [
        "print(numbers[numbers < 3000])"
      ]
    },
    {
      "cell_type": "markdown",
      "metadata": {
        "id": "On_iex5-n_z0"
      },
      "source": [
        "A detailed look at how boolean indexing works for a series is given below."
      ]
    },
    {
      "cell_type": "code",
      "execution_count": null,
      "metadata": {
        "id": "l13Fo5zOn_z0"
      },
      "outputs": [],
      "source": [
        "less_than_3000 = numbers < 3000\n",
        "print(less_than_3000)\n",
        "print('\\n')\n",
        "print(numbers[less_than_3000])"
      ]
    },
    {
      "cell_type": "markdown",
      "metadata": {
        "id": "yupJVQSRn_z1"
      },
      "source": [
        "A pandas Series also iterable and you can use a loop to access the elements as well."
      ]
    },
    {
      "cell_type": "code",
      "execution_count": null,
      "metadata": {
        "id": "jvRqDB__n_z1"
      },
      "outputs": [],
      "source": [
        "for number in numbers:\n",
        "    print(number)"
      ]
    },
    {
      "cell_type": "markdown",
      "metadata": {
        "id": "C-YRiCIcn_z1"
      },
      "source": [
        "You can also check whether certain an item is in the series or not similar to other iterable Python data structures we have learned about so far."
      ]
    },
    {
      "cell_type": "code",
      "execution_count": null,
      "metadata": {
        "id": "A3iJxMNXn_z1"
      },
      "outputs": [],
      "source": [
        "print('Batman' in superheroes)\n",
        "print('Thor' in superheroes)"
      ]
    },
    {
      "cell_type": "markdown",
      "metadata": {
        "id": "mjDh8BODn_z1"
      },
      "source": [
        "However, note that the steps performed above are checking the index values of the series and not the element values themselves. So, it may not be useful in all cases."
      ]
    },
    {
      "cell_type": "code",
      "execution_count": null,
      "metadata": {
        "id": "tG_iIzffn_z1"
      },
      "outputs": [],
      "source": [
        "#Checking our numbers series to see if it contains a key value called 'A' is not exactly useful\n",
        "\n",
        "print('A' in numbers)"
      ]
    },
    {
      "cell_type": "markdown",
      "metadata": {
        "id": "jVCMOM0_n_z1"
      },
      "source": [
        "We can also perform mathmatical operations on the values in the Series."
      ]
    },
    {
      "cell_type": "code",
      "execution_count": null,
      "metadata": {
        "id": "-wWFzXGqn_z2"
      },
      "outputs": [],
      "source": [
        "numbers1 = numbers/3\n",
        "print(numbers1)"
      ]
    },
    {
      "cell_type": "code",
      "execution_count": null,
      "metadata": {
        "id": "1uUUz_Krn_z2"
      },
      "outputs": [],
      "source": [
        "#We can also use mathematical functions\n",
        "\n",
        "numbers2 = np.square(numbers)\n",
        "print(numbers2)"
      ]
    },
    {
      "cell_type": "markdown",
      "metadata": {
        "id": "gXc8LmaYn_z2"
      },
      "source": [
        "You can also concatenate two Series together, which returns the union of the two series with the addition occuring on shared index values. However, index values that are not shared will be replaced by a NULL/NaN value."
      ]
    },
    {
      "cell_type": "code",
      "execution_count": null,
      "metadata": {
        "id": "AOVpRQHDn_z2"
      },
      "outputs": [],
      "source": [
        "slice_1 = numbers[['A', 'D', 'E']]\n",
        "print(slice_1)\n",
        "print('\\n')\n",
        "slice_2 = numbers[['C', 'D']]\n",
        "print(slice_2)\n",
        "new_series = slice_1 + slice_2\n",
        "print(new_series)"
      ]
    },
    {
      "cell_type": "markdown",
      "metadata": {
        "id": "rk1yW9cOn_z2"
      },
      "source": [
        "Because A, C, and E were not present in both Series, they now have NULL/NaN values in the new Series created.\n",
        "Checking NULL values can be performed using the `isnull` and `notnull` values"
      ]
    },
    {
      "cell_type": "code",
      "execution_count": null,
      "metadata": {
        "id": "QLIu3JtRn_z3"
      },
      "outputs": [],
      "source": [
        "print(new_series)\n",
        "print('\\n')\n",
        "print(new_series.notnull())"
      ]
    },
    {
      "cell_type": "markdown",
      "metadata": {
        "id": "59IHA250n_z3"
      },
      "source": [
        "You can also grab the NULL values or the values that are not NULL using boolean logic similar to what we saw above."
      ]
    },
    {
      "cell_type": "code",
      "execution_count": null,
      "metadata": {
        "id": "iz0YfcOxn_z3"
      },
      "outputs": [],
      "source": [
        "print(new_series[new_series.notnull()])\n",
        "print('\\n')\n",
        "print(new_series[new_series.isnull()])"
      ]
    },
    {
      "cell_type": "markdown",
      "metadata": {
        "id": "Ia17UkF2n_z3"
      },
      "source": [
        "## Dataframe\n",
        "\n",
        "A Dataframe is a tabular data structure that consists of rows and colums similar to a spreadsheet or a database table. We may also think of a Dataframe as a group of Series objects that share the same index."
      ]
    },
    {
      "cell_type": "markdown",
      "metadata": {
        "id": "o-v7KEGwn_z3"
      },
      "source": [
        "### Reading Data\n",
        "\n",
        "To create a Datafram, we can pass a dictionary of lists to the Dataframe constructor.\n",
        "\n",
        "We can using the `columns` parameters to specify the order of the columns we want."
      ]
    },
    {
      "cell_type": "code",
      "execution_count": null,
      "metadata": {
        "id": "3W83eae5n_z3"
      },
      "outputs": [],
      "source": [
        "data = {'year': [2010, 2011, 2012, 2011, 2012, 2010, 2011, 2012],\n",
        "        'team': ['Chelsea', 'Manchester City', 'Chelsea', 'Manchester City', 'Chelsea', 'Liverpool', 'Liverpool', 'Chelsea'],\n",
        "        'wins': [11, 8, 10, 15, 11, 6, 10, 4],\n",
        "        'losses': [5, 8, 6, 1, 5, 10, 6, 12]}\n",
        "football = pd.DataFrame(data, columns=['team', 'wins', 'losses', 'year'], index=[1, 2,3,4,5,6,7,8])\n",
        "football"
      ]
    },
    {
      "cell_type": "markdown",
      "metadata": {
        "id": "FiUFF90Un_z4"
      },
      "source": [
        "However, we will rarely read data as shown above. Much more often, we will have a dataset that we need to read into a Dataframe to perform required operations. Let us look at a few examples of doing it."
      ]
    },
    {
      "cell_type": "markdown",
      "metadata": {
        "id": "Z5UD12LIn_z4"
      },
      "source": [
        "### Reading a csv file\n",
        "\n",
        "Reading a csv file is fairly easy. we can simply use the `read_csv` function."
      ]
    },
    {
      "cell_type": "code",
      "source": [
        "# Downloading data from github repo\n",
        "!wget https://raw.githubusercontent.com/sagunkayastha/CAI_Workshop/main/Workshop_1/data/pd_tutorial_data/data_pd.csv\n",
        "!wget https://raw.githubusercontent.com/sagunkayastha/CAI_Workshop/main/Workshop_1/data/pd_tutorial_data/u.data\n",
        "!wget https://raw.githubusercontent.com/sagunkayastha/CAI_Workshop/main/Workshop_1/data/pd_tutorial_data/u.user"
      ],
      "metadata": {
        "id": "O-Y270FgotuR"
      },
      "execution_count": null,
      "outputs": []
    },
    {
      "cell_type": "code",
      "execution_count": null,
      "metadata": {
        "id": "hogqRAURn_z4"
      },
      "outputs": [],
      "source": [
        "dataframe = pd.read_csv('data_pd.csv')\n",
        "\n",
        "dataframe"
      ]
    },
    {
      "cell_type": "markdown",
      "metadata": {
        "id": "T9RVqqxtn_z4"
      },
      "source": [
        "However, notice that the first row from the csv file was automatically coverted into column headings. we obviously do not want this. The `read_csv` function has a `names` parameter that we can use to specify  columns names."
      ]
    },
    {
      "cell_type": "code",
      "execution_count": null,
      "metadata": {
        "id": "LRPJCntin_z4"
      },
      "outputs": [],
      "source": [
        "cols = ['X', 'Y']\n",
        "dataframe = pd.read_csv('data_pd.csv', names=cols)\n",
        "\n",
        "dataframe"
      ]
    },
    {
      "cell_type": "code",
      "execution_count": null,
      "metadata": {
        "id": "yXKdfaJyn_z4"
      },
      "outputs": [],
      "source": [
        "dataframe.head()\n",
        "\n",
        "#The head command will show the first five values of the csv file by default"
      ]
    },
    {
      "cell_type": "code",
      "execution_count": null,
      "metadata": {
        "id": "LZj2su6nn_z4"
      },
      "outputs": [],
      "source": [
        "#You can simply pass a number along with the function if you want to see more or less data rows\n",
        "\n",
        "dataframe.head(6)"
      ]
    },
    {
      "cell_type": "markdown",
      "metadata": {
        "id": "cjIwJYg7n_z5"
      },
      "source": [
        "The *reader* fucntions of pandas has various parameters that can be specified while reading a file that allow skipping certain lines, handling any NUll/NaN values, etc. Explore these paramters by taking a look at the [I/O documentation](http://pandas.pydata.org/pandas-docs/stable/io.html) for pandas and familiarize yourselves with it."
      ]
    },
    {
      "cell_type": "code",
      "execution_count": null,
      "metadata": {
        "id": "N1lcr0Jen_z5"
      },
      "outputs": [],
      "source": [
        "#You can also save a dataframe in the form of a csv file\n",
        "\n",
        "dataframe.to_csv('./datafile.csv', index=False)"
      ]
    },
    {
      "cell_type": "markdown",
      "metadata": {
        "id": "T8B7VKb2n_z5"
      },
      "source": [
        "## Working with Dataframes\n",
        "\n",
        "Now that we know how to read data and get it in the form of a Dataframe lets start working with them. pandas has numerous functions for this purpose, all of which will not be covered here. You can always check out the [official pandas documentation](http://pandas.pydata.org/pandas-docs/stable/) if you wish to learn more."
      ]
    },
    {
      "cell_type": "code",
      "execution_count": null,
      "metadata": {
        "id": "7x7FI9rjn_z5"
      },
      "outputs": [],
      "source": [
        "u_cols = ['user_id', 'age', 'sex', 'occupation', 'zip_code']\n",
        "users = pd.read_csv('u.user', sep='|', names=u_cols)\n",
        "\n",
        "r_cols = ['user_id', 'movie_id', 'rating', 'unix_timestamp']\n",
        "ratings = pd.read_csv('u.data', sep='\\t', names=r_cols)\n"
      ]
    },
    {
      "cell_type": "code",
      "execution_count": null,
      "metadata": {
        "id": "X1inYed-n_z5"
      },
      "outputs": [],
      "source": [
        "users.head()"
      ]
    },
    {
      "cell_type": "code",
      "execution_count": null,
      "metadata": {
        "id": "hPbhJWNQn_z5"
      },
      "outputs": [],
      "source": [
        "ratings.head()"
      ]
    },
    {
      "cell_type": "markdown",
      "metadata": {
        "id": "6dGFXZUKn_z6"
      },
      "source": [
        "## Data Inspection\n",
        "\n",
        "pandas has a number of fucntions that show some basic information about the Dataframes we are using. The most basic one is the `info()` method."
      ]
    },
    {
      "cell_type": "code",
      "execution_count": null,
      "metadata": {
        "id": "5oe0I5nnn_z6"
      },
      "outputs": [],
      "source": [
        "users.info()"
      ]
    },
    {
      "cell_type": "markdown",
      "metadata": {
        "id": "l8n0ralUn_z6"
      },
      "source": [
        "The output above gives us some basic information of our dataframe such as:\n",
        "\n",
        "1. It is (obviously) an instance of a dataframe.\n",
        "2. We have a total of N entires indexed form 0 to N-1\n",
        "3. We have five columns, each with a unique name and a datatype within them.\n",
        "4. Finally it also shows the different datatypes present in the entire dataframe and their frequencies in parentheses  "
      ]
    },
    {
      "cell_type": "markdown",
      "metadata": {
        "id": "cTdZOTuen_z6"
      },
      "source": [
        "To only get a overview of the datatypes, you can use the `dtypes` method"
      ]
    },
    {
      "cell_type": "code",
      "execution_count": null,
      "metadata": {
        "id": "0tilHcwbn_z6"
      },
      "outputs": [],
      "source": [
        "users.dtypes"
      ]
    },
    {
      "cell_type": "markdown",
      "metadata": {
        "id": "g1d0oz7zn_z6"
      },
      "source": [
        "DataFrames also have a `describe()` method that presents a few basic statistics about the dataset's numeric columns."
      ]
    },
    {
      "cell_type": "code",
      "execution_count": null,
      "metadata": {
        "id": "TJ24_Kqvn_z6"
      },
      "outputs": [],
      "source": [
        "users.describe()"
      ]
    },
    {
      "cell_type": "markdown",
      "metadata": {
        "id": "4wO3B521n_z7"
      },
      "source": [
        "However, be careful while using this method as it returns statistical information on **all** numeric values. (we have information on the numeric user_id value which is unnecessary)"
      ]
    },
    {
      "cell_type": "code",
      "execution_count": null,
      "metadata": {
        "id": "Wza1xFvHn_z7"
      },
      "outputs": [],
      "source": [
        "#Example 2\n",
        "\n",
        "ratings.describe()"
      ]
    },
    {
      "cell_type": "markdown",
      "metadata": {
        "id": "epfwNFwjn_z7"
      },
      "source": [
        "We have used the `head` method numerous times above. Similar to head the `tail` method displays the last five records of the dataset."
      ]
    },
    {
      "cell_type": "code",
      "execution_count": null,
      "metadata": {
        "id": "_dW4-MbPn_z7"
      },
      "outputs": [],
      "source": [
        "ratings.tail(4)"
      ]
    },
    {
      "cell_type": "markdown",
      "metadata": {
        "id": "FfyDcnI-n_z7"
      },
      "source": [
        "We can also use the familiar Python slicing techniques used so far with Dataframes"
      ]
    },
    {
      "cell_type": "code",
      "execution_count": null,
      "metadata": {
        "id": "fa8dyCQ5n_z7"
      },
      "outputs": [],
      "source": [
        "users[10:20]"
      ]
    },
    {
      "cell_type": "markdown",
      "metadata": {
        "id": "5kYrZEQpn_z7"
      },
      "source": [
        "## Data Selection\n",
        "\n",
        "We can select data from specific columns according to our needs. Selecting a single column will return a Series object."
      ]
    },
    {
      "cell_type": "code",
      "execution_count": null,
      "metadata": {
        "id": "qK5PWTegn_z8"
      },
      "outputs": [],
      "source": [
        "users['occupation'].head()"
      ]
    },
    {
      "cell_type": "markdown",
      "metadata": {
        "id": "QnpBsdNCn_z8"
      },
      "source": [
        "To get multiple columns, we can pass a list of column names to the DataFrame. The output here will also be a DataFrame."
      ]
    },
    {
      "cell_type": "code",
      "execution_count": null,
      "metadata": {
        "id": "7Bab5oTWn_z8"
      },
      "outputs": [],
      "source": [
        "users[['occupation', 'sex']].head()"
      ]
    },
    {
      "cell_type": "markdown",
      "metadata": {
        "id": "BI9piDPnn_z8"
      },
      "source": [
        "Try other Selection choices with both of the dataframes we have available here in the cells below."
      ]
    },
    {
      "cell_type": "code",
      "execution_count": null,
      "metadata": {
        "id": "dVF3tqlkn_z8"
      },
      "outputs": [],
      "source": [
        "#Display age and sex of the last ten records form the users dataframe\n",
        "\n"
      ]
    },
    {
      "cell_type": "code",
      "execution_count": null,
      "metadata": {
        "id": "4gWtVUJYn_z8"
      },
      "outputs": [],
      "source": [
        "#Display the movie_id and rating columns from the 10th to 20th records form the ratings dataframe\n",
        "\n"
      ]
    },
    {
      "cell_type": "code",
      "execution_count": null,
      "metadata": {
        "id": "qwcFhiHRn_z8"
      },
      "outputs": [],
      "source": [
        "#Display the age column only for the first 8 records in the users dataframe (the output must appear in the form of a dataframe)\n",
        "\n"
      ]
    },
    {
      "cell_type": "markdown",
      "metadata": {
        "id": "95F4feKvn_z9"
      },
      "source": [
        "We can also perform row selection operations, performing boolean indexing is quite useful here."
      ]
    },
    {
      "cell_type": "code",
      "execution_count": null,
      "metadata": {
        "id": "uVQnRMvjn_z9"
      },
      "outputs": [],
      "source": [
        "print('users older than 25')\n",
        "display(users[users.age > 25].head(3))\n",
        "\n",
        "print('users aged 40 AND male')\n",
        "display(users[(users.age == 40) & (users.sex == 'M')].head(3))\n",
        "\n",
        "print('users younger than 30 OR female')\n",
        "display(users[(users.sex == 'F') | (users.age < 30)].head(3))"
      ]
    },
    {
      "cell_type": "code",
      "execution_count": null,
      "metadata": {
        "id": "WuNz-D55n_z9"
      },
      "outputs": [],
      "source": [
        "#Display the last ten records from the ratings dataframe that have a rating less than 5\n",
        "\n"
      ]
    },
    {
      "cell_type": "markdown",
      "metadata": {
        "id": "L11YHt2rn_z9"
      },
      "source": [
        "Since our index is kind of meaningless right now, let's set it to the `user_id` using the `set_index` method. By default, `set_index` returns a new DataFrame"
      ]
    },
    {
      "cell_type": "code",
      "execution_count": null,
      "metadata": {
        "id": "SGq_LdZbn_z9"
      },
      "outputs": [],
      "source": [
        "display(users.set_index('user_id').head())\n",
        "\n",
        "display(users.head())"
      ]
    },
    {
      "cell_type": "markdown",
      "metadata": {
        "id": "ppuhAnnKn_z9"
      },
      "source": [
        "As mentioned above, the `set_index` method doesn't change the old DataFrame but returns a new one."
      ]
    },
    {
      "cell_type": "code",
      "execution_count": null,
      "metadata": {
        "id": "se6xcz0Sn_z9"
      },
      "outputs": [],
      "source": [
        "with_new_index = users.set_index('user_id')\n",
        "with_new_index.head()"
      ]
    },
    {
      "cell_type": "markdown",
      "metadata": {
        "id": "DdNv696qn_z-"
      },
      "source": [
        "However, you may change the original DataFrame using the `inplace` parameter."
      ]
    },
    {
      "cell_type": "code",
      "execution_count": null,
      "metadata": {
        "id": "n07sf7i-n_z-"
      },
      "outputs": [],
      "source": [
        "users.set_index('user_id', inplace=True)\n",
        "users.head()"
      ]
    },
    {
      "cell_type": "markdown",
      "metadata": {
        "id": "Mywm9OKEn_z-"
      },
      "source": [
        "If we require the old pandas default indices, we can simply `reset_index` withe `inplace` parameter."
      ]
    },
    {
      "cell_type": "code",
      "execution_count": null,
      "metadata": {
        "id": "Qkxat1Oan_z-"
      },
      "outputs": [],
      "source": [
        "users.reset_index(inplace=True)\n",
        "users.head()"
      ]
    },
    {
      "cell_type": "markdown",
      "metadata": {
        "id": "JNk7PGEsn_z-"
      },
      "source": [
        "There are obviously far complex ways of performing data selection with pandas which wont be discussed here. Please refer to the [documentation](http://pandas.pydata.org/pandas-docs/stable/indexing.html) if you are curious."
      ]
    },
    {
      "cell_type": "markdown",
      "metadata": {
        "id": "kACS2CA5n_z-"
      },
      "source": [
        "## Some Other Useful Data 'munging' Operations"
      ]
    },
    {
      "cell_type": "markdown",
      "metadata": {
        "id": "f2kPvi-an_z-"
      },
      "source": [
        "### Renaming"
      ]
    },
    {
      "cell_type": "markdown",
      "metadata": {
        "id": "T6cfy-4kn_z_"
      },
      "source": [
        "We can use the `rename` method to rename the columns of a DataFrame"
      ]
    },
    {
      "cell_type": "code",
      "execution_count": null,
      "metadata": {
        "id": "Fdn_diKun_z_"
      },
      "outputs": [],
      "source": [
        "users.rename(columns={'user_id': 'User_ID', 'age': 'Age', 'sex': 'Sex', 'occupation': 'Profession', 'zip_code': 'ZIP_code'}).head()"
      ]
    },
    {
      "cell_type": "markdown",
      "metadata": {
        "id": "awR9VGLGn_z_"
      },
      "source": [
        "However, similar to the `set_index` method, the original DataFrame remains unchanged and to change the original DataFrame we use the `inplace` parameter again."
      ]
    },
    {
      "cell_type": "code",
      "execution_count": null,
      "metadata": {
        "id": "0eInpvgRn_z_"
      },
      "outputs": [],
      "source": [
        "users.rename(columns={'user_id': 'User_ID', 'age': 'Age', 'sex': 'Sex', 'occupation': 'Profession', 'zip_code': 'ZIP_code'}, inplace=True)\n",
        "users.head()"
      ]
    },
    {
      "cell_type": "markdown",
      "metadata": {
        "id": "FNc4-zhOn_z_"
      },
      "source": [
        "### Handling Missing values\n",
        "\n",
        "We have seen in examples encountered so far that sometimes our DataFrame may consist of missing and/or empty values (NULL,NaN,None). We have a couple of methods to handle such issues."
      ]
    },
    {
      "cell_type": "markdown",
      "metadata": {
        "id": "wfGJcNNtn_z_"
      },
      "source": [
        "#### Drop Missing Values\n",
        "\n",
        "We could simply drop all records consisting of missing values using the `dropna()` method. For the purpose of example, a DataFrame consising of missing values is created below"
      ]
    },
    {
      "cell_type": "code",
      "execution_count": null,
      "metadata": {
        "id": "cYjyWmQqn_z_"
      },
      "outputs": [],
      "source": [
        "df = pd.DataFrame({'int_col' : [1, 2, 6, 8, -1],\n",
        "                   'float_col' : [0.1, 0.2, 0.2, 10.1, None],\n",
        "                   'str_col' : ['a', 'b', None, 'c', 'a']})\n",
        "display(df)"
      ]
    },
    {
      "cell_type": "markdown",
      "metadata": {
        "id": "HM3Uw_Gbn_z_"
      },
      "source": [
        "Now using the `dropna()` method"
      ]
    },
    {
      "cell_type": "code",
      "execution_count": null,
      "metadata": {
        "id": "uCsF9B_9n_0A"
      },
      "outputs": [],
      "source": [
        "df1 = df.dropna()\n",
        "display(df1)\n",
        "\n",
        "#the same rules with other methods hold here where the original dataframe reamians unchaged, unless inplace=True"
      ]
    },
    {
      "cell_type": "markdown",
      "metadata": {
        "id": "gdL4rqbin_0A"
      },
      "source": [
        "#### FIll Missing Values\n",
        "\n",
        "However, instead of directly dropping records with missing values altogether we could also place values of our own choice using the `fillna()` method."
      ]
    },
    {
      "cell_type": "code",
      "execution_count": null,
      "metadata": {
        "id": "i1q_F0JTn_0A"
      },
      "outputs": [],
      "source": [
        "mean_float = df.float_col.mean()\n",
        "df.float_col.fillna(mean_float, inplace=True)\n",
        "df.str_col.fillna('fill', inplace=True)\n",
        "df"
      ]
    },
    {
      "cell_type": "markdown",
      "metadata": {
        "id": "zFPetLsxn_0A"
      },
      "source": [
        "Here, we have replaced the missing value in the float_col with the mean of the rest of the data and replaced the missing value in the str_col with the 'fill' string"
      ]
    },
    {
      "cell_type": "markdown",
      "metadata": {
        "id": "61j-wEcCn_0A"
      },
      "source": []
    }
  ],
  "metadata": {
    "kernelspec": {
      "display_name": "Python 3",
      "language": "python",
      "name": "python3"
    },
    "language_info": {
      "codemirror_mode": {
        "name": "ipython",
        "version": 3
      },
      "file_extension": ".py",
      "mimetype": "text/x-python",
      "name": "python",
      "nbconvert_exporter": "python",
      "pygments_lexer": "ipython3",
      "version": "3.10.9"
    },
    "colab": {
      "provenance": [],
      "include_colab_link": true
    }
  },
  "nbformat": 4,
  "nbformat_minor": 0
}