{
  "cells": [
    {
      "cell_type": "markdown",
      "metadata": {
        "id": "view-in-github",
        "colab_type": "text"
      },
      "source": [
        "<a href=\"https://colab.research.google.com/github/sagunkayastha/CAI_Workshop/blob/main/Workshop_1/DS_intro2.ipynb\" target=\"_parent\"><img src=\"https://colab.research.google.com/assets/colab-badge.svg\" alt=\"Open In Colab\"/></a>"
      ]
    },
    {
      "cell_type": "code",
      "execution_count": null,
      "metadata": {
        "id": "ZpJ5ipZIsPag"
      },
      "outputs": [],
      "source": [
        "import numpy as np\n",
        "import pandas as pd\n",
        "import matplotlib.pyplot as plt\n",
        "import seaborn as sns\n"
      ]
    },
    {
      "cell_type": "code",
      "source": [
        "# Uncomment following\n",
        "# !wget https://raw.githubusercontent.com/sagunkayastha/CAI_Workshop/main/Workshop_1/data/adult_income.csv"
      ],
      "metadata": {
        "id": "LUKLvJmxsYHL"
      },
      "execution_count": null,
      "outputs": []
    },
    {
      "cell_type": "code",
      "execution_count": null,
      "metadata": {
        "id": "G4In0XcFsPah"
      },
      "outputs": [],
      "source": [
        "df = pd.read_csv('adult_income.csv')"
      ]
    },
    {
      "cell_type": "markdown",
      "metadata": {
        "id": "b1gNk8GzsPai"
      },
      "source": [
        "\n",
        "- age: continuous.\n",
        "- workclass: Private, Self-emp-not-inc, Self-emp-inc, Federal-gov, Local-gov, State-gov, Without-pay, Never-worked.\n",
        "- fnlwgt: continuous.\n",
        "- education: Bachelors, Some-college, 11th, HS-grad, Prof-school, Assoc-acdm, Assoc-voc, 9th, 7th-8th, 12th, Masters, 1st-4th, 10th, Doctorate, 5th-6th, Preschool.\n",
        "- education-num: continuous.\n",
        "- marital-status: Married-civ-spouse, Divorced, Never-married, Separated, Widowed, Married-spouse-absent, Married-AF-spouse.\n",
        "- occupation: Tech-support, Craft-repair, Other-service, Sales, Exec-managerial, Prof-specialty, Handlers-cleaners, Machine-op-inspct, Adm-clerical, Farming-fishing, Transport-moving, Priv-house-serv, Protective-serv, Armed-Forces.\n",
        "- relationship: Wife, Own-child, Husband, Not-in-family, Other-relative, Unmarried.\n",
        "- race: White, Asian-Pac-Islander, Amer-Indian-Eskimo, Other, Black.\n",
        "- sex: Female, Male.\n",
        "- capital-gain: continuous.\n",
        "- capital-loss: continuous.\n",
        "- hours-per-week: continuous.\n",
        "\n",
        "missing values ?\n"
      ]
    },
    {
      "cell_type": "code",
      "execution_count": null,
      "metadata": {
        "id": "5mC2NC7vsPak"
      },
      "outputs": [],
      "source": [
        "df"
      ]
    },
    {
      "cell_type": "markdown",
      "metadata": {
        "id": "1R1puSLWsPal"
      },
      "source": [
        "# Question about data\n",
        "- numerical vs categorial\n",
        "- distribution\n",
        "- what to we want to model"
      ]
    },
    {
      "cell_type": "code",
      "execution_count": null,
      "metadata": {
        "id": "WHDml0AfsPal"
      },
      "outputs": [],
      "source": [
        "summary_stats = df.describe()\n",
        "summary_stats"
      ]
    },
    {
      "cell_type": "code",
      "execution_count": null,
      "metadata": {
        "id": "QmdX0FSQsPal"
      },
      "outputs": [],
      "source": [
        "df.info()"
      ]
    },
    {
      "cell_type": "code",
      "execution_count": null,
      "metadata": {
        "id": "rslKJVIgsPam"
      },
      "outputs": [],
      "source": [
        "plt.figure(figsize=(15, 20))\n",
        "sns.countplot(y = 'age', hue = 'income', data = df)"
      ]
    },
    {
      "cell_type": "markdown",
      "metadata": {
        "id": "Np5iqXZKsPam"
      },
      "source": [
        "can divide people into age groups:"
      ]
    },
    {
      "cell_type": "code",
      "execution_count": null,
      "metadata": {
        "id": "Tew9u-CLsPam"
      },
      "outputs": [],
      "source": [
        "def age_group(x):\n",
        "    if (18 < x < 31):\n",
        "        return \"19-30\"\n",
        "    if (30 < x < 41):\n",
        "        return \"31-40\"\n",
        "    if (40 < x < 51):\n",
        "        return \"41-50\"\n",
        "    if (50 < x < 61):\n",
        "        return \"51-60\"\n",
        "    if (60 < x < 71):\n",
        "        return \"61-70\"\n",
        "    else:\n",
        "        return \">70\"\n",
        "\n",
        "df['age_group'] = df['age'].map(age_group)\n"
      ]
    },
    {
      "cell_type": "code",
      "execution_count": null,
      "metadata": {
        "id": "IVasARcEsPan"
      },
      "outputs": [],
      "source": [
        "\n",
        "\n",
        "plt.figure(figsize=(10, 8))\n",
        "age_groups = ['19-30', '31-40', '41-50', '51-60', '61-70', '>70']\n",
        "sns.countplot(x='age_group', hue='income', data=df, order=age_groups)\n"
      ]
    },
    {
      "cell_type": "code",
      "execution_count": null,
      "metadata": {
        "id": "LM20aCIPsPan"
      },
      "outputs": [],
      "source": [
        "df.groupby('income')['age'].mean()"
      ]
    },
    {
      "cell_type": "code",
      "execution_count": null,
      "metadata": {
        "id": "acyONzVusPan"
      },
      "outputs": [],
      "source": [
        "# Generate a bar chart for the 'marital-status' column\n",
        "plt.figure(figsize=(12, 7))\n",
        "sns.countplot(data=df, y='marital-status', order=df['marital-status'].value_counts().index)\n",
        "plt.title('Distribution of Marital Status')\n",
        "plt.xlabel('Count')\n",
        "\n"
      ]
    },
    {
      "cell_type": "code",
      "execution_count": null,
      "metadata": {
        "id": "7YVU6KavsPao"
      },
      "outputs": [],
      "source": [
        "# Generate a bar chart for the 'marital-status' column\n",
        "plt.figure(figsize=(12, 7))\n",
        "sns.countplot(data=df, y='education', order=df['education'].value_counts().index)\n",
        "plt.title('Distribution of Marital Status')\n",
        "plt.xlabel('Count')\n",
        "\n"
      ]
    },
    {
      "cell_type": "code",
      "execution_count": null,
      "metadata": {
        "id": "g_DXalawsPap"
      },
      "outputs": [],
      "source": [
        "# Generate a bar chart to show the relationship between education and income\n",
        "plt.figure(figsize=(14, 8))\n",
        "sns.countplot(data=df, x='education', hue='income', order=df['education'].value_counts().index)\n",
        "plt.title('Income Distribution by Education Level')\n",
        "plt.xlabel('Education Level')\n",
        "plt.ylabel('Count')\n",
        "plt.xticks(rotation=45)\n",
        "plt.show()\n"
      ]
    },
    {
      "cell_type": "code",
      "execution_count": null,
      "metadata": {
        "id": "UZRfZL87sPap"
      },
      "outputs": [],
      "source": [
        "df[df['income'] == \">50K\"]"
      ]
    },
    {
      "cell_type": "code",
      "execution_count": null,
      "metadata": {
        "id": "clyECNaHsPap"
      },
      "outputs": [],
      "source": [
        "from sklearn.model_selection import train_test_split\n",
        "from sklearn.preprocessing import StandardScaler, LabelEncoder\n",
        "from sklearn.neighbors import KNeighborsClassifier\n",
        "from sklearn.metrics import accuracy_score\n",
        "# Label encode categorical variables\n",
        "\n",
        "df_income = df.copy()\n",
        "label_encoder = LabelEncoder()\n",
        "categorical_cols = df_income.select_dtypes(include=['object']).columns\n",
        "for col in categorical_cols:\n",
        "    df_income[col] = label_encoder.fit_transform(df_income[col])\n",
        "\n",
        "# Separate features and target variable\n",
        "X_income = df_income.drop('income', axis=1)\n",
        "y_income = df_income['income']\n",
        "\n",
        "# Standardize the features\n",
        "scaler = StandardScaler()\n",
        "X_income_scaled = scaler.fit_transform(X_income)\n",
        "\n",
        "# Split the data\n",
        "X_train_income, X_test_income, y_train_income, y_test_income = train_test_split(\n",
        "    X_income_scaled, y_income, test_size=0.2, random_state=42)\n",
        "\n",
        "\n",
        "# Initialize and train the KNN classifier\n",
        "knn = KNeighborsClassifier(n_neighbors=5)\n",
        "knn.fit(X_train_income, y_train_income)\n",
        "\n",
        "# Predictions and evaluation\n",
        "y_pred_income = knn.predict(X_test_income)\n",
        "accuracy = accuracy_score(y_test_income, y_pred_income)\n",
        "print(f\"Accuracy: {accuracy}\")"
      ]
    },
    {
      "cell_type": "markdown",
      "metadata": {
        "id": "expSwTLysPaq"
      },
      "source": []
    }
  ],
  "metadata": {
    "kernelspec": {
      "display_name": "base",
      "language": "python",
      "name": "python3"
    },
    "language_info": {
      "codemirror_mode": {
        "name": "ipython",
        "version": 3
      },
      "file_extension": ".py",
      "mimetype": "text/x-python",
      "name": "python",
      "nbconvert_exporter": "python",
      "pygments_lexer": "ipython3",
      "version": "3.10.9"
    },
    "orig_nbformat": 4,
    "colab": {
      "provenance": [],
      "include_colab_link": true
    }
  },
  "nbformat": 4,
  "nbformat_minor": 0
}